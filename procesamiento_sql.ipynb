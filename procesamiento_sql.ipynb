{
 "cells": [
  {
   "cell_type": "code",
   "execution_count": 1,
   "id": "6ddcc090",
   "metadata": {},
   "outputs": [],
   "source": [
    "import pandas as pd\n",
    "from datetime import datetime\n",
    "import pyodbc\n",
    "from conection_sql import conectar_sql\n",
    "from consultas_sql import consulta_tostadores_2025, consulta_consumo_MES"
   ]
  },
  {
   "cell_type": "code",
   "execution_count": 2,
   "id": "30659a80",
   "metadata": {},
   "outputs": [],
   "source": [
    "meses_en_espanol = {\n",
    "    1: 'Enero',\n",
    "    2: 'Febrero',\n",
    "    3: 'Marzo',\n",
    "    4: 'Abril',\n",
    "    5: 'Mayo',\n",
    "    6: 'Junio',\n",
    "    7: 'Julio',\n",
    "    8: 'Agosto',\n",
    "    9: 'Septiembre',\n",
    "    10: 'Octubre',\n",
    "    11: 'Noviembre',\n",
    "    12: 'Diciembre'\n",
    "}"
   ]
  },
  {
   "cell_type": "code",
   "execution_count": 3,
   "id": "d915cd09",
   "metadata": {},
   "outputs": [],
   "source": [
    "Turnos ={\n",
    "    1: 'Turno I (6am -2pm)',\n",
    "    2: 'Turno II (2pm -10pm)',\n",
    "    3: 'Turno III (10pm -6am)'\n",
    "}"
   ]
  },
  {
   "cell_type": "code",
   "execution_count": 4,
   "id": "5f018835",
   "metadata": {},
   "outputs": [],
   "source": [
    "def asignar_turno(hora):\n",
    "    if 6 <= hora< 14:\n",
    "        return 'Turno 1 (6am -2pm)'\n",
    "    elif 14 <= hora< 22:\n",
    "        return 'Turno II (2pm -10pm)'\n",
    "    else:\n",
    "        return 'Turno III (10pm -6am)'"
   ]
  },
  {
   "cell_type": "code",
   "execution_count": 5,
   "id": "311afa45",
   "metadata": {},
   "outputs": [],
   "source": [
    "def ejecutar_consulta(query, server, database, username, password):\n",
    "    try:\n",
    "        conn = conectar_sql('{SQL Server}', server, database, username, password)  #se hace conexion activa a la bd\n",
    "        df = pd.read_sql(query, conn)   #ejecutar la consulta y almacenar los resultados en un DataFrame(pd.read_sql() --> ejecuta consulta y entrega tabla, query --> consulta sql, conn --> conexion a la BD)\n",
    "        conn.close()   #cerrar conexion\n",
    "        return df\n",
    "    except pyodbc.Error as e:\n",
    "        print(f\"Error al conectar a la base de datos: {e}\")\n",
    "        return pd.DataFrame()"
   ]
  },
  {
   "cell_type": "code",
   "execution_count": 6,
   "id": "99e507ec",
   "metadata": {},
   "outputs": [],
   "source": [
    "def preparar_dataframe(df):\n",
    "    df = df.copy(deep=True)\n",
    "    df['Fecha'] = df['Fecha'].astype(\"datetime64[ns]\")\n",
    "    df['Mes_T'] = df['Mes'].map(meses_en_espanol)\n",
    "    df['Turnos'] = df['Fecha'].dt.hour.apply(asignar_turno)\n",
    "    return df"
   ]
  },
  {
   "cell_type": "code",
   "execution_count": 7,
   "id": "e1a7bf28",
   "metadata": {},
   "outputs": [],
   "source": [
    "pd.options.display.float_format='{:,.3f}'.format  #muestre numeros decimales (floats), los formatee con 3 decimales y coma como separador de miles"
   ]
  },
  {
   "cell_type": "code",
   "execution_count": 8,
   "id": "cc78ee80",
   "metadata": {},
   "outputs": [],
   "source": [
    "server = '172.28.36.36'    #dirección IP o nombre del servidor que contiene la base de datos\n",
    "database = 'eMesOS3'       #nombre de la base de datos a la que quieres conectarte\n",
    "username = 'BI'            #usuario con permisos para acceder a esa base de datos\n",
    "password = 'C0lc4f32023'   #contraseña del usuario"
   ]
  },
  {
   "cell_type": "code",
   "execution_count": 9,
   "id": "9deee541",
   "metadata": {},
   "outputs": [],
   "source": [
    "fecha_inicio = '2025-01-01'\n",
    "fecha_fin = datetime.now()\n",
    "fecha_fin_str = fecha_fin.strftime(\"%Y-%m-%d\")\n",
    "#fecha_fin_str = \"2024-04-02\"      # Si necesito hacer la consulta hasta una fecha en especifico"
   ]
  },
  {
   "cell_type": "code",
   "execution_count": 10,
   "id": "578d3cac",
   "metadata": {},
   "outputs": [
    {
     "name": "stderr",
     "output_type": "stream",
     "text": [
      "C:\\Users\\CMMHERRERA\\AppData\\Local\\Temp\\ipykernel_14248\\3002019195.py:4: UserWarning: pandas only supports SQLAlchemy connectable (engine/connection) or database string URI or sqlite3 DBAPI2 connection. Other DBAPI2 objects are not tested. Please consider using SQLAlchemy.\n",
      "  df = pd.read_sql(query, conn)   #ejecutar la consulta y almacenar los resultados en un DataFrame(pd.read_sql() --> ejecuta consulta y entrega tabla, query --> consulta sql, conn --> conexion a la BD)\n"
     ]
    }
   ],
   "source": [
    "query = consulta_tostadores_2025(fecha_inicio, fecha_fin_str)\n",
    "df_new_read = ejecutar_consulta(query, server, database, username, password)"
   ]
  },
  {
   "cell_type": "code",
   "execution_count": 11,
   "id": "96540e07",
   "metadata": {},
   "outputs": [],
   "source": [
    "# Ruta_Excel_2025_IC='G:\\Mi unidad\\Ciclo_Mejora_Tostion\\Datos\\Historicos_MES\\Detalle_TostionMDE_2025_MES.xlsx'                                                       #ruta Jesse\n",
    "# Ruta_csv_2025_IC='G:\\Mi unidad\\Ciclo_Mejora_Tostion\\Datos\\Historicos_MES\\Detalle_TostionMDE_2025_MES.csv'                                                          #ruta Jesse\n",
    "#-------------------------------------------------------------------------------------------------------------------------------------------------------------------------------------------------\n",
    "Ruta_Excel_2025_IC = r'\\\\10.28.5.232\\s3-1colcafeci-servicios-jtc\\TPM\\Colcafé Formularios\\BD Ind Tostion\\Historicos_MES\\Detalle_TostionMDE_2025_MES.xlsx'             #RUTA IC\n",
    "Ruta_csv_2025_IC = r'\\\\10.28.5.232\\s3-1colcafeci-servicios-jtc\\TPM\\Colcafé Formularios\\BD Ind Tostion\\Historicos_MES\\Detalle_TostionMDE_2025_MES.csv'                #RUTA IC\n",
    "#-------------------------------------------------------------------------------------------------------------------------------------------------------------------------------------------------\n",
    "df_new_read.to_excel(Ruta_Excel_2025_IC, index=False)\n",
    "df_new_read.to_csv(Ruta_csv_2025_IC, index=False)"
   ]
  },
  {
   "cell_type": "code",
   "execution_count": 12,
   "id": "3c112b2b",
   "metadata": {},
   "outputs": [],
   "source": [
    "# Ruta_csv_2023_2024= 'G:\\Mi unidad\\Ciclo_Mejora_Tostion\\Datos\\Historicos_MES\\Detalle_TostionMDE_2023_2024_MES.csv'                                            #Ruta Jesse que contiene la información anterior (año 2023-2024)\n",
    "Ruta_csv_2023_2024 = r'\\\\10.28.5.232\\s3-1colcafeci-servicios-jtc\\TPM\\Colcafé Formularios\\BD Ind Tostion\\Historicos_MES\\Detalle_TostionMDE_2023_2024_MES.csv'   #RUTA IC que contiene la información anterior (año 2023-2024)"
   ]
  },
  {
   "cell_type": "code",
   "execution_count": 13,
   "id": "14936de6",
   "metadata": {},
   "outputs": [],
   "source": [
    "df_ant = pd.read_csv(Ruta_csv_2023_2024)\n",
    "# Asegurarte de que df1 tenga las mismas columnas que df2\n",
    "df_ant_aligned = df_ant.reindex(columns=df_new_read.columns)  #asegura que df_ant tenga exactamente las mismas columnas y en el mismo orden que df_new_read\n",
    "# Concatenar ambos dataframes\n",
    "df_total = pd.concat([df_ant_aligned, df_new_read], ignore_index=True)  #cancatena por defecto verticalmente axis=0 y restablece los indices\n",
    "index = pd.Index(range(1, len(df_total) + 1)) #los indices de df_total se restablecen desde 1\n",
    "df_total.index = index"
   ]
  },
  {
   "cell_type": "code",
   "execution_count": 14,
   "id": "ddf36ebb",
   "metadata": {},
   "outputs": [],
   "source": [
    "# df_total.to_csv(r'G:\\Mi unidad\\Ciclo_Mejora_Tostion\\Datos\\Historicos_MES\\Detalle_TostionMDE_2023_2024_2025_MES.csv')                                                  #ruta Jesse\n",
    "#-------------------------------------------------------------------------------------------------------------------------------------------------------------------------------------------------\n",
    "df_total.to_csv(r'\\\\10.28.5.232\\s3-1colcafeci-servicios-jtc\\TPM\\Colcafé Formularios\\BD Ind Tostion\\Historicos_MES\\Detalle_TostionMDE_2023_2024_2025_MES.csv')            #RUTA IC\n",
    "#-------------------------------------------------------------------------------------------------------------------------------------------------------------------------------------------------"
   ]
  },
  {
   "cell_type": "markdown",
   "id": "cd4f15bb",
   "metadata": {},
   "source": [
    "#===================================================================================================================================================================================================================================#"
   ]
  },
  {
   "cell_type": "code",
   "execution_count": 15,
   "id": "5da0f2b7",
   "metadata": {},
   "outputs": [],
   "source": [
    "fecha_inicio = '2024-01-01'\n",
    "fecha_fin = datetime.now()\n",
    "fecha_fin_str = fecha_fin.strftime(\"%Y-%m-%d\")\n",
    "#fecha_fin_str=\"2024-04-02\"      # Si necesito hacer la consulta hasta una fecha en especifico"
   ]
  },
  {
   "cell_type": "code",
   "execution_count": 16,
   "id": "c3a760ee",
   "metadata": {},
   "outputs": [
    {
     "name": "stderr",
     "output_type": "stream",
     "text": [
      "C:\\Users\\CMMHERRERA\\AppData\\Local\\Temp\\ipykernel_14248\\3002019195.py:4: UserWarning: pandas only supports SQLAlchemy connectable (engine/connection) or database string URI or sqlite3 DBAPI2 connection. Other DBAPI2 objects are not tested. Please consider using SQLAlchemy.\n",
      "  df = pd.read_sql(query, conn)   #ejecutar la consulta y almacenar los resultados en un DataFrame(pd.read_sql() --> ejecuta consulta y entrega tabla, query --> consulta sql, conn --> conexion a la BD)\n"
     ]
    }
   ],
   "source": [
    "query = consulta_consumo_MES(fecha_inicio, fecha_fin_str)\n",
    "df_new_read = ejecutar_consulta(query, server, database, username, password)"
   ]
  },
  {
   "cell_type": "code",
   "execution_count": 17,
   "id": "5dd83509",
   "metadata": {},
   "outputs": [],
   "source": [
    "df = preparar_dataframe(df_new_read)\n",
    "\n",
    "# df.to_excel(r'G:\\Mi unidad\\Ciclo_Mejora_Tostion\\Datos\\Historicos_MES\\Consumos_MES.xlsx',sheet_name='Hoja1',index=False)                                                    #ruta Jesse\n",
    "# df.to_excel(r'G:\\.shortcut-targets-by-id\\11pRq2eSspqJd86txF6wc2_q362MdeLLp\\Ciclo_Mejora_Tostion\\Datos\\Historicos_MES\\Consumos_MES.xlsx', sheet_name='Hoja1', index=False)  #ruta Melanny\n",
    "#-------------------------------------------------------------------------------------------------------------------------------------------------------------------------------------------------\n",
    "df.to_excel(r'\\\\10.28.5.232\\s3-1colcafeci-servicios-jtc\\TPM\\Colcafé Formularios\\BD Ind Tostion\\Historicos_MES\\Consumos_MES.xlsx', sheet_name='Hoja1', index=False)                                                                      #RUTA PRUEBA\n",
    "#-------------------------------------------------------------------------------------------------------------------------------------------------------------------------------------------------"
   ]
  },
  {
   "cell_type": "code",
   "execution_count": 18,
   "id": "6f3d5ddc",
   "metadata": {},
   "outputs": [
    {
     "name": "stdout",
     "output_type": "stream",
     "text": [
      "(53280, 11)\n",
      "(304167, 37)\n",
      "(53280, 13)\n"
     ]
    }
   ],
   "source": [
    "print(df_new_read.shape)\n",
    "print(df_total.shape)\n",
    "print(df.shape)"
   ]
  }
 ],
 "metadata": {
  "kernelspec": {
   "display_name": "Python 3",
   "language": "python",
   "name": "python3"
  },
  "language_info": {
   "codemirror_mode": {
    "name": "ipython",
    "version": 3
   },
   "file_extension": ".py",
   "mimetype": "text/x-python",
   "name": "python",
   "nbconvert_exporter": "python",
   "pygments_lexer": "ipython3",
   "version": "3.13.2"
  }
 },
 "nbformat": 4,
 "nbformat_minor": 5
}
