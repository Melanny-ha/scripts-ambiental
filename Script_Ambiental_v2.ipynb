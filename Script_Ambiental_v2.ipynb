{
 "cells": [
  {
   "cell_type": "code",
   "execution_count": 1,
   "metadata": {
    "executionInfo": {
     "elapsed": 19,
     "status": "ok",
     "timestamp": 1754323666402,
     "user": {
      "displayName": "Melanny Herrera Arenas",
      "userId": "10791965058209715546"
     },
     "user_tz": 300
    },
    "id": "FlgmlIWg83re"
   },
   "outputs": [
    {
     "data": {
      "text/plain": [
       "<module 'functions' from 'c:\\\\mha\\\\scripts_ambiental\\\\scripts_ipynb\\\\functions.py'>"
      ]
     },
     "execution_count": 1,
     "metadata": {},
     "output_type": "execute_result"
    }
   ],
   "source": [
    "import pandas as pd\n",
    "import matplotlib.pyplot as plt\n",
    "import seaborn as sns\n",
    "import os\n",
    "import functions as fc\n",
    "import importlib\n",
    "importlib.reload(fc)"
   ]
  },
  {
   "cell_type": "markdown",
   "metadata": {
    "id": "YncAjaMp-eCA"
   },
   "source": [
    "##**1. Carga de Datos**"
   ]
  },
  {
   "cell_type": "markdown",
   "metadata": {
    "id": "HxngHics_W-g"
   },
   "source": [
    "**Variables globales de las rutas necesarias**"
   ]
  },
  {
   "cell_type": "markdown",
   "metadata": {
    "id": "7I1ehvMAC9SC"
   },
   "source": [
    "Lectura del archivo consolidado (años 2023-2024-2025) se realiza luego del script que accede a las bases de datos de SQL (este Script no se encuentra en Google Colab) y lectura de Consumos de gas consolidados por MES"
   ]
  },
  {
   "cell_type": "code",
   "execution_count": 2,
   "metadata": {
    "colab": {
     "base_uri": "https://localhost:8080/"
    },
    "executionInfo": {
     "elapsed": 15,
     "status": "ok",
     "timestamp": 1754323668023,
     "user": {
      "displayName": "Melanny Herrera Arenas",
      "userId": "10791965058209715546"
     },
     "user_tz": 300
    },
    "id": "5ClAYslU9BD3",
    "outputId": "61b52f92-f766-4f5a-e1d6-7ec1a0d7b17a"
   },
   "outputs": [
    {
     "name": "stdout",
     "output_type": "stream",
     "text": [
      "Ruta 'df_Tostion_Mes' encontrada.\n",
      "Ruta 'df_Tostion_MES_totales' encontrada.\n",
      "Ruta 'df_Ambiental' encontrada.\n",
      "Ruta 'RUTA_BASE' encontrada.\n"
     ]
    }
   ],
   "source": [
    "# df_Tostion_Mes = r'G:\\.shortcut-targets-by-id\\11pRq2eSspqJd86txF6wc2_q362MdeLLp\\Ciclo_Mejora_Tostion\\Datos\\Historicos_MES\\Detalle_TostionMDE_2023_2024_2025_MES.csv' #ruta original\n",
    "df_Tostion_Mes = r'\\\\10.28.5.232\\s3-1colcafeci-servicios-jtc\\TPM\\Colcafé Formularios\\BD Ind Tostion\\Historicos_MES\\Detalle_TostionMDE_2023_2024_2025_MES.csv'\n",
    "\n",
    "# df_Tostion_MES_totales = r'G:\\.shortcut-targets-by-id\\11pRq2eSspqJd86txF6wc2_q362MdeLLp\\Ciclo_Mejora_Tostion\\Datos\\Historicos_MES\\Consumos_MES.xlsx' #ruta original\n",
    "df_Tostion_MES_totales = r'\\\\10.28.5.232\\s3-1colcafeci-servicios-jtc\\TPM\\Colcafé Formularios\\BD Ind Tostion\\Historicos_MES\\Consumos_MES.xlsx'\n",
    "\n",
    "# df_Ambiental = r'G:\\.shortcut-targets-by-id\\11pRq2eSspqJd86txF6wc2_q362MdeLLp\\Ciclo_Mejora_Tostion\\Datos\\Ambiental\\Consumo_Gas_Proceso.csv' #ruta original\n",
    "df_Ambiental = r'\\\\10.28.5.232\\s3-1colcafeci-servicios-jtc\\TPM\\Colcafé Formularios\\BD Ind Tostion\\Ambiental\\Consumo_Gas_Proceso.csv'\n",
    "\n",
    "\n",
    "RUTA_BASE = r'\\\\10.28.5.232\\s3-1colcafeci-servicios-jtc\\TPM\\Colcafé Formularios\\BD Ind Tostion\\Datos_Power_BI\\\\'\n",
    "\n",
    "\n",
    "#Validacion de existencia de las rutas\n",
    "for nombre, ruta in {\n",
    "    \"df_Tostion_Mes\": df_Tostion_Mes,\n",
    "    \"df_Tostion_MES_totales\": df_Tostion_MES_totales,\n",
    "    \"df_Ambiental\": df_Ambiental,\n",
    "    \"RUTA_BASE\": RUTA_BASE,\n",
    "}.items():\n",
    "  if not os.path.exists(ruta):\n",
    "    print(f\"La ruta '{nombre}' no fue encontrada.\")\n",
    "  else:\n",
    "    print(f\"Ruta '{nombre}' encontrada.\")"
   ]
  },
  {
   "cell_type": "code",
   "execution_count": 3,
   "metadata": {
    "executionInfo": {
     "elapsed": 15386,
     "status": "ok",
     "timestamp": 1754323683411,
     "user": {
      "displayName": "Melanny Herrera Arenas",
      "userId": "10791965058209715546"
     },
     "user_tz": 300
    },
    "id": "-iMUAKvFaNjL"
   },
   "outputs": [],
   "source": [
    "df_Tostion_Mes = pd.read_csv(df_Tostion_Mes, sep=',')\n",
    "df_Tostion_MES_totales = fc.leer_archivo(df_Tostion_MES_totales, hoja=\"Hoja1\")\n",
    "df_Ambiental = fc.leer_archivo(df_Ambiental)"
   ]
  },
  {
   "cell_type": "code",
   "execution_count": 4,
   "metadata": {
    "colab": {
     "base_uri": "https://localhost:8080/",
     "height": 332
    },
    "executionInfo": {
     "elapsed": 42,
     "status": "ok",
     "timestamp": 1754323683504,
     "user": {
      "displayName": "Melanny Herrera Arenas",
      "userId": "10791965058209715546"
     },
     "user_tz": 300
    },
    "id": "d3BWZDJd9A-Z",
    "outputId": "8ffd00ff-f27c-4562-f1fb-42f394f6f3a1"
   },
   "outputs": [
    {
     "name": "stdout",
     "output_type": "stream",
     "text": [
      "La cantidad de filas del conjunto de datos es:304167 y la cantidad de columnas es: 38\n"
     ]
    },
    {
     "data": {
      "text/html": [
       "<div>\n",
       "<style scoped>\n",
       "    .dataframe tbody tr th:only-of-type {\n",
       "        vertical-align: middle;\n",
       "    }\n",
       "\n",
       "    .dataframe tbody tr th {\n",
       "        vertical-align: top;\n",
       "    }\n",
       "\n",
       "    .dataframe thead th {\n",
       "        text-align: right;\n",
       "    }\n",
       "</style>\n",
       "<table border=\"1\" class=\"dataframe\">\n",
       "  <thead>\n",
       "    <tr style=\"text-align: right;\">\n",
       "      <th></th>\n",
       "      <th>Unnamed: 0</th>\n",
       "      <th>Tostador</th>\n",
       "      <th>Material</th>\n",
       "      <th>Orden</th>\n",
       "      <th>BacheControl</th>\n",
       "      <th>DescripcionMaterial</th>\n",
       "      <th>Lote</th>\n",
       "      <th>Entry</th>\n",
       "      <th>DestinoReal</th>\n",
       "      <th>FechaHora</th>\n",
       "      <th>...</th>\n",
       "      <th>TiempoCalentamiento</th>\n",
       "      <th>TiempoPrecalentamiento</th>\n",
       "      <th>TiempoA</th>\n",
       "      <th>GasTostadorA</th>\n",
       "      <th>GasPostQuemadorA</th>\n",
       "      <th>EnergiaElectricaA</th>\n",
       "      <th>TiempoCtmto</th>\n",
       "      <th>GasTostadorCtmto</th>\n",
       "      <th>GasPostquemadorCtmto</th>\n",
       "      <th>EnergiaElectricaCtmto</th>\n",
       "    </tr>\n",
       "  </thead>\n",
       "  <tbody>\n",
       "    <tr>\n",
       "      <th>0</th>\n",
       "      <td>1</td>\n",
       "      <td>TOSTADOR 1</td>\n",
       "      <td>3002547.0</td>\n",
       "      <td>26277032</td>\n",
       "      <td>50805</td>\n",
       "      <td>Tostado Soluble COL</td>\n",
       "      <td>CM240102</td>\n",
       "      <td>Entry_{(3187356)}</td>\n",
       "      <td>CM</td>\n",
       "      <td>2024-01-02 12:19:17</td>\n",
       "      <td>...</td>\n",
       "      <td>45.0</td>\n",
       "      <td>NaN</td>\n",
       "      <td>NaN</td>\n",
       "      <td>NaN</td>\n",
       "      <td>NaN</td>\n",
       "      <td>NaN</td>\n",
       "      <td>NaN</td>\n",
       "      <td>NaN</td>\n",
       "      <td>NaN</td>\n",
       "      <td>NaN</td>\n",
       "    </tr>\n",
       "    <tr>\n",
       "      <th>1</th>\n",
       "      <td>2</td>\n",
       "      <td>TOSTADOR 1</td>\n",
       "      <td>3002547.0</td>\n",
       "      <td>26277032</td>\n",
       "      <td>50806</td>\n",
       "      <td>Tostado Soluble COL</td>\n",
       "      <td>CM240102</td>\n",
       "      <td>Entry_{(3187357)}</td>\n",
       "      <td>CM</td>\n",
       "      <td>2024-01-02 12:39:57</td>\n",
       "      <td>...</td>\n",
       "      <td>22.0</td>\n",
       "      <td>NaN</td>\n",
       "      <td>NaN</td>\n",
       "      <td>NaN</td>\n",
       "      <td>NaN</td>\n",
       "      <td>NaN</td>\n",
       "      <td>NaN</td>\n",
       "      <td>NaN</td>\n",
       "      <td>NaN</td>\n",
       "      <td>NaN</td>\n",
       "    </tr>\n",
       "    <tr>\n",
       "      <th>2</th>\n",
       "      <td>3</td>\n",
       "      <td>TOSTADOR 1</td>\n",
       "      <td>3002547.0</td>\n",
       "      <td>26277032</td>\n",
       "      <td>50810</td>\n",
       "      <td>Tostado Soluble COL</td>\n",
       "      <td>CM240102</td>\n",
       "      <td>Entry_{(3187361)}</td>\n",
       "      <td>CM</td>\n",
       "      <td>2024-01-02 13:39:09</td>\n",
       "      <td>...</td>\n",
       "      <td>25.0</td>\n",
       "      <td>NaN</td>\n",
       "      <td>NaN</td>\n",
       "      <td>NaN</td>\n",
       "      <td>NaN</td>\n",
       "      <td>NaN</td>\n",
       "      <td>NaN</td>\n",
       "      <td>NaN</td>\n",
       "      <td>NaN</td>\n",
       "      <td>NaN</td>\n",
       "    </tr>\n",
       "  </tbody>\n",
       "</table>\n",
       "<p>3 rows × 38 columns</p>\n",
       "</div>"
      ],
      "text/plain": [
       "   Unnamed: 0    Tostador   Material     Orden  BacheControl  \\\n",
       "0           1  TOSTADOR 1  3002547.0  26277032         50805   \n",
       "1           2  TOSTADOR 1  3002547.0  26277032         50806   \n",
       "2           3  TOSTADOR 1  3002547.0  26277032         50810   \n",
       "\n",
       "   DescripcionMaterial      Lote              Entry DestinoReal  \\\n",
       "0  Tostado Soluble COL  CM240102  Entry_{(3187356)}          CM   \n",
       "1  Tostado Soluble COL  CM240102  Entry_{(3187357)}          CM   \n",
       "2  Tostado Soluble COL  CM240102  Entry_{(3187361)}          CM   \n",
       "\n",
       "             FechaHora  ...  TiempoCalentamiento  TiempoPrecalentamiento  \\\n",
       "0  2024-01-02 12:19:17  ...                 45.0                     NaN   \n",
       "1  2024-01-02 12:39:57  ...                 22.0                     NaN   \n",
       "2  2024-01-02 13:39:09  ...                 25.0                     NaN   \n",
       "\n",
       "   TiempoA  GasTostadorA  GasPostQuemadorA  EnergiaElectricaA  TiempoCtmto  \\\n",
       "0      NaN           NaN               NaN                NaN          NaN   \n",
       "1      NaN           NaN               NaN                NaN          NaN   \n",
       "2      NaN           NaN               NaN                NaN          NaN   \n",
       "\n",
       "   GasTostadorCtmto  GasPostquemadorCtmto  EnergiaElectricaCtmto  \n",
       "0               NaN                   NaN                    NaN  \n",
       "1               NaN                   NaN                    NaN  \n",
       "2               NaN                   NaN                    NaN  \n",
       "\n",
       "[3 rows x 38 columns]"
      ]
     },
     "execution_count": 4,
     "metadata": {},
     "output_type": "execute_result"
    }
   ],
   "source": [
    "num_filas = df_Tostion_Mes.shape[0]\n",
    "num_columnas = df_Tostion_Mes.shape[1]\n",
    "\n",
    "print(f\"La cantidad de filas del conjunto de datos es:{num_filas} y la cantidad de columnas es: {num_columnas}\")\n",
    "df_Tostion_Mes.head(3)"
   ]
  },
  {
   "cell_type": "code",
   "execution_count": 5,
   "metadata": {
    "executionInfo": {
     "elapsed": 4,
     "status": "ok",
     "timestamp": 1754323683506,
     "user": {
      "displayName": "Melanny Herrera Arenas",
      "userId": "10791965058209715546"
     },
     "user_tz": 300
    },
    "id": "dgH39JME9A8R"
   },
   "outputs": [],
   "source": [
    "df = df_Tostion_Mes.copy(deep=True)"
   ]
  },
  {
   "cell_type": "code",
   "execution_count": null,
   "metadata": {
    "colab": {
     "base_uri": "https://localhost:8080/"
    },
    "executionInfo": {
     "elapsed": 12,
     "status": "ok",
     "timestamp": 1754323683519,
     "user": {
      "displayName": "Melanny Herrera Arenas",
      "userId": "10791965058209715546"
     },
     "user_tz": 300
    },
    "id": "gWQWWFSeIrmQ",
    "outputId": "99c04a1f-c41b-45bd-c460-3be16a7e87b3"
   },
   "outputs": [
    {
     "data": {
      "text/plain": [
       "(304167, 38)"
      ]
     },
     "execution_count": 6,
     "metadata": {},
     "output_type": "execute_result"
    }
   ],
   "source": [
    "df.shape"
   ]
  },
  {
   "cell_type": "code",
   "execution_count": 7,
   "metadata": {
    "colab": {
     "base_uri": "https://localhost:8080/",
     "height": 481
    },
    "executionInfo": {
     "elapsed": 86,
     "status": "ok",
     "timestamp": 1754323683608,
     "user": {
      "displayName": "Melanny Herrera Arenas",
      "userId": "10791965058209715546"
     },
     "user_tz": 300
    },
    "id": "pVSIgVyz9A6e",
    "outputId": "ff786c9e-ec0d-4083-931a-b8bf9f62bbb2"
   },
   "outputs": [
    {
     "data": {
      "text/html": [
       "<div>\n",
       "<style scoped>\n",
       "    .dataframe tbody tr th:only-of-type {\n",
       "        vertical-align: middle;\n",
       "    }\n",
       "\n",
       "    .dataframe tbody tr th {\n",
       "        vertical-align: top;\n",
       "    }\n",
       "\n",
       "    .dataframe thead th {\n",
       "        text-align: right;\n",
       "    }\n",
       "</style>\n",
       "<table border=\"1\" class=\"dataframe\">\n",
       "  <thead>\n",
       "    <tr style=\"text-align: right;\">\n",
       "      <th></th>\n",
       "      <th>Unnamed: 0</th>\n",
       "      <th>Tostador</th>\n",
       "      <th>Material</th>\n",
       "      <th>Orden</th>\n",
       "      <th>Bache de Control</th>\n",
       "      <th>Descripción de Material</th>\n",
       "      <th>Lote</th>\n",
       "      <th>Entry</th>\n",
       "      <th>Destino Real</th>\n",
       "      <th>Fecha Hora</th>\n",
       "      <th>...</th>\n",
       "      <th>Tiempo Calentamiento (Seg)</th>\n",
       "      <th>TiempoPrecalentamiento</th>\n",
       "      <th>Tiempo Arranque (Seg)</th>\n",
       "      <th>Gas Tostador Arranque (m3)</th>\n",
       "      <th>Gas Postquemador Arranque (m3)</th>\n",
       "      <th>Energía Electrica Arranque (kWh)</th>\n",
       "      <th>Tiempo calentamiento (Seg)</th>\n",
       "      <th>Gas Tostador Calentamiento (m3)</th>\n",
       "      <th>Gas Postquemador Calentamiento (m3)</th>\n",
       "      <th>Energía Electrica Calentamiento (kWh)</th>\n",
       "    </tr>\n",
       "  </thead>\n",
       "  <tbody>\n",
       "    <tr>\n",
       "      <th>0</th>\n",
       "      <td>1</td>\n",
       "      <td>TOSTADOR 1</td>\n",
       "      <td>3002547.0</td>\n",
       "      <td>26277032</td>\n",
       "      <td>50805</td>\n",
       "      <td>Tostado Soluble COL</td>\n",
       "      <td>CM240102</td>\n",
       "      <td>Entry_{(3187356)}</td>\n",
       "      <td>CM</td>\n",
       "      <td>2024-01-02 12:19:17</td>\n",
       "      <td>...</td>\n",
       "      <td>45.0</td>\n",
       "      <td>NaN</td>\n",
       "      <td>NaN</td>\n",
       "      <td>NaN</td>\n",
       "      <td>NaN</td>\n",
       "      <td>NaN</td>\n",
       "      <td>NaN</td>\n",
       "      <td>NaN</td>\n",
       "      <td>NaN</td>\n",
       "      <td>NaN</td>\n",
       "    </tr>\n",
       "    <tr>\n",
       "      <th>1</th>\n",
       "      <td>2</td>\n",
       "      <td>TOSTADOR 1</td>\n",
       "      <td>3002547.0</td>\n",
       "      <td>26277032</td>\n",
       "      <td>50806</td>\n",
       "      <td>Tostado Soluble COL</td>\n",
       "      <td>CM240102</td>\n",
       "      <td>Entry_{(3187357)}</td>\n",
       "      <td>CM</td>\n",
       "      <td>2024-01-02 12:39:57</td>\n",
       "      <td>...</td>\n",
       "      <td>22.0</td>\n",
       "      <td>NaN</td>\n",
       "      <td>NaN</td>\n",
       "      <td>NaN</td>\n",
       "      <td>NaN</td>\n",
       "      <td>NaN</td>\n",
       "      <td>NaN</td>\n",
       "      <td>NaN</td>\n",
       "      <td>NaN</td>\n",
       "      <td>NaN</td>\n",
       "    </tr>\n",
       "    <tr>\n",
       "      <th>2</th>\n",
       "      <td>3</td>\n",
       "      <td>TOSTADOR 1</td>\n",
       "      <td>3002547.0</td>\n",
       "      <td>26277032</td>\n",
       "      <td>50810</td>\n",
       "      <td>Tostado Soluble COL</td>\n",
       "      <td>CM240102</td>\n",
       "      <td>Entry_{(3187361)}</td>\n",
       "      <td>CM</td>\n",
       "      <td>2024-01-02 13:39:09</td>\n",
       "      <td>...</td>\n",
       "      <td>25.0</td>\n",
       "      <td>NaN</td>\n",
       "      <td>NaN</td>\n",
       "      <td>NaN</td>\n",
       "      <td>NaN</td>\n",
       "      <td>NaN</td>\n",
       "      <td>NaN</td>\n",
       "      <td>NaN</td>\n",
       "      <td>NaN</td>\n",
       "      <td>NaN</td>\n",
       "    </tr>\n",
       "    <tr>\n",
       "      <th>3</th>\n",
       "      <td>4</td>\n",
       "      <td>TOSTADOR 1</td>\n",
       "      <td>3002547.0</td>\n",
       "      <td>26277032</td>\n",
       "      <td>50811</td>\n",
       "      <td>Tostado Soluble COL</td>\n",
       "      <td>CM240102</td>\n",
       "      <td>Entry_{(3187362)}</td>\n",
       "      <td>CM</td>\n",
       "      <td>2024-01-02 13:53:57</td>\n",
       "      <td>...</td>\n",
       "      <td>35.0</td>\n",
       "      <td>NaN</td>\n",
       "      <td>NaN</td>\n",
       "      <td>NaN</td>\n",
       "      <td>NaN</td>\n",
       "      <td>NaN</td>\n",
       "      <td>NaN</td>\n",
       "      <td>NaN</td>\n",
       "      <td>NaN</td>\n",
       "      <td>NaN</td>\n",
       "    </tr>\n",
       "    <tr>\n",
       "      <th>4</th>\n",
       "      <td>5</td>\n",
       "      <td>TOSTADOR 1</td>\n",
       "      <td>3002547.0</td>\n",
       "      <td>26277032</td>\n",
       "      <td>50849</td>\n",
       "      <td>Tostado Soluble COL</td>\n",
       "      <td>CM240103</td>\n",
       "      <td>Entry_{(3187370)}</td>\n",
       "      <td>CM</td>\n",
       "      <td>2024-01-03 03:27:23</td>\n",
       "      <td>...</td>\n",
       "      <td>18.0</td>\n",
       "      <td>NaN</td>\n",
       "      <td>NaN</td>\n",
       "      <td>NaN</td>\n",
       "      <td>NaN</td>\n",
       "      <td>NaN</td>\n",
       "      <td>NaN</td>\n",
       "      <td>NaN</td>\n",
       "      <td>NaN</td>\n",
       "      <td>NaN</td>\n",
       "    </tr>\n",
       "  </tbody>\n",
       "</table>\n",
       "<p>5 rows × 38 columns</p>\n",
       "</div>"
      ],
      "text/plain": [
       "   Unnamed: 0   Tostador    Material     Orden  Bache de Control  \\\n",
       "0           1  TOSTADOR 1  3002547.0  26277032             50805   \n",
       "1           2  TOSTADOR 1  3002547.0  26277032             50806   \n",
       "2           3  TOSTADOR 1  3002547.0  26277032             50810   \n",
       "3           4  TOSTADOR 1  3002547.0  26277032             50811   \n",
       "4           5  TOSTADOR 1  3002547.0  26277032             50849   \n",
       "\n",
       "  Descripción de Material    Lote                Entry Destino Real  \\\n",
       "0     Tostado Soluble COL  CM240102  Entry_{(3187356)}           CM   \n",
       "1     Tostado Soluble COL  CM240102  Entry_{(3187357)}           CM   \n",
       "2     Tostado Soluble COL  CM240102  Entry_{(3187361)}           CM   \n",
       "3     Tostado Soluble COL  CM240102  Entry_{(3187362)}           CM   \n",
       "4     Tostado Soluble COL  CM240103  Entry_{(3187370)}           CM   \n",
       "\n",
       "            Fecha Hora  ...  Tiempo Calentamiento (Seg)  \\\n",
       "0  2024-01-02 12:19:17  ...                        45.0   \n",
       "1  2024-01-02 12:39:57  ...                        22.0   \n",
       "2  2024-01-02 13:39:09  ...                        25.0   \n",
       "3  2024-01-02 13:53:57  ...                        35.0   \n",
       "4  2024-01-03 03:27:23  ...                        18.0   \n",
       "\n",
       "   TiempoPrecalentamiento  Tiempo Arranque (Seg)  Gas Tostador Arranque (m3)  \\\n",
       "0                     NaN                    NaN                         NaN   \n",
       "1                     NaN                    NaN                         NaN   \n",
       "2                     NaN                    NaN                         NaN   \n",
       "3                     NaN                    NaN                         NaN   \n",
       "4                     NaN                    NaN                         NaN   \n",
       "\n",
       "   Gas Postquemador Arranque (m3)  Energía Electrica Arranque (kWh)  \\\n",
       "0                             NaN                               NaN   \n",
       "1                             NaN                               NaN   \n",
       "2                             NaN                               NaN   \n",
       "3                             NaN                               NaN   \n",
       "4                             NaN                               NaN   \n",
       "\n",
       "   Tiempo calentamiento (Seg)  Gas Tostador Calentamiento (m3)  \\\n",
       "0                         NaN                              NaN   \n",
       "1                         NaN                              NaN   \n",
       "2                         NaN                              NaN   \n",
       "3                         NaN                              NaN   \n",
       "4                         NaN                              NaN   \n",
       "\n",
       "   Gas Postquemador Calentamiento (m3)  Energía Electrica Calentamiento (kWh)  \n",
       "0                                  NaN                                    NaN  \n",
       "1                                  NaN                                    NaN  \n",
       "2                                  NaN                                    NaN  \n",
       "3                                  NaN                                    NaN  \n",
       "4                                  NaN                                    NaN  \n",
       "\n",
       "[5 rows x 38 columns]"
      ]
     },
     "execution_count": 7,
     "metadata": {},
     "output_type": "execute_result"
    }
   ],
   "source": [
    "#Renombre de las columnas\n",
    "df = fc.renombrar_columnas(df)\n",
    "df.head()"
   ]
  },
  {
   "cell_type": "code",
   "execution_count": 8,
   "metadata": {
    "colab": {
     "base_uri": "https://localhost:8080/"
    },
    "executionInfo": {
     "elapsed": 27,
     "status": "ok",
     "timestamp": 1754323683640,
     "user": {
      "displayName": "Melanny Herrera Arenas",
      "userId": "10791965058209715546"
     },
     "user_tz": 300
    },
    "id": "mnReyFWSIur-",
    "outputId": "9c299575-5942-4030-b263-55d9a0719909"
   },
   "outputs": [
    {
     "data": {
      "text/plain": [
       "(304167, 38)"
      ]
     },
     "execution_count": 8,
     "metadata": {},
     "output_type": "execute_result"
    }
   ],
   "source": [
    "df.shape"
   ]
  },
  {
   "cell_type": "code",
   "execution_count": 9,
   "metadata": {
    "executionInfo": {
     "elapsed": 193,
     "status": "ok",
     "timestamp": 1754323683841,
     "user": {
      "displayName": "Melanny Herrera Arenas",
      "userId": "10791965058209715546"
     },
     "user_tz": 300
    },
    "id": "XHZ-igbW9A4H"
   },
   "outputs": [],
   "source": [
    "columnas_a_excluir = ['TiempoPrecalentamiento','Tiempo Arranque (Seg)','Gas Tostador Arranque (m3)', 'Gas Postquemador Arranque (m3)','Energía Electrica Arranque (kWh)',\n",
    "                      'Tiempo calentamiento (Seg)','Gas Tostador Calentamiento (m3)','Gas Postquemador Calentamiento (m3)','Energía Electrica Calentamiento (kWh)']\n",
    "\n",
    "df_filtrado = df.drop(columns=columnas_a_excluir)   #eliminar columnas a excluir del dataframe\n",
    "\n",
    "mas_de_un_nulo = df_filtrado.isnull().sum(axis=1) >= 1  #identificar filas con valores nulos iguales o mayores a 1 campo\n",
    "\n",
    "df_resultado = df[mas_de_un_nulo]  #usar esa máscara para filtrar el df original"
   ]
  },
  {
   "cell_type": "code",
   "execution_count": 10,
   "metadata": {
    "colab": {
     "base_uri": "https://localhost:8080/"
    },
    "executionInfo": {
     "elapsed": 34,
     "status": "ok",
     "timestamp": 1754323683850,
     "user": {
      "displayName": "Melanny Herrera Arenas",
      "userId": "10791965058209715546"
     },
     "user_tz": 300
    },
    "id": "-zZ3DexL9AuZ",
    "outputId": "07662a57-a426-4073-8633-b744977d838b"
   },
   "outputs": [
    {
     "name": "stdout",
     "output_type": "stream",
     "text": [
      "La cantidad de filas nulas es : 6\n"
     ]
    }
   ],
   "source": [
    "df_resultado.head(5)\n",
    "print(f\"La cantidad de filas nulas es : {df_resultado.shape[0]}\")"
   ]
  },
  {
   "cell_type": "code",
   "execution_count": 11,
   "metadata": {
    "executionInfo": {
     "elapsed": 57,
     "status": "ok",
     "timestamp": 1754323683976,
     "user": {
      "displayName": "Melanny Herrera Arenas",
      "userId": "10791965058209715546"
     },
     "user_tz": 300
    },
    "id": "R9YqS1uJHFrS"
   },
   "outputs": [],
   "source": [
    "#filtrar el dataframe con los registros que no tienen valores nulos\n",
    "df = df[~mas_de_un_nulo].copy()"
   ]
  },
  {
   "cell_type": "code",
   "execution_count": 12,
   "metadata": {
    "colab": {
     "base_uri": "https://localhost:8080/",
     "height": 481
    },
    "executionInfo": {
     "elapsed": 74,
     "status": "ok",
     "timestamp": 1754323684062,
     "user": {
      "displayName": "Melanny Herrera Arenas",
      "userId": "10791965058209715546"
     },
     "user_tz": 300
    },
    "id": "fvQOIMlt9Ar4",
    "outputId": "d69fbe16-c1c5-4dbd-cffe-b31978de1783"
   },
   "outputs": [
    {
     "data": {
      "text/html": [
       "<div>\n",
       "<style scoped>\n",
       "    .dataframe tbody tr th:only-of-type {\n",
       "        vertical-align: middle;\n",
       "    }\n",
       "\n",
       "    .dataframe tbody tr th {\n",
       "        vertical-align: top;\n",
       "    }\n",
       "\n",
       "    .dataframe thead th {\n",
       "        text-align: right;\n",
       "    }\n",
       "</style>\n",
       "<table border=\"1\" class=\"dataframe\">\n",
       "  <thead>\n",
       "    <tr style=\"text-align: right;\">\n",
       "      <th></th>\n",
       "      <th>Tostador</th>\n",
       "      <th>Material</th>\n",
       "      <th>Orden</th>\n",
       "      <th>Bache de Control</th>\n",
       "      <th>Descripción de Material</th>\n",
       "      <th>Lote</th>\n",
       "      <th>Entry</th>\n",
       "      <th>Destino Real</th>\n",
       "      <th>Fecha Hora</th>\n",
       "      <th>Tiempo Total  Tostion    (SEG )</th>\n",
       "      <th>...</th>\n",
       "      <th>Tiempo Calentamiento (Seg)</th>\n",
       "      <th>TiempoPrecalentamiento</th>\n",
       "      <th>Tiempo Arranque (Seg)</th>\n",
       "      <th>Gas Tostador Arranque (m3)</th>\n",
       "      <th>Gas Postquemador Arranque (m3)</th>\n",
       "      <th>Energía Electrica Arranque (kWh)</th>\n",
       "      <th>Tiempo calentamiento (Seg)</th>\n",
       "      <th>Gas Tostador Calentamiento (m3)</th>\n",
       "      <th>Gas Postquemador Calentamiento (m3)</th>\n",
       "      <th>Energía Electrica Calentamiento (kWh)</th>\n",
       "    </tr>\n",
       "  </thead>\n",
       "  <tbody>\n",
       "    <tr>\n",
       "      <th>0</th>\n",
       "      <td>TOSTADOR 1</td>\n",
       "      <td>3002547.0</td>\n",
       "      <td>26277032</td>\n",
       "      <td>50805</td>\n",
       "      <td>Tostado Soluble COL</td>\n",
       "      <td>CM240102</td>\n",
       "      <td>Entry_{(3187356)}</td>\n",
       "      <td>CM</td>\n",
       "      <td>2024-01-02 12:19:17</td>\n",
       "      <td>863</td>\n",
       "      <td>...</td>\n",
       "      <td>45.0</td>\n",
       "      <td>NaN</td>\n",
       "      <td>NaN</td>\n",
       "      <td>NaN</td>\n",
       "      <td>NaN</td>\n",
       "      <td>NaN</td>\n",
       "      <td>NaN</td>\n",
       "      <td>NaN</td>\n",
       "      <td>NaN</td>\n",
       "      <td>NaN</td>\n",
       "    </tr>\n",
       "    <tr>\n",
       "      <th>1</th>\n",
       "      <td>TOSTADOR 1</td>\n",
       "      <td>3002547.0</td>\n",
       "      <td>26277032</td>\n",
       "      <td>50806</td>\n",
       "      <td>Tostado Soluble COL</td>\n",
       "      <td>CM240102</td>\n",
       "      <td>Entry_{(3187357)}</td>\n",
       "      <td>CM</td>\n",
       "      <td>2024-01-02 12:39:57</td>\n",
       "      <td>858</td>\n",
       "      <td>...</td>\n",
       "      <td>22.0</td>\n",
       "      <td>NaN</td>\n",
       "      <td>NaN</td>\n",
       "      <td>NaN</td>\n",
       "      <td>NaN</td>\n",
       "      <td>NaN</td>\n",
       "      <td>NaN</td>\n",
       "      <td>NaN</td>\n",
       "      <td>NaN</td>\n",
       "      <td>NaN</td>\n",
       "    </tr>\n",
       "    <tr>\n",
       "      <th>2</th>\n",
       "      <td>TOSTADOR 1</td>\n",
       "      <td>3002547.0</td>\n",
       "      <td>26277032</td>\n",
       "      <td>50810</td>\n",
       "      <td>Tostado Soluble COL</td>\n",
       "      <td>CM240102</td>\n",
       "      <td>Entry_{(3187361)}</td>\n",
       "      <td>CM</td>\n",
       "      <td>2024-01-02 13:39:09</td>\n",
       "      <td>1071</td>\n",
       "      <td>...</td>\n",
       "      <td>25.0</td>\n",
       "      <td>NaN</td>\n",
       "      <td>NaN</td>\n",
       "      <td>NaN</td>\n",
       "      <td>NaN</td>\n",
       "      <td>NaN</td>\n",
       "      <td>NaN</td>\n",
       "      <td>NaN</td>\n",
       "      <td>NaN</td>\n",
       "      <td>NaN</td>\n",
       "    </tr>\n",
       "    <tr>\n",
       "      <th>3</th>\n",
       "      <td>TOSTADOR 1</td>\n",
       "      <td>3002547.0</td>\n",
       "      <td>26277032</td>\n",
       "      <td>50811</td>\n",
       "      <td>Tostado Soluble COL</td>\n",
       "      <td>CM240102</td>\n",
       "      <td>Entry_{(3187362)}</td>\n",
       "      <td>CM</td>\n",
       "      <td>2024-01-02 13:53:57</td>\n",
       "      <td>904</td>\n",
       "      <td>...</td>\n",
       "      <td>35.0</td>\n",
       "      <td>NaN</td>\n",
       "      <td>NaN</td>\n",
       "      <td>NaN</td>\n",
       "      <td>NaN</td>\n",
       "      <td>NaN</td>\n",
       "      <td>NaN</td>\n",
       "      <td>NaN</td>\n",
       "      <td>NaN</td>\n",
       "      <td>NaN</td>\n",
       "    </tr>\n",
       "    <tr>\n",
       "      <th>4</th>\n",
       "      <td>TOSTADOR 1</td>\n",
       "      <td>3002547.0</td>\n",
       "      <td>26277032</td>\n",
       "      <td>50849</td>\n",
       "      <td>Tostado Soluble COL</td>\n",
       "      <td>CM240103</td>\n",
       "      <td>Entry_{(3187370)}</td>\n",
       "      <td>CM</td>\n",
       "      <td>2024-01-03 03:27:23</td>\n",
       "      <td>901</td>\n",
       "      <td>...</td>\n",
       "      <td>18.0</td>\n",
       "      <td>NaN</td>\n",
       "      <td>NaN</td>\n",
       "      <td>NaN</td>\n",
       "      <td>NaN</td>\n",
       "      <td>NaN</td>\n",
       "      <td>NaN</td>\n",
       "      <td>NaN</td>\n",
       "      <td>NaN</td>\n",
       "      <td>NaN</td>\n",
       "    </tr>\n",
       "  </tbody>\n",
       "</table>\n",
       "<p>5 rows × 37 columns</p>\n",
       "</div>"
      ],
      "text/plain": [
       "    Tostador    Material     Orden  Bache de Control Descripción de Material  \\\n",
       "0  TOSTADOR 1  3002547.0  26277032             50805     Tostado Soluble COL   \n",
       "1  TOSTADOR 1  3002547.0  26277032             50806     Tostado Soluble COL   \n",
       "2  TOSTADOR 1  3002547.0  26277032             50810     Tostado Soluble COL   \n",
       "3  TOSTADOR 1  3002547.0  26277032             50811     Tostado Soluble COL   \n",
       "4  TOSTADOR 1  3002547.0  26277032             50849     Tostado Soluble COL   \n",
       "\n",
       "     Lote                Entry Destino Real           Fecha Hora  \\\n",
       "0  CM240102  Entry_{(3187356)}           CM  2024-01-02 12:19:17   \n",
       "1  CM240102  Entry_{(3187357)}           CM  2024-01-02 12:39:57   \n",
       "2  CM240102  Entry_{(3187361)}           CM  2024-01-02 13:39:09   \n",
       "3  CM240102  Entry_{(3187362)}           CM  2024-01-02 13:53:57   \n",
       "4  CM240103  Entry_{(3187370)}           CM  2024-01-03 03:27:23   \n",
       "\n",
       "   Tiempo Total  Tostion    (SEG )  ...  Tiempo Calentamiento (Seg)  \\\n",
       "0                              863  ...                        45.0   \n",
       "1                              858  ...                        22.0   \n",
       "2                             1071  ...                        25.0   \n",
       "3                              904  ...                        35.0   \n",
       "4                              901  ...                        18.0   \n",
       "\n",
       "   TiempoPrecalentamiento  Tiempo Arranque (Seg)  Gas Tostador Arranque (m3)  \\\n",
       "0                     NaN                    NaN                         NaN   \n",
       "1                     NaN                    NaN                         NaN   \n",
       "2                     NaN                    NaN                         NaN   \n",
       "3                     NaN                    NaN                         NaN   \n",
       "4                     NaN                    NaN                         NaN   \n",
       "\n",
       "   Gas Postquemador Arranque (m3)  Energía Electrica Arranque (kWh)  \\\n",
       "0                             NaN                               NaN   \n",
       "1                             NaN                               NaN   \n",
       "2                             NaN                               NaN   \n",
       "3                             NaN                               NaN   \n",
       "4                             NaN                               NaN   \n",
       "\n",
       "   Tiempo calentamiento (Seg)  Gas Tostador Calentamiento (m3)  \\\n",
       "0                         NaN                              NaN   \n",
       "1                         NaN                              NaN   \n",
       "2                         NaN                              NaN   \n",
       "3                         NaN                              NaN   \n",
       "4                         NaN                              NaN   \n",
       "\n",
       "   Gas Postquemador Calentamiento (m3)  Energía Electrica Calentamiento (kWh)  \n",
       "0                                  NaN                                    NaN  \n",
       "1                                  NaN                                    NaN  \n",
       "2                                  NaN                                    NaN  \n",
       "3                                  NaN                                    NaN  \n",
       "4                                  NaN                                    NaN  \n",
       "\n",
       "[5 rows x 37 columns]"
      ]
     },
     "execution_count": 12,
     "metadata": {},
     "output_type": "execute_result"
    }
   ],
   "source": [
    "#eliminar la Columna de \"Unnamed: 0\"\n",
    "df.drop(columns='Unnamed: 0', inplace=True)\n",
    "df.head(5)"
   ]
  },
  {
   "cell_type": "code",
   "execution_count": 13,
   "metadata": {
    "colab": {
     "base_uri": "https://localhost:8080/"
    },
    "executionInfo": {
     "elapsed": 30,
     "status": "ok",
     "timestamp": 1754323684100,
     "user": {
      "displayName": "Melanny Herrera Arenas",
      "userId": "10791965058209715546"
     },
     "user_tz": 300
    },
    "id": "LcZRlb8mI3sO",
    "outputId": "e9bfa834-c449-4314-f340-0dd373992257"
   },
   "outputs": [
    {
     "data": {
      "text/plain": [
       "(304161, 37)"
      ]
     },
     "execution_count": 13,
     "metadata": {},
     "output_type": "execute_result"
    }
   ],
   "source": [
    "df.shape"
   ]
  },
  {
   "cell_type": "code",
   "execution_count": 14,
   "metadata": {
    "colab": {
     "base_uri": "https://localhost:8080/"
    },
    "executionInfo": {
     "elapsed": 25,
     "status": "ok",
     "timestamp": 1754323684133,
     "user": {
      "displayName": "Melanny Herrera Arenas",
      "userId": "10791965058209715546"
     },
     "user_tz": 300
    },
    "id": "G1bBO1KG9ApH",
    "outputId": "dbba7406-9fc5-4539-9e19-5adc5cd62b1d"
   },
   "outputs": [
    {
     "data": {
      "text/plain": [
       "Index(['Tostador ', 'Material', 'Orden', 'Bache de Control',\n",
       "       'Descripción de Material', 'Lote  ', 'Entry', 'Destino Real',\n",
       "       'Fecha Hora', 'Tiempo Total  Tostion    (SEG )', 'Cafe Verde (KG)',\n",
       "       'Cafe Tostado     (KG)', 'Cafe Tostado. Recal (KG)', 'Merma (%)',\n",
       "       'Temperatura Critica  1\\n(C °)', 'Temperatura Critica 2      (C °)',\n",
       "       'Temperatura Critica 3       (C °)', 'Tiempo Critico  1 (Seg)',\n",
       "       'Tiempo Critico 2 (Seg)', 'Tiempo Critico 3\\n(Seg)',\n",
       "       'Ultima LLama\\n(C °)', 'Agua\\n(L)', 'Energia\\n(W)', 'Gas Tostador M3',\n",
       "       'Gas Postquemador M3 ', 'Temperatura Carga\\n(°C)',\n",
       "       'Tiempo Entrada Agua (Seg)', 'Tiempo Calentamiento (Seg)',\n",
       "       'TiempoPrecalentamiento', 'Tiempo Arranque (Seg)',\n",
       "       'Gas Tostador Arranque (m3)', 'Gas Postquemador Arranque (m3)',\n",
       "       'Energía Electrica Arranque (kWh)', 'Tiempo calentamiento (Seg)',\n",
       "       'Gas Tostador Calentamiento (m3)',\n",
       "       'Gas Postquemador Calentamiento (m3)',\n",
       "       'Energía Electrica Calentamiento (kWh)'],\n",
       "      dtype='object')"
      ]
     },
     "execution_count": 14,
     "metadata": {},
     "output_type": "execute_result"
    }
   ],
   "source": [
    "df.columns"
   ]
  },
  {
   "cell_type": "code",
   "execution_count": 15,
   "metadata": {
    "executionInfo": {
     "elapsed": 488,
     "status": "ok",
     "timestamp": 1754323684629,
     "user": {
      "displayName": "Melanny Herrera Arenas",
      "userId": "10791965058209715546"
     },
     "user_tz": 300
    },
    "id": "EPnqQ4YK9Am2"
   },
   "outputs": [],
   "source": [
    "#agrega columnas de Año, Día, Mes, Hora, Turno y Fecha basadas en 'Fecha Hora'\n",
    "df = fc.desglozar_fecha_hora(df, 'Fecha Hora')"
   ]
  },
  {
   "cell_type": "code",
   "execution_count": 16,
   "metadata": {
    "colab": {
     "base_uri": "https://localhost:8080/"
    },
    "executionInfo": {
     "elapsed": 116,
     "status": "ok",
     "timestamp": 1754323684633,
     "user": {
      "displayName": "Melanny Herrera Arenas",
      "userId": "10791965058209715546"
     },
     "user_tz": 300
    },
    "id": "Cb_foF_5I9CN",
    "outputId": "e718d0a9-9c53-48d2-9c81-3f8e19f2590d"
   },
   "outputs": [
    {
     "data": {
      "text/plain": [
       "(304161, 44)"
      ]
     },
     "execution_count": 16,
     "metadata": {},
     "output_type": "execute_result"
    }
   ],
   "source": [
    "df.shape"
   ]
  },
  {
   "cell_type": "code",
   "execution_count": 17,
   "metadata": {
    "colab": {
     "base_uri": "https://localhost:8080/",
     "height": 498
    },
    "executionInfo": {
     "elapsed": 36,
     "status": "ok",
     "timestamp": 1754323684635,
     "user": {
      "displayName": "Melanny Herrera Arenas",
      "userId": "10791965058209715546"
     },
     "user_tz": 300
    },
    "id": "qTBrczIX9AkC",
    "outputId": "04040a3d-0e98-4297-aeb2-f76fdd03ef80"
   },
   "outputs": [
    {
     "data": {
      "text/html": [
       "<div>\n",
       "<style scoped>\n",
       "    .dataframe tbody tr th:only-of-type {\n",
       "        vertical-align: middle;\n",
       "    }\n",
       "\n",
       "    .dataframe tbody tr th {\n",
       "        vertical-align: top;\n",
       "    }\n",
       "\n",
       "    .dataframe thead th {\n",
       "        text-align: right;\n",
       "    }\n",
       "</style>\n",
       "<table border=\"1\" class=\"dataframe\">\n",
       "  <thead>\n",
       "    <tr style=\"text-align: right;\">\n",
       "      <th></th>\n",
       "      <th>Tostador</th>\n",
       "      <th>Material</th>\n",
       "      <th>Orden</th>\n",
       "      <th>Bache de Control</th>\n",
       "      <th>Descripción de Material</th>\n",
       "      <th>Lote</th>\n",
       "      <th>Entry</th>\n",
       "      <th>Destino Real</th>\n",
       "      <th>Fecha Hora</th>\n",
       "      <th>Tiempo Total  Tostion    (SEG )</th>\n",
       "      <th>...</th>\n",
       "      <th>Gas Tostador Calentamiento (m3)</th>\n",
       "      <th>Gas Postquemador Calentamiento (m3)</th>\n",
       "      <th>Energía Electrica Calentamiento (kWh)</th>\n",
       "      <th>Año</th>\n",
       "      <th>Dia</th>\n",
       "      <th>Mes_Numero</th>\n",
       "      <th>Mes</th>\n",
       "      <th>Hora</th>\n",
       "      <th>Turnos</th>\n",
       "      <th>Fecha</th>\n",
       "    </tr>\n",
       "  </thead>\n",
       "  <tbody>\n",
       "    <tr>\n",
       "      <th>0</th>\n",
       "      <td>TOSTADOR 1</td>\n",
       "      <td>3002547.0</td>\n",
       "      <td>26277032</td>\n",
       "      <td>50805</td>\n",
       "      <td>Tostado Soluble COL</td>\n",
       "      <td>CM240102</td>\n",
       "      <td>Entry_{(3187356)}</td>\n",
       "      <td>CM</td>\n",
       "      <td>2024-01-02 12:19:17</td>\n",
       "      <td>863</td>\n",
       "      <td>...</td>\n",
       "      <td>NaN</td>\n",
       "      <td>NaN</td>\n",
       "      <td>NaN</td>\n",
       "      <td>2024</td>\n",
       "      <td>2</td>\n",
       "      <td>1</td>\n",
       "      <td>Enero</td>\n",
       "      <td>12</td>\n",
       "      <td>Turno 1 (6am -2pm)</td>\n",
       "      <td>2024-01-02</td>\n",
       "    </tr>\n",
       "    <tr>\n",
       "      <th>1</th>\n",
       "      <td>TOSTADOR 1</td>\n",
       "      <td>3002547.0</td>\n",
       "      <td>26277032</td>\n",
       "      <td>50806</td>\n",
       "      <td>Tostado Soluble COL</td>\n",
       "      <td>CM240102</td>\n",
       "      <td>Entry_{(3187357)}</td>\n",
       "      <td>CM</td>\n",
       "      <td>2024-01-02 12:39:57</td>\n",
       "      <td>858</td>\n",
       "      <td>...</td>\n",
       "      <td>NaN</td>\n",
       "      <td>NaN</td>\n",
       "      <td>NaN</td>\n",
       "      <td>2024</td>\n",
       "      <td>2</td>\n",
       "      <td>1</td>\n",
       "      <td>Enero</td>\n",
       "      <td>12</td>\n",
       "      <td>Turno 1 (6am -2pm)</td>\n",
       "      <td>2024-01-02</td>\n",
       "    </tr>\n",
       "    <tr>\n",
       "      <th>2</th>\n",
       "      <td>TOSTADOR 1</td>\n",
       "      <td>3002547.0</td>\n",
       "      <td>26277032</td>\n",
       "      <td>50810</td>\n",
       "      <td>Tostado Soluble COL</td>\n",
       "      <td>CM240102</td>\n",
       "      <td>Entry_{(3187361)}</td>\n",
       "      <td>CM</td>\n",
       "      <td>2024-01-02 13:39:09</td>\n",
       "      <td>1071</td>\n",
       "      <td>...</td>\n",
       "      <td>NaN</td>\n",
       "      <td>NaN</td>\n",
       "      <td>NaN</td>\n",
       "      <td>2024</td>\n",
       "      <td>2</td>\n",
       "      <td>1</td>\n",
       "      <td>Enero</td>\n",
       "      <td>13</td>\n",
       "      <td>Turno 1 (6am -2pm)</td>\n",
       "      <td>2024-01-02</td>\n",
       "    </tr>\n",
       "    <tr>\n",
       "      <th>3</th>\n",
       "      <td>TOSTADOR 1</td>\n",
       "      <td>3002547.0</td>\n",
       "      <td>26277032</td>\n",
       "      <td>50811</td>\n",
       "      <td>Tostado Soluble COL</td>\n",
       "      <td>CM240102</td>\n",
       "      <td>Entry_{(3187362)}</td>\n",
       "      <td>CM</td>\n",
       "      <td>2024-01-02 13:53:57</td>\n",
       "      <td>904</td>\n",
       "      <td>...</td>\n",
       "      <td>NaN</td>\n",
       "      <td>NaN</td>\n",
       "      <td>NaN</td>\n",
       "      <td>2024</td>\n",
       "      <td>2</td>\n",
       "      <td>1</td>\n",
       "      <td>Enero</td>\n",
       "      <td>13</td>\n",
       "      <td>Turno 1 (6am -2pm)</td>\n",
       "      <td>2024-01-02</td>\n",
       "    </tr>\n",
       "    <tr>\n",
       "      <th>4</th>\n",
       "      <td>TOSTADOR 1</td>\n",
       "      <td>3002547.0</td>\n",
       "      <td>26277032</td>\n",
       "      <td>50849</td>\n",
       "      <td>Tostado Soluble COL</td>\n",
       "      <td>CM240103</td>\n",
       "      <td>Entry_{(3187370)}</td>\n",
       "      <td>CM</td>\n",
       "      <td>2024-01-03 03:27:23</td>\n",
       "      <td>901</td>\n",
       "      <td>...</td>\n",
       "      <td>NaN</td>\n",
       "      <td>NaN</td>\n",
       "      <td>NaN</td>\n",
       "      <td>2024</td>\n",
       "      <td>3</td>\n",
       "      <td>1</td>\n",
       "      <td>Enero</td>\n",
       "      <td>3</td>\n",
       "      <td>Turno III (10pm -6am)</td>\n",
       "      <td>2024-01-03</td>\n",
       "    </tr>\n",
       "  </tbody>\n",
       "</table>\n",
       "<p>5 rows × 44 columns</p>\n",
       "</div>"
      ],
      "text/plain": [
       "    Tostador    Material     Orden  Bache de Control Descripción de Material  \\\n",
       "0  TOSTADOR 1  3002547.0  26277032             50805     Tostado Soluble COL   \n",
       "1  TOSTADOR 1  3002547.0  26277032             50806     Tostado Soluble COL   \n",
       "2  TOSTADOR 1  3002547.0  26277032             50810     Tostado Soluble COL   \n",
       "3  TOSTADOR 1  3002547.0  26277032             50811     Tostado Soluble COL   \n",
       "4  TOSTADOR 1  3002547.0  26277032             50849     Tostado Soluble COL   \n",
       "\n",
       "     Lote                Entry Destino Real          Fecha Hora  \\\n",
       "0  CM240102  Entry_{(3187356)}           CM 2024-01-02 12:19:17   \n",
       "1  CM240102  Entry_{(3187357)}           CM 2024-01-02 12:39:57   \n",
       "2  CM240102  Entry_{(3187361)}           CM 2024-01-02 13:39:09   \n",
       "3  CM240102  Entry_{(3187362)}           CM 2024-01-02 13:53:57   \n",
       "4  CM240103  Entry_{(3187370)}           CM 2024-01-03 03:27:23   \n",
       "\n",
       "   Tiempo Total  Tostion    (SEG )  ...  Gas Tostador Calentamiento (m3)  \\\n",
       "0                              863  ...                              NaN   \n",
       "1                              858  ...                              NaN   \n",
       "2                             1071  ...                              NaN   \n",
       "3                              904  ...                              NaN   \n",
       "4                              901  ...                              NaN   \n",
       "\n",
       "   Gas Postquemador Calentamiento (m3)  Energía Electrica Calentamiento (kWh)  \\\n",
       "0                                  NaN                                    NaN   \n",
       "1                                  NaN                                    NaN   \n",
       "2                                  NaN                                    NaN   \n",
       "3                                  NaN                                    NaN   \n",
       "4                                  NaN                                    NaN   \n",
       "\n",
       "    Año  Dia  Mes_Numero    Mes  Hora                 Turnos       Fecha  \n",
       "0  2024    2           1  Enero    12     Turno 1 (6am -2pm)  2024-01-02  \n",
       "1  2024    2           1  Enero    12     Turno 1 (6am -2pm)  2024-01-02  \n",
       "2  2024    2           1  Enero    13     Turno 1 (6am -2pm)  2024-01-02  \n",
       "3  2024    2           1  Enero    13     Turno 1 (6am -2pm)  2024-01-02  \n",
       "4  2024    3           1  Enero     3  Turno III (10pm -6am)  2024-01-03  \n",
       "\n",
       "[5 rows x 44 columns]"
      ]
     },
     "execution_count": 17,
     "metadata": {},
     "output_type": "execute_result"
    }
   ],
   "source": [
    "df.head()"
   ]
  },
  {
   "cell_type": "markdown",
   "metadata": {
    "id": "RwsEvjIiHoHN"
   },
   "source": [
    "**Validación y eliminación de filas repetidas**"
   ]
  },
  {
   "cell_type": "code",
   "execution_count": 18,
   "metadata": {
    "executionInfo": {
     "elapsed": 8767,
     "status": "ok",
     "timestamp": 1754323693387,
     "user": {
      "displayName": "Melanny Herrera Arenas",
      "userId": "10791965058209715546"
     },
     "user_tz": 300
    },
    "id": "bdvvRxOERhtP"
   },
   "outputs": [],
   "source": [
    "#eliminar filas/registros duplicados con ayuda de una firma y datos en tuplas para tomar los NaN como datos iguales cosa qu el .drop_duplicates no logra\n",
    "df_sin_duplicados = fc.eliminar_duplicados_nan(df)"
   ]
  },
  {
   "cell_type": "code",
   "execution_count": 19,
   "metadata": {
    "colab": {
     "base_uri": "https://localhost:8080/"
    },
    "executionInfo": {
     "elapsed": 19,
     "status": "ok",
     "timestamp": 1754323693411,
     "user": {
      "displayName": "Melanny Herrera Arenas",
      "userId": "10791965058209715546"
     },
     "user_tz": 300
    },
    "id": "yvCbGv7ERlUn",
    "outputId": "ddd14c82-bf42-4cbd-f82c-d896dfc98872"
   },
   "outputs": [
    {
     "name": "stdout",
     "output_type": "stream",
     "text": [
      "Filas originales: 304161\n",
      "Filas después de eliminar duplicados: 188164, se eliminaron 115997 filas\n"
     ]
    }
   ],
   "source": [
    "#mostrar el nuevo tamaño del DataFrame\n",
    "print(f\"Filas originales: {df.shape[0]}\")\n",
    "print(f\"Filas después de eliminar duplicados: {df_sin_duplicados.shape[0]}, se eliminaron {df.shape[0]-df_sin_duplicados.shape[0]} filas\")"
   ]
  },
  {
   "cell_type": "code",
   "execution_count": 20,
   "metadata": {
    "executionInfo": {
     "elapsed": 22,
     "status": "ok",
     "timestamp": 1754323693436,
     "user": {
      "displayName": "Melanny Herrera Arenas",
      "userId": "10791965058209715546"
     },
     "user_tz": 300
    },
    "id": "_MohdV6w9AdR"
   },
   "outputs": [],
   "source": [
    "#asignar el nuevo dataframe\n",
    "df = df_sin_duplicados.copy()"
   ]
  },
  {
   "cell_type": "code",
   "execution_count": 21,
   "metadata": {
    "colab": {
     "base_uri": "https://localhost:8080/"
    },
    "executionInfo": {
     "elapsed": 33,
     "status": "ok",
     "timestamp": 1754323693473,
     "user": {
      "displayName": "Melanny Herrera Arenas",
      "userId": "10791965058209715546"
     },
     "user_tz": 300
    },
    "id": "trSdCAc4JXu1",
    "outputId": "4eb42a54-bd5a-4db3-9a1a-c37d061a0333"
   },
   "outputs": [
    {
     "data": {
      "text/plain": [
       "(188164, 44)"
      ]
     },
     "execution_count": 21,
     "metadata": {},
     "output_type": "execute_result"
    }
   ],
   "source": [
    "df.shape"
   ]
  },
  {
   "cell_type": "markdown",
   "metadata": {
    "id": "zMOi_SyoIKe5"
   },
   "source": [
    "**Conteo de baches perdidos**"
   ]
  },
  {
   "cell_type": "code",
   "execution_count": 22,
   "metadata": {
    "executionInfo": {
     "elapsed": 3628,
     "status": "ok",
     "timestamp": 1754323697095,
     "user": {
      "displayName": "Melanny Herrera Arenas",
      "userId": "10791965058209715546"
     },
     "user_tz": 300
    },
    "id": "p24bJPN6Tq3H"
   },
   "outputs": [],
   "source": [
    "#contar los saltos de registros de datos para cada tostador\n",
    "df_conteo_baches_perdidos = fc.conteo_baches(df)"
   ]
  },
  {
   "cell_type": "code",
   "execution_count": 23,
   "metadata": {
    "colab": {
     "base_uri": "https://localhost:8080/",
     "height": 206
    },
    "executionInfo": {
     "elapsed": 62,
     "status": "ok",
     "timestamp": 1754323697200,
     "user": {
      "displayName": "Melanny Herrera Arenas",
      "userId": "10791965058209715546"
     },
     "user_tz": 300
    },
    "id": "weon2Pyw9AYi",
    "outputId": "c06e5545-82f1-4236-8f9a-79dc27d8f77c"
   },
   "outputs": [
    {
     "data": {
      "text/html": [
       "<div>\n",
       "<style scoped>\n",
       "    .dataframe tbody tr th:only-of-type {\n",
       "        vertical-align: middle;\n",
       "    }\n",
       "\n",
       "    .dataframe tbody tr th {\n",
       "        vertical-align: top;\n",
       "    }\n",
       "\n",
       "    .dataframe thead th {\n",
       "        text-align: right;\n",
       "    }\n",
       "</style>\n",
       "<table border=\"1\" class=\"dataframe\">\n",
       "  <thead>\n",
       "    <tr style=\"text-align: right;\">\n",
       "      <th></th>\n",
       "      <th>Fecha</th>\n",
       "      <th>Tostador</th>\n",
       "      <th># Baches perdidos</th>\n",
       "    </tr>\n",
       "  </thead>\n",
       "  <tbody>\n",
       "    <tr>\n",
       "      <th>0</th>\n",
       "      <td>2024-01-02</td>\n",
       "      <td>TOSTADOR 1</td>\n",
       "      <td>0</td>\n",
       "    </tr>\n",
       "    <tr>\n",
       "      <th>1</th>\n",
       "      <td>2024-01-02</td>\n",
       "      <td>TOSTADOR 2</td>\n",
       "      <td>0</td>\n",
       "    </tr>\n",
       "    <tr>\n",
       "      <th>2</th>\n",
       "      <td>2024-01-02</td>\n",
       "      <td>TOSTADOR 3</td>\n",
       "      <td>0</td>\n",
       "    </tr>\n",
       "    <tr>\n",
       "      <th>3</th>\n",
       "      <td>2024-01-02</td>\n",
       "      <td>TOSTADOR 5</td>\n",
       "      <td>0</td>\n",
       "    </tr>\n",
       "    <tr>\n",
       "      <th>4</th>\n",
       "      <td>2024-01-02</td>\n",
       "      <td>TOSTADOR 6</td>\n",
       "      <td>3</td>\n",
       "    </tr>\n",
       "  </tbody>\n",
       "</table>\n",
       "</div>"
      ],
      "text/plain": [
       "        Fecha   Tostador   # Baches perdidos\n",
       "0  2024-01-02  TOSTADOR 1                  0\n",
       "1  2024-01-02  TOSTADOR 2                  0\n",
       "2  2024-01-02  TOSTADOR 3                  0\n",
       "3  2024-01-02  TOSTADOR 5                  0\n",
       "4  2024-01-02  TOSTADOR 6                  3"
      ]
     },
     "execution_count": 23,
     "metadata": {},
     "output_type": "execute_result"
    }
   ],
   "source": [
    "#Mostrar el resultado\n",
    "df_conteo_baches_perdidos.head()"
   ]
  },
  {
   "cell_type": "code",
   "execution_count": 24,
   "metadata": {
    "colab": {
     "base_uri": "https://localhost:8080/"
    },
    "executionInfo": {
     "elapsed": 1162,
     "status": "ok",
     "timestamp": 1754323698354,
     "user": {
      "displayName": "Melanny Herrera Arenas",
      "userId": "10791965058209715546"
     },
     "user_tz": 300
    },
    "id": "c_sL8qZqlFPL",
    "outputId": "f7cc43c0-e5b5-431c-906c-bedeef3bbb5d"
   },
   "outputs": [
    {
     "name": "stdout",
     "output_type": "stream",
     "text": [
      "🟢 Primera aparición de datos en esas columnas fue en: 2025-01-02 07:11:56\n"
     ]
    }
   ],
   "source": [
    "#columnas de interés y que la columna de fecha esté en datetime\n",
    "columnas_objetivo = ['TiempoPrecalentamiento','Tiempo Arranque (Seg)','Gas Tostador Arranque (m3)', 'Gas Postquemador Arranque (m3)','Energía Electrica Arranque (kWh)',\n",
    "                      'Tiempo calentamiento (Seg)','Gas Tostador Calentamiento (m3)','Gas Postquemador Calentamiento (m3)','Energía Electrica Calentamiento (kWh)']\n",
    "\n",
    "#detectar la primera aparición de datos en x columnas\n",
    "fc.detectar_inicio_fecha(df, 'Fecha Hora', columnas_objetivo)"
   ]
  },
  {
   "cell_type": "code",
   "execution_count": 25,
   "metadata": {
    "colab": {
     "base_uri": "https://localhost:8080/",
     "height": 150
    },
    "executionInfo": {
     "elapsed": 48,
     "status": "ok",
     "timestamp": 1754323698406,
     "user": {
      "displayName": "Melanny Herrera Arenas",
      "userId": "10791965058209715546"
     },
     "user_tz": 300
    },
    "id": "367tD81k9AP_",
    "outputId": "04a3ea05-b5ae-4584-d9dc-48c048724a22"
   },
   "outputs": [
    {
     "data": {
      "text/html": [
       "<div>\n",
       "<style scoped>\n",
       "    .dataframe tbody tr th:only-of-type {\n",
       "        vertical-align: middle;\n",
       "    }\n",
       "\n",
       "    .dataframe tbody tr th {\n",
       "        vertical-align: top;\n",
       "    }\n",
       "\n",
       "    .dataframe thead th {\n",
       "        text-align: right;\n",
       "    }\n",
       "</style>\n",
       "<table border=\"1\" class=\"dataframe\">\n",
       "  <thead>\n",
       "    <tr style=\"text-align: right;\">\n",
       "      <th></th>\n",
       "      <th>Tostador</th>\n",
       "      <th>Material</th>\n",
       "      <th>Orden</th>\n",
       "      <th>Bache de Control</th>\n",
       "      <th>Descripción de Material</th>\n",
       "      <th>Lote</th>\n",
       "      <th>Entry</th>\n",
       "      <th>Destino Real</th>\n",
       "      <th>Fecha Hora</th>\n",
       "      <th>Tiempo Total  Tostion    (SEG )</th>\n",
       "      <th>...</th>\n",
       "      <th>Gas Tostador Calentamiento (m3)</th>\n",
       "      <th>Gas Postquemador Calentamiento (m3)</th>\n",
       "      <th>Energía Electrica Calentamiento (kWh)</th>\n",
       "      <th>Año</th>\n",
       "      <th>Dia</th>\n",
       "      <th>Mes_Numero</th>\n",
       "      <th>Mes</th>\n",
       "      <th>Hora</th>\n",
       "      <th>Turnos</th>\n",
       "      <th>Fecha</th>\n",
       "    </tr>\n",
       "  </thead>\n",
       "  <tbody>\n",
       "  </tbody>\n",
       "</table>\n",
       "<p>0 rows × 44 columns</p>\n",
       "</div>"
      ],
      "text/plain": [
       "Empty DataFrame\n",
       "Columns: [Tostador , Material, Orden, Bache de Control, Descripción de Material, Lote  , Entry, Destino Real, Fecha Hora, Tiempo Total  Tostion    (SEG ), Cafe Verde (KG), Cafe Tostado     (KG), Cafe Tostado. Recal (KG), Merma (%), Temperatura Critica  1\n",
       "(C °), Temperatura Critica 2      (C °), Temperatura Critica 3       (C °), Tiempo Critico  1 (Seg), Tiempo Critico 2 (Seg), Tiempo Critico 3\n",
       "(Seg), Ultima LLama\n",
       "(C °), Agua\n",
       "(L), Energia\n",
       "(W), Gas Tostador M3, Gas Postquemador M3 , Temperatura Carga\n",
       "(°C), Tiempo Entrada Agua (Seg), Tiempo Calentamiento (Seg), TiempoPrecalentamiento, Tiempo Arranque (Seg), Gas Tostador Arranque (m3), Gas Postquemador Arranque (m3), Energía Electrica Arranque (kWh), Tiempo calentamiento (Seg), Gas Tostador Calentamiento (m3), Gas Postquemador Calentamiento (m3), Energía Electrica Calentamiento (kWh), Año, Dia, Mes_Numero, Mes, Hora, Turnos, Fecha]\n",
       "Index: []\n",
       "\n",
       "[0 rows x 44 columns]"
      ]
     },
     "execution_count": 25,
     "metadata": {},
     "output_type": "execute_result"
    }
   ],
   "source": [
    "#Filtrar desde la Fecha Hora donde comienzan a darse datos reales e identificar filas con valores nulos iguales o mayores a 1 campo para validaciones\n",
    "#se hace solamente para validar\n",
    "df_filtrado = df.loc[df['Fecha Hora']>=\"2025-01-02\"]\n",
    "\n",
    "mas_de_un_nulo = df_filtrado.isnull().sum(axis=1) >= 1  #Genera un dataframe de booleanos, si la celda está vacia True(1) y si tiene datos  False(0)\n",
    "\n",
    "df_resultado = df_filtrado[mas_de_un_nulo] #Usar esa máscara para filtrar en el df filtrado\n",
    "\n",
    "df_resultado.head(5)"
   ]
  },
  {
   "cell_type": "code",
   "execution_count": 26,
   "metadata": {
    "colab": {
     "base_uri": "https://localhost:8080/",
     "height": 335
    },
    "executionInfo": {
     "elapsed": 63,
     "status": "ok",
     "timestamp": 1754323698484,
     "user": {
      "displayName": "Melanny Herrera Arenas",
      "userId": "10791965058209715546"
     },
     "user_tz": 300
    },
    "id": "DCn9Nuiz9ANR",
    "outputId": "dd541b5c-09fd-4bff-dbde-f18c7b0115be"
   },
   "outputs": [
    {
     "data": {
      "text/plain": [
       "count    188164.000000\n",
       "mean         15.650682\n",
       "std           9.151353\n",
       "min           0.000000\n",
       "25%           8.986510\n",
       "50%          12.840001\n",
       "75%          22.171877\n",
       "max         488.184387\n",
       "Name: Gas Tostador M3, dtype: float64"
      ]
     },
     "execution_count": 26,
     "metadata": {},
     "output_type": "execute_result"
    }
   ],
   "source": [
    "df['Gas Tostador M3'].describe()"
   ]
  },
  {
   "cell_type": "code",
   "execution_count": 27,
   "metadata": {
    "colab": {
     "base_uri": "https://localhost:8080/",
     "height": 335
    },
    "executionInfo": {
     "elapsed": 59,
     "status": "ok",
     "timestamp": 1754323698538,
     "user": {
      "displayName": "Melanny Herrera Arenas",
      "userId": "10791965058209715546"
     },
     "user_tz": 300
    },
    "id": "MZpbglrU9ALK",
    "outputId": "bfd8220e-959d-470b-c9dd-1717d69b5735"
   },
   "outputs": [
    {
     "data": {
      "text/plain": [
       "count    188164.000000\n",
       "mean         -1.499934\n",
       "std        2178.215300\n",
       "min     -919087.687500\n",
       "25%           0.000000\n",
       "50%           3.150000\n",
       "75%           9.449996\n",
       "max        1445.369995\n",
       "Name: Gas Postquemador M3 , dtype: float64"
      ]
     },
     "execution_count": 27,
     "metadata": {},
     "output_type": "execute_result"
    }
   ],
   "source": [
    "df['Gas Postquemador M3 '].describe()"
   ]
  },
  {
   "cell_type": "code",
   "execution_count": 28,
   "metadata": {
    "executionInfo": {
     "elapsed": 277,
     "status": "ok",
     "timestamp": 1754323698822,
     "user": {
      "displayName": "Melanny Herrera Arenas",
      "userId": "10791965058209715546"
     },
     "user_tz": 300
    },
    "id": "Cjtrde9lrxNf"
   },
   "outputs": [],
   "source": [
    "#se establece un rango para filtrar solo datos \"atipicos\" fuera de un rango de [0. 130]\n",
    "min_gas_post_bache = 0\n",
    "max_gas_post_bache = 130\n",
    "df_at_postq = fc.rango_valores_atipicos(df, min_gas_post_bache, max_gas_post_bache, 'Gas Postquemador M3 ')"
   ]
  },
  {
   "cell_type": "code",
   "execution_count": 29,
   "metadata": {
    "colab": {
     "base_uri": "https://localhost:8080/",
     "height": 237
    },
    "executionInfo": {
     "elapsed": 271,
     "status": "ok",
     "timestamp": 1754323698825,
     "user": {
      "displayName": "Melanny Herrera Arenas",
      "userId": "10791965058209715546"
     },
     "user_tz": 300
    },
    "id": "4WpZAZU19AHN",
    "outputId": "d140a07b-ed4a-41f1-ef87-11185f35ff96"
   },
   "outputs": [
    {
     "data": {
      "text/html": [
       "<div>\n",
       "<style scoped>\n",
       "    .dataframe tbody tr th:only-of-type {\n",
       "        vertical-align: middle;\n",
       "    }\n",
       "\n",
       "    .dataframe tbody tr th {\n",
       "        vertical-align: top;\n",
       "    }\n",
       "\n",
       "    .dataframe thead th {\n",
       "        text-align: right;\n",
       "    }\n",
       "</style>\n",
       "<table border=\"1\" class=\"dataframe\">\n",
       "  <thead>\n",
       "    <tr style=\"text-align: right;\">\n",
       "      <th></th>\n",
       "      <th>Cantidad</th>\n",
       "      <th>Proporción (%)</th>\n",
       "    </tr>\n",
       "    <tr>\n",
       "      <th>Tostador</th>\n",
       "      <th></th>\n",
       "      <th></th>\n",
       "    </tr>\n",
       "  </thead>\n",
       "  <tbody>\n",
       "    <tr>\n",
       "      <th>TOSTADOR 4</th>\n",
       "      <td>92</td>\n",
       "      <td>92.93</td>\n",
       "    </tr>\n",
       "    <tr>\n",
       "      <th>TOSTADOR 2</th>\n",
       "      <td>3</td>\n",
       "      <td>3.03</td>\n",
       "    </tr>\n",
       "    <tr>\n",
       "      <th>TOSTADOR 3</th>\n",
       "      <td>2</td>\n",
       "      <td>2.02</td>\n",
       "    </tr>\n",
       "    <tr>\n",
       "      <th>TOSTADOR 5</th>\n",
       "      <td>1</td>\n",
       "      <td>1.01</td>\n",
       "    </tr>\n",
       "    <tr>\n",
       "      <th>TOSTADOR 1</th>\n",
       "      <td>1</td>\n",
       "      <td>1.01</td>\n",
       "    </tr>\n",
       "  </tbody>\n",
       "</table>\n",
       "</div>"
      ],
      "text/plain": [
       "            Cantidad  Proporción (%)\n",
       "Tostador                            \n",
       "TOSTADOR 4        92           92.93\n",
       "TOSTADOR 2         3            3.03\n",
       "TOSTADOR 3         2            2.02\n",
       "TOSTADOR 5         1            1.01\n",
       "TOSTADOR 1         1            1.01"
      ]
     },
     "execution_count": 29,
     "metadata": {},
     "output_type": "execute_result"
    }
   ],
   "source": [
    "#Verificaremos a que tostadores corresponden dichos valores atipicos o fuera del rango y su proporción en base a todos los datos\n",
    "conteo = df_at_postq['Tostador '].value_counts()\n",
    "porcentaje = df_at_postq['Tostador '].value_counts(normalize=True) * 100\n",
    "resultado = pd.DataFrame({'Cantidad': conteo, 'Proporción (%)': porcentaje.round(2)})\n",
    "resultado"
   ]
  },
  {
   "cell_type": "markdown",
   "metadata": {
    "id": "JrJKji9XI_ei"
   },
   "source": [
    "Como se había comentado y tenían sospechas, la mayoria de los consumos de gas por bache mayor a los 100 m3 corresponden al postquemador del Tostador 4. Con la finalidad de no eliminar estos datos, se procederá a rellenar estos datos atípicos con el promedio del consumo de gas por bache de los datos sin incluirlos."
   ]
  },
  {
   "cell_type": "code",
   "execution_count": 30,
   "metadata": {
    "colab": {
     "base_uri": "https://localhost:8080/"
    },
    "executionInfo": {
     "elapsed": 251,
     "status": "ok",
     "timestamp": 1754323698826,
     "user": {
      "displayName": "Melanny Herrera Arenas",
      "userId": "10791965058209715546"
     },
     "user_tz": 300
    },
    "id": "GFCx5_eAJs3L",
    "outputId": "7a601b02-0546-496f-db9e-9af696b64433"
   },
   "outputs": [
    {
     "data": {
      "text/plain": [
       "(188164, 44)"
      ]
     },
     "execution_count": 30,
     "metadata": {},
     "output_type": "execute_result"
    }
   ],
   "source": [
    "df.shape"
   ]
  },
  {
   "cell_type": "code",
   "execution_count": 31,
   "metadata": {
    "executionInfo": {
     "elapsed": 18,
     "status": "ok",
     "timestamp": 1754323698833,
     "user": {
      "displayName": "Melanny Herrera Arenas",
      "userId": "10791965058209715546"
     },
     "user_tz": 300
    },
    "id": "f1t_pKuo1GRj"
   },
   "outputs": [],
   "source": [
    "#guardar una copia del original\n",
    "df_original = df.copy()"
   ]
  },
  {
   "cell_type": "code",
   "execution_count": 32,
   "metadata": {
    "executionInfo": {
     "elapsed": 31,
     "status": "ok",
     "timestamp": 1754323698868,
     "user": {
      "displayName": "Melanny Herrera Arenas",
      "userId": "10791965058209715546"
     },
     "user_tz": 300
    },
    "id": "dxfTmGI1ylwu"
   },
   "outputs": [],
   "source": [
    "#reemplazar los valores atípicos por el promedio de los valores válidos\n",
    "df = fc.reemplazar_atipicos_prom(df, min_gas_post_bache, max_gas_post_bache, 'Gas Postquemador M3 ')"
   ]
  },
  {
   "cell_type": "code",
   "execution_count": 33,
   "metadata": {
    "colab": {
     "base_uri": "https://localhost:8080/"
    },
    "executionInfo": {
     "elapsed": 29,
     "status": "ok",
     "timestamp": 1754323698873,
     "user": {
      "displayName": "Melanny Herrera Arenas",
      "userId": "10791965058209715546"
     },
     "user_tz": 300
    },
    "id": "srQHVr4HHVKR",
    "outputId": "8ffa0998-c994-4d53-a2f8-de6d528f8992"
   },
   "outputs": [
    {
     "data": {
      "text/plain": [
       "(188164, 44)"
      ]
     },
     "execution_count": 33,
     "metadata": {},
     "output_type": "execute_result"
    }
   ],
   "source": [
    "df_original.shape"
   ]
  },
  {
   "cell_type": "code",
   "execution_count": 34,
   "metadata": {
    "colab": {
     "base_uri": "https://localhost:8080/",
     "height": 335
    },
    "executionInfo": {
     "elapsed": 7,
     "status": "ok",
     "timestamp": 1754323698881,
     "user": {
      "displayName": "Melanny Herrera Arenas",
      "userId": "10791965058209715546"
     },
     "user_tz": 300
    },
    "id": "UTtgUbv29ADO",
    "outputId": "42b7af15-ae64-4ef3-c8fc-635f49ebdb94"
   },
   "outputs": [
    {
     "data": {
      "text/plain": [
       "count    188164.000000\n",
       "mean          4.886743\n",
       "std           5.790318\n",
       "min           0.000000\n",
       "25%           0.000000\n",
       "50%           3.150000\n",
       "75%           9.449996\n",
       "max         118.019394\n",
       "Name: Gas Postquemador M3 , dtype: float64"
      ]
     },
     "execution_count": 34,
     "metadata": {},
     "output_type": "execute_result"
    }
   ],
   "source": [
    "df['Gas Postquemador M3 '].describe()"
   ]
  },
  {
   "cell_type": "markdown",
   "metadata": {
    "id": "lXXe_90XJrIU"
   },
   "source": [
    "**Modificación Manual sobre el consumo de gas del tostador 7**"
   ]
  },
  {
   "cell_type": "markdown",
   "metadata": {
    "id": "v6cC82xeJt25"
   },
   "source": [
    "Se multiplicó el valor del consumo de gas por el 25%"
   ]
  },
  {
   "cell_type": "code",
   "execution_count": 35,
   "metadata": {
    "colab": {
     "base_uri": "https://localhost:8080/"
    },
    "executionInfo": {
     "elapsed": 24,
     "status": "ok",
     "timestamp": 1754323698908,
     "user": {
      "displayName": "Melanny Herrera Arenas",
      "userId": "10791965058209715546"
     },
     "user_tz": 300
    },
    "id": "NaZSgm1sJto6",
    "outputId": "82763358-8ebf-4970-9ae2-8f46bc9a3cbb"
   },
   "outputs": [
    {
     "data": {
      "text/plain": [
       "array(['TOSTADOR 1', 'TOSTADOR 2', 'TOSTADOR 3', 'TOSTADOR 4',\n",
       "       'TOSTADOR 5', 'TOSTADOR 6', 'TOSTADOR 7'], dtype=object)"
      ]
     },
     "execution_count": 35,
     "metadata": {},
     "output_type": "execute_result"
    }
   ],
   "source": [
    "df['Tostador '].unique()"
   ]
  },
  {
   "cell_type": "code",
   "execution_count": 36,
   "metadata": {
    "colab": {
     "base_uri": "https://localhost:8080/",
     "height": 458
    },
    "executionInfo": {
     "elapsed": 76,
     "status": "ok",
     "timestamp": 1754323698986,
     "user": {
      "displayName": "Melanny Herrera Arenas",
      "userId": "10791965058209715546"
     },
     "user_tz": 300
    },
    "id": "FBB6BYbI9ABx",
    "outputId": "88c7dd6e-fd3d-465f-ab99-1c27ced878d6"
   },
   "outputs": [
    {
     "data": {
      "text/plain": [
       "42486     14.980001\n",
       "42487     12.840001\n",
       "42488     17.120001\n",
       "42489     14.980001\n",
       "42490     32.099998\n",
       "            ...    \n",
       "304162    17.800032\n",
       "304163    19.100037\n",
       "304164    19.100037\n",
       "304165    18.600035\n",
       "304166    18.400034\n",
       "Name: Gas Tostador M3, Length: 52028, dtype: float64"
      ]
     },
     "execution_count": 36,
     "metadata": {},
     "output_type": "execute_result"
    }
   ],
   "source": [
    "df.loc[df['Tostador '] == \"TOSTADOR 7\"]['Gas Tostador M3']"
   ]
  },
  {
   "cell_type": "code",
   "execution_count": 37,
   "metadata": {
    "executionInfo": {
     "elapsed": 23,
     "status": "ok",
     "timestamp": 1754323698987,
     "user": {
      "displayName": "Melanny Herrera Arenas",
      "userId": "10791965058209715546"
     },
     "user_tz": 300
    },
    "id": "1tUnnvlm8_-4"
   },
   "outputs": [],
   "source": [
    "#se esta multiplicando por 1.0 para futuras transformaciones y a su vez validar el buen funcionamiento de la mascara\n",
    "mask = (df['Tostador '] == 'TOSTADOR 7') & (df['Fecha Hora'] < pd.Timestamp('2025-06-09'))\n",
    "df.loc[mask, 'Gas Tostador M3'] *= 1.0"
   ]
  },
  {
   "cell_type": "code",
   "execution_count": 38,
   "metadata": {
    "colab": {
     "base_uri": "https://localhost:8080/"
    },
    "executionInfo": {
     "elapsed": 19,
     "status": "ok",
     "timestamp": 1754323698990,
     "user": {
      "displayName": "Melanny Herrera Arenas",
      "userId": "10791965058209715546"
     },
     "user_tz": 300
    },
    "id": "62KXzL4QHPng",
    "outputId": "d5366a88-46f9-4e38-9bc3-531051d2f7e4"
   },
   "outputs": [
    {
     "data": {
      "text/plain": [
       "(188164, 44)"
      ]
     },
     "execution_count": 38,
     "metadata": {},
     "output_type": "execute_result"
    }
   ],
   "source": [
    "df.shape"
   ]
  },
  {
   "cell_type": "code",
   "execution_count": 39,
   "metadata": {
    "colab": {
     "base_uri": "https://localhost:8080/",
     "height": 458
    },
    "executionInfo": {
     "elapsed": 11,
     "status": "ok",
     "timestamp": 1754323699002,
     "user": {
      "displayName": "Melanny Herrera Arenas",
      "userId": "10791965058209715546"
     },
     "user_tz": 300
    },
    "id": "NAExBU3d8_8_",
    "outputId": "22d0268f-da79-4f9d-b893-89124d18a514"
   },
   "outputs": [
    {
     "data": {
      "text/plain": [
       "42486     14.980001\n",
       "42487     12.840001\n",
       "42488     17.120001\n",
       "42489     14.980001\n",
       "42490     32.099998\n",
       "            ...    \n",
       "304162    17.800032\n",
       "304163    19.100037\n",
       "304164    19.100037\n",
       "304165    18.600035\n",
       "304166    18.400034\n",
       "Name: Gas Tostador M3, Length: 52028, dtype: float64"
      ]
     },
     "execution_count": 39,
     "metadata": {},
     "output_type": "execute_result"
    }
   ],
   "source": [
    "df.loc[df['Tostador '] == \"TOSTADOR 7\"]['Gas Tostador M3']"
   ]
  },
  {
   "cell_type": "markdown",
   "metadata": {
    "id": "4xanrdwRJ8A1"
   },
   "source": [
    "**Operaciones con los datos sin realizar filtros**"
   ]
  },
  {
   "cell_type": "code",
   "execution_count": 40,
   "metadata": {
    "executionInfo": {
     "elapsed": 6,
     "status": "ok",
     "timestamp": 1754323699004,
     "user": {
      "displayName": "Melanny Herrera Arenas",
      "userId": "10791965058209715546"
     },
     "user_tz": 300
    },
    "id": "6j5dU_4T8_6_"
   },
   "outputs": [],
   "source": [
    "df_sn_Filtros = df.copy(deep=True)"
   ]
  },
  {
   "cell_type": "code",
   "execution_count": 41,
   "metadata": {
    "colab": {
     "base_uri": "https://localhost:8080/"
    },
    "executionInfo": {
     "elapsed": 21,
     "status": "ok",
     "timestamp": 1754323699026,
     "user": {
      "displayName": "Melanny Herrera Arenas",
      "userId": "10791965058209715546"
     },
     "user_tz": 300
    },
    "id": "hwwnHm_xHLgY",
    "outputId": "5b594f47-b2d2-4c68-819c-86bdacb80a92"
   },
   "outputs": [
    {
     "data": {
      "text/plain": [
       "(188164, 44)"
      ]
     },
     "execution_count": 41,
     "metadata": {},
     "output_type": "execute_result"
    }
   ],
   "source": [
    "df_sn_Filtros.shape"
   ]
  },
  {
   "cell_type": "code",
   "execution_count": 42,
   "metadata": {
    "executionInfo": {
     "elapsed": 3,
     "status": "ok",
     "timestamp": 1754323699031,
     "user": {
      "displayName": "Melanny Herrera Arenas",
      "userId": "10791965058209715546"
     },
     "user_tz": 300
    },
    "id": "FieW5k1A8_44"
   },
   "outputs": [],
   "source": [
    "# Columnas_Totalizados = [\"Fecha\",\"Año\",\"Mes\",\"Dia\",\"'Tostador \",\"Gas Postquemador M3 \",\"Gas Tostador M3\",\"Cafe Verde (KG)\",\"Indicador_m3/Ton_Tost\",\"Indicador_m3/Ton_Tost\",\"Indicador_m3/Ton_Total\",\n",
    "#                       \"Tiempo Arranque (Seg)\",\"Gas Tostador Arranque (m3)\",\"Gas Postquemador Arranque (m3)\",\"Energía Electrica Arranque (kWh)\",\"Tiempo calentamiento (Seg)\",\"Gas Tostador Calentamiento (m3)\",\n",
    "#                       \"Gas Postquemador Calentamiento (m3)\",\"Energía Electrica Calentamiento (kWh)\"]\n",
    "\n",
    "columnas_totalizados = [\"Cafe Verde (KG)\", \"Gas Postquemador M3 \", \"Gas Tostador M3\", \"Tiempo Arranque (Seg)\", \"Gas Tostador Arranque (m3)\",\n",
    "                        \"Gas Postquemador Arranque (m3)\",\"Energía Electrica Arranque (kWh)\", \"Tiempo calentamiento (Seg)\", \"Gas Tostador Calentamiento (m3)\",\n",
    "                        \"Energía Electrica Calentamiento (kWh)\"]\n",
    "\n",
    "#se genera un dataframe agrupado por Fecha y Tostador sumando sus columnas numericas\n",
    "agg_dict = {col: \"sum\" for col in columnas_totalizados}\n",
    "df_Tostadores_Totalizados = df_sn_Filtros.groupby(['Fecha','Tostador ']).agg(agg_dict).reset_index()"
   ]
  },
  {
   "cell_type": "code",
   "execution_count": 43,
   "metadata": {
    "colab": {
     "base_uri": "https://localhost:8080/",
     "height": 345
    },
    "executionInfo": {
     "elapsed": 8,
     "status": "ok",
     "timestamp": 1754323699042,
     "user": {
      "displayName": "Melanny Herrera Arenas",
      "userId": "10791965058209715546"
     },
     "user_tz": 300
    },
    "id": "aeqF9P-PxELx",
    "outputId": "0fc446a8-6000-4c9e-dee6-44272f48d7bd"
   },
   "outputs": [
    {
     "data": {
      "text/html": [
       "<div>\n",
       "<style scoped>\n",
       "    .dataframe tbody tr th:only-of-type {\n",
       "        vertical-align: middle;\n",
       "    }\n",
       "\n",
       "    .dataframe tbody tr th {\n",
       "        vertical-align: top;\n",
       "    }\n",
       "\n",
       "    .dataframe thead th {\n",
       "        text-align: right;\n",
       "    }\n",
       "</style>\n",
       "<table border=\"1\" class=\"dataframe\">\n",
       "  <thead>\n",
       "    <tr style=\"text-align: right;\">\n",
       "      <th></th>\n",
       "      <th>Fecha</th>\n",
       "      <th>Tostador</th>\n",
       "      <th>Cafe Verde (KG)</th>\n",
       "      <th>Gas Postquemador M3</th>\n",
       "      <th>Gas Tostador M3</th>\n",
       "      <th>Tiempo Arranque (Seg)</th>\n",
       "      <th>Gas Tostador Arranque (m3)</th>\n",
       "      <th>Gas Postquemador Arranque (m3)</th>\n",
       "      <th>Energía Electrica Arranque (kWh)</th>\n",
       "      <th>Tiempo calentamiento (Seg)</th>\n",
       "      <th>Gas Tostador Calentamiento (m3)</th>\n",
       "      <th>Energía Electrica Calentamiento (kWh)</th>\n",
       "    </tr>\n",
       "  </thead>\n",
       "  <tbody>\n",
       "    <tr>\n",
       "      <th>2867</th>\n",
       "      <td>2025-08-17</td>\n",
       "      <td>TOSTADOR 1</td>\n",
       "      <td>30304.900085</td>\n",
       "      <td>0.0</td>\n",
       "      <td>1952.437500</td>\n",
       "      <td>751.447021</td>\n",
       "      <td>14.600019</td>\n",
       "      <td>0.0</td>\n",
       "      <td>3.09375</td>\n",
       "      <td>2025.393995</td>\n",
       "      <td>52.000002</td>\n",
       "      <td>12.03125</td>\n",
       "    </tr>\n",
       "    <tr>\n",
       "      <th>2868</th>\n",
       "      <td>2025-08-17</td>\n",
       "      <td>TOSTADOR 3</td>\n",
       "      <td>12916.000000</td>\n",
       "      <td>0.0</td>\n",
       "      <td>639.581212</td>\n",
       "      <td>0.000000</td>\n",
       "      <td>0.000000</td>\n",
       "      <td>0.0</td>\n",
       "      <td>0.00000</td>\n",
       "      <td>2347.666998</td>\n",
       "      <td>28.979999</td>\n",
       "      <td>2.28125</td>\n",
       "    </tr>\n",
       "    <tr>\n",
       "      <th>2869</th>\n",
       "      <td>2025-08-18</td>\n",
       "      <td>TOSTADOR 1</td>\n",
       "      <td>39879.600128</td>\n",
       "      <td>0.0</td>\n",
       "      <td>2316.187500</td>\n",
       "      <td>0.000000</td>\n",
       "      <td>0.000000</td>\n",
       "      <td>0.0</td>\n",
       "      <td>0.00000</td>\n",
       "      <td>2684.029991</td>\n",
       "      <td>68.600006</td>\n",
       "      <td>17.59375</td>\n",
       "    </tr>\n",
       "    <tr>\n",
       "      <th>2870</th>\n",
       "      <td>2025-08-18</td>\n",
       "      <td>TOSTADOR 3</td>\n",
       "      <td>17190.000000</td>\n",
       "      <td>0.0</td>\n",
       "      <td>818.868719</td>\n",
       "      <td>656.007973</td>\n",
       "      <td>3.570000</td>\n",
       "      <td>0.0</td>\n",
       "      <td>0.46875</td>\n",
       "      <td>2870.894007</td>\n",
       "      <td>32.339999</td>\n",
       "      <td>3.34375</td>\n",
       "    </tr>\n",
       "    <tr>\n",
       "      <th>2871</th>\n",
       "      <td>2025-08-18</td>\n",
       "      <td>TOSTADOR 7</td>\n",
       "      <td>17150.000000</td>\n",
       "      <td>0.0</td>\n",
       "      <td>667.300991</td>\n",
       "      <td>0.000000</td>\n",
       "      <td>0.000000</td>\n",
       "      <td>0.0</td>\n",
       "      <td>0.00000</td>\n",
       "      <td>0.000000</td>\n",
       "      <td>0.000000</td>\n",
       "      <td>0.00000</td>\n",
       "    </tr>\n",
       "  </tbody>\n",
       "</table>\n",
       "</div>"
      ],
      "text/plain": [
       "           Fecha   Tostador   Cafe Verde (KG)  Gas Postquemador M3   \\\n",
       "2867  2025-08-17  TOSTADOR 1     30304.900085                   0.0   \n",
       "2868  2025-08-17  TOSTADOR 3     12916.000000                   0.0   \n",
       "2869  2025-08-18  TOSTADOR 1     39879.600128                   0.0   \n",
       "2870  2025-08-18  TOSTADOR 3     17190.000000                   0.0   \n",
       "2871  2025-08-18  TOSTADOR 7     17150.000000                   0.0   \n",
       "\n",
       "      Gas Tostador M3  Tiempo Arranque (Seg)  Gas Tostador Arranque (m3)  \\\n",
       "2867      1952.437500             751.447021                   14.600019   \n",
       "2868       639.581212               0.000000                    0.000000   \n",
       "2869      2316.187500               0.000000                    0.000000   \n",
       "2870       818.868719             656.007973                    3.570000   \n",
       "2871       667.300991               0.000000                    0.000000   \n",
       "\n",
       "      Gas Postquemador Arranque (m3)  Energía Electrica Arranque (kWh)  \\\n",
       "2867                             0.0                           3.09375   \n",
       "2868                             0.0                           0.00000   \n",
       "2869                             0.0                           0.00000   \n",
       "2870                             0.0                           0.46875   \n",
       "2871                             0.0                           0.00000   \n",
       "\n",
       "      Tiempo calentamiento (Seg)  Gas Tostador Calentamiento (m3)  \\\n",
       "2867                 2025.393995                        52.000002   \n",
       "2868                 2347.666998                        28.979999   \n",
       "2869                 2684.029991                        68.600006   \n",
       "2870                 2870.894007                        32.339999   \n",
       "2871                    0.000000                         0.000000   \n",
       "\n",
       "      Energía Electrica Calentamiento (kWh)  \n",
       "2867                               12.03125  \n",
       "2868                                2.28125  \n",
       "2869                               17.59375  \n",
       "2870                                3.34375  \n",
       "2871                                0.00000  "
      ]
     },
     "execution_count": 43,
     "metadata": {},
     "output_type": "execute_result"
    }
   ],
   "source": [
    "df_Tostadores_Totalizados.tail(5)"
   ]
  },
  {
   "cell_type": "code",
   "execution_count": 44,
   "metadata": {
    "colab": {
     "base_uri": "https://localhost:8080/"
    },
    "executionInfo": {
     "elapsed": 65,
     "status": "ok",
     "timestamp": 1754323699109,
     "user": {
      "displayName": "Melanny Herrera Arenas",
      "userId": "10791965058209715546"
     },
     "user_tz": 300
    },
    "id": "u45f8O3QKDub",
    "outputId": "6fd0a480-6617-4a8e-bfb3-cfcb94a63ba1"
   },
   "outputs": [
    {
     "data": {
      "text/plain": [
       "(2872, 12)"
      ]
     },
     "execution_count": 44,
     "metadata": {},
     "output_type": "execute_result"
    }
   ],
   "source": [
    "df_Tostadores_Totalizados.shape"
   ]
  },
  {
   "cell_type": "markdown",
   "metadata": {
    "id": "Lhiy1erlKT3p"
   },
   "source": [
    "**Indicador de consumo de gas por tonelada producida de café verde:** ahora, teniendo unos datos más organizados y filtrados, agregaremos dos columnas más al dataframe asociadas al indicador de consumo de gas por tonelada de café verde procesado; este indicador se calcula dividiendo el consumo de gas sobre las toneladas de café verde. Estas dos columnas serán objeto de un análisis descriptivo mas profundo en las siguiente sección, ya que indican que tan eficiente son los tostadores."
   ]
  },
  {
   "cell_type": "code",
   "execution_count": 45,
   "metadata": {
    "executionInfo": {
     "elapsed": 3,
     "status": "ok",
     "timestamp": 1754323699117,
     "user": {
      "displayName": "Melanny Herrera Arenas",
      "userId": "10791965058209715546"
     },
     "user_tz": 300
    },
    "id": "uTgbXhhA8_2y"
   },
   "outputs": [],
   "source": [
    "#generacion de indicadores de eficiencia energética e hídrica estandarizados por tonelada de cafe verde procesado\n",
    "#para verificar que tan eficiente es cada tostador, validar variaciones anormales y comparar el rendimiento entre fechas, turnos o maquinas\n",
    "\n",
    "df['Indicador_kWh/Ton'] = (df['Energia\\n(W)'] / df['Cafe Verde (KG)']) * 1000                # Generación del Indicador kWh/Ton (Indicador de energía vs café verde)\n",
    "df['Indicador_m3/Ton_Tost'] = (df['Gas Tostador M3'] / df['Cafe Verde (KG)']) * 1000         # Generación del Indicador m3/Ton-tostador\n",
    "df['Indicador_m3/Ton_Post'] = (df['Gas Postquemador M3 '] / df['Cafe Verde (KG)']) * 1000    # Generación del Indicador m3/Ton-Postquemador\n",
    "df['Indicador_m3/Ton_Total'] = df['Indicador_m3/Ton_Post'] + df['Indicador_m3/Ton_Tost']     # Generación del Indicador m3/Ton Totalizado (Postquemador + Tostador)\n",
    "df['Indicador_Lts/Ton'] = (df['Agua\\n(L)'] / df['Cafe Verde (KG)']) * 1000                   # Generación del Indicador Lts/Ton (Indicador de agua vs café verde)"
   ]
  },
  {
   "cell_type": "code",
   "execution_count": 46,
   "metadata": {
    "colab": {
     "base_uri": "https://localhost:8080/"
    },
    "executionInfo": {
     "elapsed": 31,
     "status": "ok",
     "timestamp": 1754323699152,
     "user": {
      "displayName": "Melanny Herrera Arenas",
      "userId": "10791965058209715546"
     },
     "user_tz": 300
    },
    "id": "BUOw10WzKJg8",
    "outputId": "00ca19e3-3af6-458d-bdcf-3181c8a8d153"
   },
   "outputs": [
    {
     "data": {
      "text/plain": [
       "(188164, 49)"
      ]
     },
     "execution_count": 46,
     "metadata": {},
     "output_type": "execute_result"
    }
   ],
   "source": [
    "df.shape"
   ]
  },
  {
   "cell_type": "markdown",
   "metadata": {
    "id": "VIQlJ91pK3oK"
   },
   "source": [
    "**Diagrama de Cajas y Bigotes**"
   ]
  },
  {
   "cell_type": "markdown",
   "metadata": {
    "id": "Mr5kDueAK-H7"
   },
   "source": [
    "Nos basaremos en un diagrama de Cajas para analizar la distribución de los datos asociados al indicador de Consumo de gas por tonelada de Café producido para Tostador y Postquemador con la intención de visualizar la mediana, los cuartiles y los posibles valores atipicos."
   ]
  },
  {
   "cell_type": "code",
   "execution_count": 47,
   "metadata": {
    "colab": {
     "base_uri": "https://localhost:8080/",
     "height": 475
    },
    "executionInfo": {
     "elapsed": 581,
     "status": "ok",
     "timestamp": 1754323699728,
     "user": {
      "displayName": "Melanny Herrera Arenas",
      "userId": "10791965058209715546"
     },
     "user_tz": 300
    },
    "id": "QVV4Y58B8_0o",
    "outputId": "7cc57ac8-313a-4027-da3d-a74b657d1aaa"
   },
   "outputs": [
    {
     "data": {
      "image/png": "[encoded data removed]",
      "text/plain": [
       "<Figure size 1400x500 with 2 Axes>"
      ]
     },
     "metadata": {},
     "output_type": "display_data"
    }
   ],
   "source": [
    "# --- Visualización de Boxplots para validación de datos ---\n",
    "fig, axs = plt.subplots(1, 2, figsize=(14, 5))                                  #se crea una figura (fig) con 1 fila y 2 columnas (axs es una lista de ejes: axs[0] y axs[1] y tamaño (figsize=(alto, ancho)))\n",
    "# Boxplot del Indicador de Gas en Tostador\n",
    "sns.boxplot(data=df, y='Indicador_m3/Ton_Tost', ax=axs[0], color='skyblue')     #.bloxplot (grafico de cajas y bigotes), data(dataframe a usar), y='columna'(columna a graficar), ax=axs[0](primer recuerdo/eje), color(color de grafico)\n",
    "axs[0].set_title('Boxplot - Indicador de gas/Ton en Tostador')                  #titulo principal\n",
    "axs[0].set_ylabel('m3/Ton Café Verde')                                          #titulo eje y para cambiar el por defecto\n",
    "axs[0].grid(True)                                                               #.grid(True)(mostrar cuadricula)\n",
    "\n",
    "# Boxplot del Indicador de Gas en Postquemador\n",
    "sns.boxplot(data=df, y='Indicador_m3/Ton_Post', ax=axs[1], color='salmon')      #.bloxplot (grafico de cajas y bigotes), data(dataframe a usar), y='columna'(columna a graficar), ax=axs[2](segundo recuerdo/eje), color(color de grafico)\n",
    "axs[1].set_title('Boxplot - Indicador de gas/Ton en Postquemador')              #titulo principal\n",
    "axs[1].set_ylabel('m3/Ton Café Verde')                                          #titulo eje y para cambiar el por defecto\n",
    "axs[1].grid(True)                                                               #.grid(True)(mostrar cuadricula)\n",
    "\n",
    "plt.tight_layout()                                                              #ajusta automaticamente el espaciado entre los subplots\n",
    "# plt.show()                                                                      #muestra el grafico"
   ]
  },
  {
   "cell_type": "markdown",
   "metadata": {
    "id": "E3QqRVE_LIw6"
   },
   "source": [
    "Nos soportaremos tambíen en el siguiente dataframe para sacar conclusiones iniciales respecto a los Indicadores de consumo de gas por tonelada de café producidos en Tostador y Postquemador."
   ]
  },
  {
   "cell_type": "code",
   "execution_count": 48,
   "metadata": {
    "colab": {
     "base_uri": "https://localhost:8080/",
     "height": 300
    },
    "executionInfo": {
     "elapsed": 40,
     "status": "ok",
     "timestamp": 1754323699769,
     "user": {
      "displayName": "Melanny Herrera Arenas",
      "userId": "10791965058209715546"
     },
     "user_tz": 300
    },
    "id": "k61G3KXc8_yi",
    "outputId": "17952f22-72fb-4096-e683-b2c055359a51"
   },
   "outputs": [
    {
     "data": {
      "text/html": [
       "<div>\n",
       "<style scoped>\n",
       "    .dataframe tbody tr th:only-of-type {\n",
       "        vertical-align: middle;\n",
       "    }\n",
       "\n",
       "    .dataframe tbody tr th {\n",
       "        vertical-align: top;\n",
       "    }\n",
       "\n",
       "    .dataframe thead th {\n",
       "        text-align: right;\n",
       "    }\n",
       "</style>\n",
       "<table border=\"1\" class=\"dataframe\">\n",
       "  <thead>\n",
       "    <tr style=\"text-align: right;\">\n",
       "      <th></th>\n",
       "      <th>Indicador_m3/Ton_Tost</th>\n",
       "      <th>Indicador_m3/Ton_Post</th>\n",
       "    </tr>\n",
       "  </thead>\n",
       "  <tbody>\n",
       "    <tr>\n",
       "      <th>count</th>\n",
       "      <td>188164.000000</td>\n",
       "      <td>188164.000000</td>\n",
       "    </tr>\n",
       "    <tr>\n",
       "      <th>mean</th>\n",
       "      <td>43.852725</td>\n",
       "      <td>15.118769</td>\n",
       "    </tr>\n",
       "    <tr>\n",
       "      <th>std</th>\n",
       "      <td>43.770158</td>\n",
       "      <td>36.375129</td>\n",
       "    </tr>\n",
       "    <tr>\n",
       "      <th>min</th>\n",
       "      <td>0.000000</td>\n",
       "      <td>0.000000</td>\n",
       "    </tr>\n",
       "    <tr>\n",
       "      <th>25%</th>\n",
       "      <td>27.882739</td>\n",
       "      <td>0.000000</td>\n",
       "    </tr>\n",
       "    <tr>\n",
       "      <th>50%</th>\n",
       "      <td>46.114288</td>\n",
       "      <td>13.747846</td>\n",
       "    </tr>\n",
       "    <tr>\n",
       "      <th>75%</th>\n",
       "      <td>55.723838</td>\n",
       "      <td>28.071039</td>\n",
       "    </tr>\n",
       "    <tr>\n",
       "      <th>max</th>\n",
       "      <td>14781.250733</td>\n",
       "      <td>13335.203926</td>\n",
       "    </tr>\n",
       "  </tbody>\n",
       "</table>\n",
       "</div>"
      ],
      "text/plain": [
       "       Indicador_m3/Ton_Tost  Indicador_m3/Ton_Post\n",
       "count          188164.000000          188164.000000\n",
       "mean               43.852725              15.118769\n",
       "std                43.770158              36.375129\n",
       "min                 0.000000               0.000000\n",
       "25%                27.882739               0.000000\n",
       "50%                46.114288              13.747846\n",
       "75%                55.723838              28.071039\n",
       "max             14781.250733           13335.203926"
      ]
     },
     "execution_count": 48,
     "metadata": {},
     "output_type": "execute_result"
    }
   ],
   "source": [
    "Estadisticas_Indicadores = df[['Indicador_m3/Ton_Tost', 'Indicador_m3/Ton_Post']].describe()\n",
    "Estadisticas_Indicadores"
   ]
  },
  {
   "cell_type": "markdown",
   "metadata": {
    "id": "Z1Ic6vx-LOQE"
   },
   "source": [
    "Como se puede observar de la anterior tabla, los valores máximos alcanzados por los indicadores se observan muy alejados de la media e inclusive del 3er cuartil (Q3), es muy probable que estos valores tan altos estén relacionados con que el valor obtenido del café verde procesado. A veces el dato de la báscula toma valores muy cercanos a 0, producto de entre otras cosas de procedimientos  y parte del proceso . lo ideal sería aislar estos datos. Para ello utilizaremos la definición del rango intercuartilico (IQR) y lo aplicaremos al conjunto de datos.\n",
    "\n",
    "- **Rango Intercuartílico (IQR):**Es una medida de dispersión estadística que se utiliza para evaluar la variabilidad en el rango intermedio de un conjunto de datos, excluyendo los valores atípicos o extremos.\n",
    "\n",
    "Es decir, el rango intercuartílico es un indicador que nos permite acercarnos a la variabilidad de las observaciones que se encuentran cercanos a la mediana. Se calcula como la diferencia entre el primer y el tercer cuartil.\n",
    "\n",
    "El rango intercuartílico es una medida más robusta que el rango tradicional, ya que se basa en los valores de los cuartiles en lugar de los valores máximo y mínimo del conjunto de datos.\n",
    "\n",
    "Debemos recordar que los cuartiles son valores que dividen un conjunto de datos ordenados en cuatro partes iguales.\n",
    "\n",
    "El primer cuartil (Q1) es el valor que deja atrás al 25% más bajo de los datos, el segundo cuartil (Q2) es equivalente a la mediana y el tercer cuartil (Q3) es el valor que deja atrás al 75% más bajo de los datos.\n",
    "\n",
    "\n",
    "<center>\n",
    "  <img src=\"https://drive.google.com/uc?export=view&id=1byLs8ebcdiV57wTWFaOXLHEHfREXCF9G\" width=\"90%\" alt=\"Imagen desde Drive\">\n",
    "</center>\n",
    "\n",
    "\n",
    "Para ello creamos al inicio del Script una función llamada :  **Filtrado IQR**, se le aplicará al conjunto de datos y solo quedarán aquellos valores que estén entre el rango intercuartílico para el análisis de indicadores."
   ]
  },
  {
   "cell_type": "code",
   "execution_count": 49,
   "metadata": {
    "colab": {
     "base_uri": "https://localhost:8080/",
     "height": 237
    },
    "executionInfo": {
     "elapsed": 154,
     "status": "ok",
     "timestamp": 1754323699926,
     "user": {
      "displayName": "Melanny Herrera Arenas",
      "userId": "10791965058209715546"
     },
     "user_tz": 300
    },
    "id": "DTUUv4zu8_wP",
    "outputId": "47f9b3ee-08e9-4c72-9379-84560d1b27d6"
   },
   "outputs": [
    {
     "data": {
      "text/html": [
       "<div>\n",
       "<style scoped>\n",
       "    .dataframe tbody tr th:only-of-type {\n",
       "        vertical-align: middle;\n",
       "    }\n",
       "\n",
       "    .dataframe tbody tr th {\n",
       "        vertical-align: top;\n",
       "    }\n",
       "\n",
       "    .dataframe thead th {\n",
       "        text-align: right;\n",
       "    }\n",
       "</style>\n",
       "<table border=\"1\" class=\"dataframe\">\n",
       "  <thead>\n",
       "    <tr style=\"text-align: right;\">\n",
       "      <th></th>\n",
       "      <th>Cantidad descartada</th>\n",
       "      <th>Proporción (%)</th>\n",
       "    </tr>\n",
       "    <tr>\n",
       "      <th>Tostador</th>\n",
       "      <th></th>\n",
       "      <th></th>\n",
       "    </tr>\n",
       "  </thead>\n",
       "  <tbody>\n",
       "    <tr>\n",
       "      <th>TOSTADOR 1</th>\n",
       "      <td>33</td>\n",
       "      <td>49.25</td>\n",
       "    </tr>\n",
       "    <tr>\n",
       "      <th>TOSTADOR 5</th>\n",
       "      <td>14</td>\n",
       "      <td>20.90</td>\n",
       "    </tr>\n",
       "    <tr>\n",
       "      <th>TOSTADOR 4</th>\n",
       "      <td>9</td>\n",
       "      <td>13.43</td>\n",
       "    </tr>\n",
       "    <tr>\n",
       "      <th>TOSTADOR 2</th>\n",
       "      <td>6</td>\n",
       "      <td>8.96</td>\n",
       "    </tr>\n",
       "    <tr>\n",
       "      <th>TOSTADOR 3</th>\n",
       "      <td>4</td>\n",
       "      <td>5.97</td>\n",
       "    </tr>\n",
       "  </tbody>\n",
       "</table>\n",
       "</div>"
      ],
      "text/plain": [
       "            Cantidad descartada  Proporción (%)\n",
       "Tostador                                       \n",
       "TOSTADOR 1                   33           49.25\n",
       "TOSTADOR 5                   14           20.90\n",
       "TOSTADOR 4                    9           13.43\n",
       "TOSTADOR 2                    6            8.96\n",
       "TOSTADOR 3                    4            5.97"
      ]
     },
     "execution_count": 49,
     "metadata": {},
     "output_type": "execute_result"
    }
   ],
   "source": [
    "df_filtrado = fc.filtrado_IQR(df)\n",
    "resumen, descartados = fc.resumen_descartes_por_tostador(df, df_filtrado)\n",
    "resumen.head()"
   ]
  },
  {
   "cell_type": "code",
   "execution_count": 50,
   "metadata": {
    "colab": {
     "base_uri": "https://localhost:8080/"
    },
    "executionInfo": {
     "elapsed": 40,
     "status": "ok",
     "timestamp": 1754323699968,
     "user": {
      "displayName": "Melanny Herrera Arenas",
      "userId": "10791965058209715546"
     },
     "user_tz": 300
    },
    "id": "f6-JBJHQKRrr",
    "outputId": "9409f929-4619-4fd5-b1b3-3e9b002161bc"
   },
   "outputs": [
    {
     "data": {
      "text/plain": [
       "(188097, 49)"
      ]
     },
     "execution_count": 50,
     "metadata": {},
     "output_type": "execute_result"
    }
   ],
   "source": [
    "df_filtrado.shape"
   ]
  },
  {
   "cell_type": "code",
   "execution_count": 51,
   "metadata": {
    "colab": {
     "base_uri": "https://localhost:8080/",
     "height": 237
    },
    "executionInfo": {
     "elapsed": 25,
     "status": "ok",
     "timestamp": 1754323699995,
     "user": {
      "displayName": "Melanny Herrera Arenas",
      "userId": "10791965058209715546"
     },
     "user_tz": 300
    },
    "id": "e42I7ztK8_uI",
    "outputId": "c1f49faf-49b1-464e-a55d-63b6efadb2ed"
   },
   "outputs": [
    {
     "data": {
      "text/html": [
       "<div>\n",
       "<style scoped>\n",
       "    .dataframe tbody tr th:only-of-type {\n",
       "        vertical-align: middle;\n",
       "    }\n",
       "\n",
       "    .dataframe tbody tr th {\n",
       "        vertical-align: top;\n",
       "    }\n",
       "\n",
       "    .dataframe thead th {\n",
       "        text-align: right;\n",
       "    }\n",
       "</style>\n",
       "<table border=\"1\" class=\"dataframe\">\n",
       "  <thead>\n",
       "    <tr style=\"text-align: right;\">\n",
       "      <th></th>\n",
       "      <th>Tostador</th>\n",
       "      <th>Cantidad descartada</th>\n",
       "      <th>Proporción (%)</th>\n",
       "    </tr>\n",
       "  </thead>\n",
       "  <tbody>\n",
       "    <tr>\n",
       "      <th>0</th>\n",
       "      <td>TOSTADOR 1</td>\n",
       "      <td>33</td>\n",
       "      <td>49.25</td>\n",
       "    </tr>\n",
       "    <tr>\n",
       "      <th>1</th>\n",
       "      <td>TOSTADOR 5</td>\n",
       "      <td>14</td>\n",
       "      <td>20.90</td>\n",
       "    </tr>\n",
       "    <tr>\n",
       "      <th>2</th>\n",
       "      <td>TOSTADOR 4</td>\n",
       "      <td>9</td>\n",
       "      <td>13.43</td>\n",
       "    </tr>\n",
       "    <tr>\n",
       "      <th>3</th>\n",
       "      <td>TOSTADOR 2</td>\n",
       "      <td>6</td>\n",
       "      <td>8.96</td>\n",
       "    </tr>\n",
       "    <tr>\n",
       "      <th>4</th>\n",
       "      <td>TOSTADOR 3</td>\n",
       "      <td>4</td>\n",
       "      <td>5.97</td>\n",
       "    </tr>\n",
       "    <tr>\n",
       "      <th>5</th>\n",
       "      <td>TOSTADOR 6</td>\n",
       "      <td>1</td>\n",
       "      <td>1.49</td>\n",
       "    </tr>\n",
       "  </tbody>\n",
       "</table>\n",
       "</div>"
      ],
      "text/plain": [
       "     Tostador  Cantidad descartada  Proporción (%)\n",
       "0  TOSTADOR 1                   33           49.25\n",
       "1  TOSTADOR 5                   14           20.90\n",
       "2  TOSTADOR 4                    9           13.43\n",
       "3  TOSTADOR 2                    6            8.96\n",
       "4  TOSTADOR 3                    4            5.97\n",
       "5  TOSTADOR 6                    1            1.49"
      ]
     },
     "execution_count": 51,
     "metadata": {},
     "output_type": "execute_result"
    }
   ],
   "source": [
    "resumen = resumen.reset_index()                                          #restaura los indices conservando el anterior como columna en este caso 'Tostador'\n",
    "resumen.columns = [\"Tostador\", \"Cantidad descartada\", \"Proporción (%)\"]  #se renombran los nombres de las columnas, sin rename sino que es sobrescribiendo ya que no esta cambiando de antiguos a nuevos isno validando y definiendo un orden\n",
    "resumen=resumen.sort_values(by=\"Cantidad descartada\", ascending=False)   #se ordena la informacion de forma descendiente (mayor a menor)\n",
    "resumen"
   ]
  },
  {
   "cell_type": "markdown",
   "metadata": {
    "id": "BqKbvMuoLabq"
   },
   "source": [
    "Información sobre la cantidad de datos atipicos y su representación sobre el total"
   ]
  },
  {
   "cell_type": "code",
   "execution_count": 52,
   "metadata": {
    "colab": {
     "base_uri": "https://localhost:8080/"
    },
    "executionInfo": {
     "elapsed": 18,
     "status": "ok",
     "timestamp": 1754323700015,
     "user": {
      "displayName": "Melanny Herrera Arenas",
      "userId": "10791965058209715546"
     },
     "user_tz": 300
    },
    "id": "8mp4T5Gc8_r3",
    "outputId": "3104d274-212a-4a90-a1d4-95c04270c008"
   },
   "outputs": [
    {
     "name": "stdout",
     "output_type": "stream",
     "text": [
      "Con base en la anterior información, la cantidad de registros descartados son:67 lo cual representan el 0.04% de los datos\n"
     ]
    }
   ],
   "source": [
    "# Con base en la anterior información, la cantidad de registros atipicos representan...\n",
    "Atipicos = resumen['Cantidad descartada'].sum()\n",
    "Atipicos_porcent = (resumen['Cantidad descartada'].sum() / df.shape[0]) * 100\n",
    "print(f\"Con base en la anterior información, la cantidad de registros descartados son:{Atipicos} lo cual representan el {Atipicos_porcent:.2f}% de los datos\")"
   ]
  },
  {
   "cell_type": "code",
   "execution_count": 53,
   "metadata": {
    "executionInfo": {
     "elapsed": 72,
     "status": "ok",
     "timestamp": 1754323700088,
     "user": {
      "displayName": "Melanny Herrera Arenas",
      "userId": "10791965058209715546"
     },
     "user_tz": 300
    },
    "id": "cmZdwVQ18_pf"
   },
   "outputs": [],
   "source": [
    "#se crea una copia del dataframe filtrado\n",
    "df = df_filtrado.copy()"
   ]
  },
  {
   "cell_type": "code",
   "execution_count": 54,
   "metadata": {
    "colab": {
     "base_uri": "https://localhost:8080/"
    },
    "executionInfo": {
     "elapsed": 16,
     "status": "ok",
     "timestamp": 1754323700090,
     "user": {
      "displayName": "Melanny Herrera Arenas",
      "userId": "10791965058209715546"
     },
     "user_tz": 300
    },
    "id": "fJf4NL1bKZjq",
    "outputId": "abd4b495-ba45-477d-9774-f11de4551ae5"
   },
   "outputs": [
    {
     "data": {
      "text/plain": [
       "(188097, 49)"
      ]
     },
     "execution_count": 54,
     "metadata": {},
     "output_type": "execute_result"
    }
   ],
   "source": [
    "df.shape"
   ]
  },
  {
   "cell_type": "code",
   "execution_count": 55,
   "metadata": {
    "colab": {
     "base_uri": "https://localhost:8080/",
     "height": 475
    },
    "executionInfo": {
     "elapsed": 876,
     "status": "ok",
     "timestamp": 1754323700961,
     "user": {
      "displayName": "Melanny Herrera Arenas",
      "userId": "10791965058209715546"
     },
     "user_tz": 300
    },
    "id": "KQrfj-0g8_kX",
    "outputId": "21ee0db4-7312-440f-d64a-f027c19ac0f1"
   },
   "outputs": [
    {
     "data": {
      "image/png": "[encoded data removed]",
      "text/plain": [
       "<Figure size 1400x500 with 2 Axes>"
      ]
     },
     "metadata": {},
     "output_type": "display_data"
    }
   ],
   "source": [
    "fig, axs = plt.subplots(1, 2, figsize=(14, 5))\n",
    "# Boxplot del Indicador de Gas en Tostador\n",
    "sns.boxplot(data=df, y='Indicador_m3/Ton_Tost', ax=axs[0], color='skyblue')\n",
    "axs[0].set_title('Boxplot - Indicador de gas/Ton en Tostador')\n",
    "axs[0].set_ylabel('m3/Ton Café Verde')\n",
    "axs[0].grid(True)\n",
    "\n",
    "# Boxplot del Indicador de Gas en Postquemador\n",
    "sns.boxplot(data=df, y='Indicador_m3/Ton_Post', ax=axs[1], color='salmon')\n",
    "axs[1].set_title('Boxplot - Indicador de gas/Ton en Postquemador')\n",
    "axs[1].set_ylabel('m3/Ton Café Verde')\n",
    "axs[1].grid(True)\n",
    "\n",
    "plt.tight_layout()\n",
    "# plt.show()"
   ]
  },
  {
   "cell_type": "markdown",
   "metadata": {
    "id": "P5RpsO5zLzC7"
   },
   "source": [
    "###**Datos Inconsistentes**"
   ]
  },
  {
   "cell_type": "markdown",
   "metadata": {
    "id": "XrvJ6k9VL4JT"
   },
   "source": [
    "Para analizar los datos inconsistentes, se tendrá en cuenta los tipos de datos de las columnas del dataframe. Mediante la función .dtypes que ya se visualizó con anterioridad, inicialmente no se observan inconsistencias en cuanto a los tipos de datos, es decir: las columnas que se espera sean numéricas están con formatos tipo float e int64, la columna de Fecha Hora ya está en el formato adecuado y todas las columnas de Cafe verde, Café tostado, etc..están en formato tipo float64. Por el momento y como columnas claves a verificar, se validará primero las columnas de \"Tostador\" y \"Material\" identificando inicialmente los valores únicos, teniendo en cuenta los espacios y las minusculas/mayusculas en los nombres de las anteriores columnas."
   ]
  },
  {
   "cell_type": "code",
   "execution_count": 56,
   "metadata": {
    "colab": {
     "base_uri": "https://localhost:8080/",
     "height": 1000
    },
    "executionInfo": {
     "elapsed": 7,
     "status": "ok",
     "timestamp": 1754323700962,
     "user": {
      "displayName": "Melanny Herrera Arenas",
      "userId": "10791965058209715546"
     },
     "user_tz": 300
    },
    "id": "PVqCrhRt8_hu",
    "outputId": "c4388460-9051-4f64-ac8d-6a03e1c99f84"
   },
   "outputs": [
    {
     "data": {
      "text/plain": [
       "Tostador                                         object\n",
       "Material                                        float64\n",
       "Orden                                             int64\n",
       "Bache de Control                                  int64\n",
       "Descripción de Material                          object\n",
       "Lote                                             object\n",
       "Entry                                            object\n",
       "Destino Real                                     object\n",
       "Fecha Hora                               datetime64[ns]\n",
       "Tiempo Total  Tostion    (SEG )                   int64\n",
       "Cafe Verde (KG)                                 float64\n",
       "Cafe Tostado     (KG)                           float64\n",
       "Cafe Tostado. Recal (KG)                        float64\n",
       "Merma (%)                                       float64\n",
       "Temperatura Critica  1\\n(C °)                   float64\n",
       "Temperatura Critica 2      (C °)                float64\n",
       "Temperatura Critica 3       (C °)               float64\n",
       "Tiempo Critico  1 (Seg)                         float64\n",
       "Tiempo Critico 2 (Seg)                          float64\n",
       "Tiempo Critico 3\\n(Seg)                         float64\n",
       "Ultima LLama\\n(C °)                             float64\n",
       "Agua\\n(L)                                       float64\n",
       "Energia\\n(W)                                    float64\n",
       "Gas Tostador M3                                 float64\n",
       "Gas Postquemador M3                             float64\n",
       "Temperatura Carga\\n(°C)                         float64\n",
       "Tiempo Entrada Agua (Seg)                       float64\n",
       "Tiempo Calentamiento (Seg)                      float64\n",
       "TiempoPrecalentamiento                          float64\n",
       "Tiempo Arranque (Seg)                           float64\n",
       "Gas Tostador Arranque (m3)                      float64\n",
       "Gas Postquemador Arranque (m3)                  float64\n",
       "Energía Electrica Arranque (kWh)                float64\n",
       "Tiempo calentamiento (Seg)                      float64\n",
       "Gas Tostador Calentamiento (m3)                 float64\n",
       "Gas Postquemador Calentamiento (m3)             float64\n",
       "Energía Electrica Calentamiento (kWh)           float64\n",
       "Año                                               int32\n",
       "Dia                                               int32\n",
       "Mes_Numero                                        int32\n",
       "Mes                                              object\n",
       "Hora                                              int32\n",
       "Turnos                                           object\n",
       "Fecha                                            object\n",
       "Indicador_kWh/Ton                               float64\n",
       "Indicador_m3/Ton_Tost                           float64\n",
       "Indicador_m3/Ton_Post                           float64\n",
       "Indicador_m3/Ton_Total                          float64\n",
       "Indicador_Lts/Ton                               float64\n",
       "dtype: object"
      ]
     },
     "execution_count": 56,
     "metadata": {},
     "output_type": "execute_result"
    }
   ],
   "source": [
    "df.dtypes"
   ]
  },
  {
   "cell_type": "code",
   "execution_count": 57,
   "metadata": {
    "colab": {
     "base_uri": "https://localhost:8080/"
    },
    "executionInfo": {
     "elapsed": 431,
     "status": "ok",
     "timestamp": 1754323701389,
     "user": {
      "displayName": "Melanny Herrera Arenas",
      "userId": "10791965058209715546"
     },
     "user_tz": 300
    },
    "id": "U3jMnTpA8_bP",
    "outputId": "e09d8b3c-5194-430a-8649-34927796a5c1"
   },
   "outputs": [
    {
     "name": "stdout",
     "output_type": "stream",
     "text": [
      "\n",
      "🧐 Análisis de la columna: Tostador \n",
      "----------------------------------------\n",
      "Valores únicos (7): ['TOSTADOR 1' 'TOSTADOR 2' 'TOSTADOR 3' 'TOSTADOR 4' 'TOSTADOR 5'\n",
      " 'TOSTADOR 6' 'TOSTADOR 7']\n",
      "🔸 Valores nulos: 0\n",
      "\n",
      "🔸 Conteo de valores tras limpieza (minúsculas y espacios):\n",
      "Tostador \n",
      "tostador 7    52028\n",
      "tostador 1    35862\n",
      "tostador 6    29463\n",
      "tostador 5    27088\n",
      "tostador 3    24312\n",
      "tostador 2    11813\n",
      "tostador 4     7531\n",
      "Name: count, dtype: int64\n",
      "\n",
      "🧐 Análisis de la columna: Material\n",
      "----------------------------------------\n",
      "Valores únicos (141): [3002547. 3002552. 3002553. 3002556. 3002557. 3002567. 3002569. 3002570.\n",
      " 3002571. 3002572. 3002855. 3002863. 3002874. 3007749. 3007755. 3008485.\n",
      " 3010189. 3010661. 3012942. 3013169. 3014256. 3015866. 3018393. 3018964.\n",
      " 3019385. 3019581. 3020154. 3020891. 3020952. 3021367. 3021635. 3021927.\n",
      " 3021988. 3022369. 3023178. 3024240. 3024304. 3024305. 3024796. 3024832.\n",
      " 3025050. 3025116. 3025247. 3025250. 3025252. 3025256. 3026674. 3027531.\n",
      " 3027605. 3027609. 3027611. 3029228. 3029631. 3030039. 3030120. 3030312.\n",
      " 3030314. 3030384.   61911. 3002536. 3002541. 3002546. 3002836. 3002864.\n",
      " 3002865. 3002866. 3004379. 3007587. 3007975. 3008290. 3014253. 3014254.\n",
      " 3014255. 3014343. 3014727. 3015444. 3016514. 3018864. 3019034. 3019386.\n",
      " 3020193. 3023287. 3024831. 3026209. 3026218. 3026804. 3027052. 3029465.\n",
      " 3029648. 3029919. 3030658. 3031467.   62247. 3023286. 3004874. 3023279.\n",
      " 3025520. 3029279. 3029304.   52917. 3010993. 3019642. 3019882. 3019880.\n",
      " 3025824. 3025825. 3025826. 3029278. 3029286. 3029437. 3031308. 3031438.\n",
      " 3031475.   58252.   58253.   62455. 3029280. 3024833. 3025313. 3026828.\n",
      " 3008236. 3007748. 3019412. 3023177. 3030007. 3025823. 3019639. 3002859.\n",
      " 3008611. 3021775. 3026739. 3031429. 3030528. 3031666. 3031361. 3031665.\n",
      " 3019861. 3031844. 3021066. 3026740. 3032782.]\n",
      "🔸 Valores nulos: 0\n",
      "\n",
      "🔸 Conteo de valores tras limpieza (minúsculas y espacios):\n",
      "Material\n",
      "3002855.0    27985\n",
      "3020891.0    12364\n",
      "3022369.0    12197\n",
      "3002570.0     8672\n",
      "3007749.0     8420\n",
      "             ...  \n",
      "3025823.0        2\n",
      "3021066.0        2\n",
      "3002859.0        1\n",
      "3026740.0        1\n",
      "3032782.0        1\n",
      "Name: count, Length: 141, dtype: int64\n"
     ]
    }
   ],
   "source": [
    "columnas = [\"Tostador \", \"Material\"]\n",
    "informe = fc.analizar_inconsistencias_categoricas(df, columnas)  #es un diccionario de diccionarios"
   ]
  },
  {
   "cell_type": "markdown",
   "metadata": {
    "id": "ogiAGe5yMY0x"
   },
   "source": [
    "**Listado de Tostadores y Descripción de Materiales por Tostador**"
   ]
  },
  {
   "cell_type": "code",
   "execution_count": 58,
   "metadata": {
    "colab": {
     "base_uri": "https://localhost:8080/",
     "height": 174
    },
    "executionInfo": {
     "elapsed": 4,
     "status": "ok",
     "timestamp": 1754323701394,
     "user": {
      "displayName": "Melanny Herrera Arenas",
      "userId": "10791965058209715546"
     },
     "user_tz": 300
    },
    "id": "iRyyLmUX8_Xb",
    "outputId": "b2ae9a86-f33d-4512-bb72-363544511edf"
   },
   "outputs": [
    {
     "data": {
      "text/html": [
       "<div>\n",
       "<style scoped>\n",
       "    .dataframe tbody tr th:only-of-type {\n",
       "        vertical-align: middle;\n",
       "    }\n",
       "\n",
       "    .dataframe tbody tr th {\n",
       "        vertical-align: top;\n",
       "    }\n",
       "\n",
       "    .dataframe thead th {\n",
       "        text-align: right;\n",
       "    }\n",
       "</style>\n",
       "<table border=\"1\" class=\"dataframe\">\n",
       "  <thead>\n",
       "    <tr style=\"text-align: right;\">\n",
       "      <th></th>\n",
       "      <th>Tostador</th>\n",
       "      <th>Descripción de Material</th>\n",
       "    </tr>\n",
       "  </thead>\n",
       "  <tbody>\n",
       "    <tr>\n",
       "      <th>0</th>\n",
       "      <td>TOSTADOR 1</td>\n",
       "      <td>Tostado Soluble COL</td>\n",
       "    </tr>\n",
       "    <tr>\n",
       "      <th>1</th>\n",
       "      <td>TOSTADOR 1</td>\n",
       "      <td>Tostado Soluble FCS</td>\n",
       "    </tr>\n",
       "    <tr>\n",
       "      <th>2</th>\n",
       "      <td>TOSTADOR 1</td>\n",
       "      <td>Tostado Soluble FCSO</td>\n",
       "    </tr>\n",
       "    <tr>\n",
       "      <th>3</th>\n",
       "      <td>TOSTADOR 1</td>\n",
       "      <td>Tostado Soluble FF</td>\n",
       "    </tr>\n",
       "  </tbody>\n",
       "</table>\n",
       "</div>"
      ],
      "text/plain": [
       "    Tostador  Descripción de Material\n",
       "0  TOSTADOR 1     Tostado Soluble COL\n",
       "1  TOSTADOR 1     Tostado Soluble FCS\n",
       "2  TOSTADOR 1    Tostado Soluble FCSO\n",
       "3  TOSTADOR 1      Tostado Soluble FF"
      ]
     },
     "execution_count": 58,
     "metadata": {},
     "output_type": "execute_result"
    }
   ],
   "source": [
    "combinaciones_unicas = df[['Tostador ', 'Descripción de Material']].drop_duplicates().reset_index(drop=True)\n",
    "combinaciones_unicas.head(4)"
   ]
  },
  {
   "cell_type": "markdown",
   "metadata": {
    "id": "VrLS6tjvMhmS"
   },
   "source": [
    "###**Tratamiento de los datos de consumo de gas desde ambiental**"
   ]
  },
  {
   "cell_type": "markdown",
   "metadata": {
    "id": "5_n3E4EoFuw3"
   },
   "source": [
    "**Proceso de extraccion de los datos para Tostador**"
   ]
  },
  {
   "cell_type": "code",
   "execution_count": 59,
   "metadata": {
    "executionInfo": {
     "elapsed": 2,
     "status": "ok",
     "timestamp": 1754323701402,
     "user": {
      "displayName": "Melanny Herrera Arenas",
      "userId": "10791965058209715546"
     },
     "user_tz": 300
    },
    "id": "fRPgEfc-E-jd"
   },
   "outputs": [],
   "source": [
    "df_Total_amb, conteos = fc.consumo_gas_tostador(df_Ambiental)"
   ]
  },
  {
   "cell_type": "code",
   "execution_count": 60,
   "metadata": {
    "colab": {
     "base_uri": "https://localhost:8080/",
     "height": 423
    },
    "executionInfo": {
     "elapsed": 93,
     "status": "ok",
     "timestamp": 1754323701497,
     "user": {
      "displayName": "Melanny Herrera Arenas",
      "userId": "10791965058209715546"
     },
     "user_tz": 300
    },
    "id": "hUspa_xeP2RP",
    "outputId": "8eed7520-a628-41d0-8882-1e76661d8b9d"
   },
   "outputs": [
    {
     "data": {
      "text/html": [
       "<div>\n",
       "<style scoped>\n",
       "    .dataframe tbody tr th:only-of-type {\n",
       "        vertical-align: middle;\n",
       "    }\n",
       "\n",
       "    .dataframe tbody tr th {\n",
       "        vertical-align: top;\n",
       "    }\n",
       "\n",
       "    .dataframe thead th {\n",
       "        text-align: right;\n",
       "    }\n",
       "</style>\n",
       "<table border=\"1\" class=\"dataframe\">\n",
       "  <thead>\n",
       "    <tr style=\"text-align: right;\">\n",
       "      <th></th>\n",
       "      <th>Fecha</th>\n",
       "      <th>Año</th>\n",
       "      <th>Mes</th>\n",
       "      <th>Dia</th>\n",
       "      <th>Consumo gas tostador</th>\n",
       "      <th>Consumo gas postquemador</th>\n",
       "      <th>Café verde</th>\n",
       "      <th>Tostador</th>\n",
       "      <th>Ciudad</th>\n",
       "    </tr>\n",
       "  </thead>\n",
       "  <tbody>\n",
       "    <tr>\n",
       "      <th>1611</th>\n",
       "      <td>1/6/2025</td>\n",
       "      <td>2025.0</td>\n",
       "      <td>Junio</td>\n",
       "      <td>1.0</td>\n",
       "      <td>1.928,1</td>\n",
       "      <td>525,9</td>\n",
       "      <td>35,4</td>\n",
       "      <td>TOSTADOR 1</td>\n",
       "      <td>Medellín</td>\n",
       "    </tr>\n",
       "    <tr>\n",
       "      <th>1612</th>\n",
       "      <td>2/6/2025</td>\n",
       "      <td>2025.0</td>\n",
       "      <td>Junio</td>\n",
       "      <td>2.0</td>\n",
       "      <td>2.127,6</td>\n",
       "      <td>535,4</td>\n",
       "      <td>41,7</td>\n",
       "      <td>TOSTADOR 1</td>\n",
       "      <td>Medellín</td>\n",
       "    </tr>\n",
       "    <tr>\n",
       "      <th>1613</th>\n",
       "      <td>3/6/2025</td>\n",
       "      <td>2025.0</td>\n",
       "      <td>Junio</td>\n",
       "      <td>3.0</td>\n",
       "      <td>2.128,3</td>\n",
       "      <td>371,5</td>\n",
       "      <td>39,9</td>\n",
       "      <td>TOSTADOR 1</td>\n",
       "      <td>Medellín</td>\n",
       "    </tr>\n",
       "    <tr>\n",
       "      <th>1614</th>\n",
       "      <td>4/6/2025</td>\n",
       "      <td>2025.0</td>\n",
       "      <td>Junio</td>\n",
       "      <td>4.0</td>\n",
       "      <td>2.220,5</td>\n",
       "      <td>0,0</td>\n",
       "      <td>40,4</td>\n",
       "      <td>TOSTADOR 1</td>\n",
       "      <td>Medellín</td>\n",
       "    </tr>\n",
       "    <tr>\n",
       "      <th>1615</th>\n",
       "      <td>5/6/2025</td>\n",
       "      <td>2025.0</td>\n",
       "      <td>Junio</td>\n",
       "      <td>5.0</td>\n",
       "      <td>2.187,0</td>\n",
       "      <td>0,0</td>\n",
       "      <td>35,3</td>\n",
       "      <td>TOSTADOR 1</td>\n",
       "      <td>Medellín</td>\n",
       "    </tr>\n",
       "    <tr>\n",
       "      <th>...</th>\n",
       "      <td>...</td>\n",
       "      <td>...</td>\n",
       "      <td>...</td>\n",
       "      <td>...</td>\n",
       "      <td>...</td>\n",
       "      <td>...</td>\n",
       "      <td>...</td>\n",
       "      <td>...</td>\n",
       "      <td>...</td>\n",
       "    </tr>\n",
       "    <tr>\n",
       "      <th>11477</th>\n",
       "      <td>26/6/2025</td>\n",
       "      <td>2025.0</td>\n",
       "      <td>Junio</td>\n",
       "      <td>26.0</td>\n",
       "      <td>1.024,2</td>\n",
       "      <td>0</td>\n",
       "      <td>43,7</td>\n",
       "      <td>TOSTADOR 7</td>\n",
       "      <td>Medellín</td>\n",
       "    </tr>\n",
       "    <tr>\n",
       "      <th>11478</th>\n",
       "      <td>27/6/2025</td>\n",
       "      <td>2025.0</td>\n",
       "      <td>Junio</td>\n",
       "      <td>27.0</td>\n",
       "      <td>1.565,7</td>\n",
       "      <td>0</td>\n",
       "      <td>49,5</td>\n",
       "      <td>TOSTADOR 7</td>\n",
       "      <td>Medellín</td>\n",
       "    </tr>\n",
       "    <tr>\n",
       "      <th>11479</th>\n",
       "      <td>28/6/2025</td>\n",
       "      <td>2025.0</td>\n",
       "      <td>Junio</td>\n",
       "      <td>28.0</td>\n",
       "      <td>1.436,0</td>\n",
       "      <td>0</td>\n",
       "      <td>40,1</td>\n",
       "      <td>TOSTADOR 7</td>\n",
       "      <td>Medellín</td>\n",
       "    </tr>\n",
       "    <tr>\n",
       "      <th>11480</th>\n",
       "      <td>29/6/2025</td>\n",
       "      <td>2025.0</td>\n",
       "      <td>Junio</td>\n",
       "      <td>29.0</td>\n",
       "      <td>391,3</td>\n",
       "      <td>0</td>\n",
       "      <td>0,0</td>\n",
       "      <td>TOSTADOR 7</td>\n",
       "      <td>Medellín</td>\n",
       "    </tr>\n",
       "    <tr>\n",
       "      <th>11481</th>\n",
       "      <td>30/6/2025</td>\n",
       "      <td>2025.0</td>\n",
       "      <td>Junio</td>\n",
       "      <td>30.0</td>\n",
       "      <td>375,4</td>\n",
       "      <td>0</td>\n",
       "      <td>14,6</td>\n",
       "      <td>TOSTADOR 7</td>\n",
       "      <td>Medellín</td>\n",
       "    </tr>\n",
       "  </tbody>\n",
       "</table>\n",
       "<p>210 rows × 9 columns</p>\n",
       "</div>"
      ],
      "text/plain": [
       "           Fecha     Año    Mes   Dia Consumo gas tostador  \\\n",
       "1611    1/6/2025  2025.0  Junio   1.0              1.928,1   \n",
       "1612    2/6/2025  2025.0  Junio   2.0              2.127,6   \n",
       "1613    3/6/2025  2025.0  Junio   3.0              2.128,3   \n",
       "1614    4/6/2025  2025.0  Junio   4.0              2.220,5   \n",
       "1615    5/6/2025  2025.0  Junio   5.0              2.187,0   \n",
       "...          ...     ...    ...   ...                  ...   \n",
       "11477  26/6/2025  2025.0  Junio  26.0              1.024,2   \n",
       "11478  27/6/2025  2025.0  Junio  27.0              1.565,7   \n",
       "11479  28/6/2025  2025.0  Junio  28.0              1.436,0   \n",
       "11480  29/6/2025  2025.0  Junio  29.0                391,3   \n",
       "11481  30/6/2025  2025.0  Junio  30.0                375,4   \n",
       "\n",
       "      Consumo gas postquemador Café verde    Tostador    Ciudad  \n",
       "1611                     525,9       35,4  TOSTADOR 1  Medellín  \n",
       "1612                     535,4       41,7  TOSTADOR 1  Medellín  \n",
       "1613                     371,5       39,9  TOSTADOR 1  Medellín  \n",
       "1614                       0,0       40,4  TOSTADOR 1  Medellín  \n",
       "1615                       0,0       35,3  TOSTADOR 1  Medellín  \n",
       "...                        ...        ...         ...       ...  \n",
       "11477                        0       43,7  TOSTADOR 7  Medellín  \n",
       "11478                        0       49,5  TOSTADOR 7  Medellín  \n",
       "11479                        0       40,1  TOSTADOR 7  Medellín  \n",
       "11480                        0        0,0  TOSTADOR 7  Medellín  \n",
       "11481                        0       14,6  TOSTADOR 7  Medellín  \n",
       "\n",
       "[210 rows x 9 columns]"
      ]
     },
     "execution_count": 60,
     "metadata": {},
     "output_type": "execute_result"
    }
   ],
   "source": [
    "df_Total_amb.loc[(df_Total_amb['Mes']==\"Junio\") & (df_Total_amb['Año']==2025) ]"
   ]
  },
  {
   "cell_type": "code",
   "execution_count": 61,
   "metadata": {
    "colab": {
     "base_uri": "https://localhost:8080/"
    },
    "executionInfo": {
     "elapsed": 14,
     "status": "ok",
     "timestamp": 1754323701516,
     "user": {
      "displayName": "Melanny Herrera Arenas",
      "userId": "10791965058209715546"
     },
     "user_tz": 300
    },
    "id": "Sb_GkVg-KsRy",
    "outputId": "ad413116-61cd-4cfc-f0a2-46cca93b8091"
   },
   "outputs": [
    {
     "data": {
      "text/plain": [
       "(11482, 9)"
      ]
     },
     "execution_count": 61,
     "metadata": {},
     "output_type": "execute_result"
    }
   ],
   "source": [
    "df_Total_amb.shape"
   ]
  },
  {
   "cell_type": "code",
   "execution_count": 62,
   "metadata": {},
   "outputs": [
    {
     "data": {
      "text/html": [
       "<div>\n",
       "<style scoped>\n",
       "    .dataframe tbody tr th:only-of-type {\n",
       "        vertical-align: middle;\n",
       "    }\n",
       "\n",
       "    .dataframe tbody tr th {\n",
       "        vertical-align: top;\n",
       "    }\n",
       "\n",
       "    .dataframe thead th {\n",
       "        text-align: right;\n",
       "    }\n",
       "</style>\n",
       "<table border=\"1\" class=\"dataframe\">\n",
       "  <thead>\n",
       "    <tr style=\"text-align: right;\">\n",
       "      <th></th>\n",
       "      <th>Fecha</th>\n",
       "      <th>Año</th>\n",
       "      <th>Mes</th>\n",
       "      <th>Dia</th>\n",
       "      <th>Consumo gas tostador</th>\n",
       "      <th>Consumo gas postquemador</th>\n",
       "      <th>Café verde</th>\n",
       "      <th>Tostador</th>\n",
       "      <th>Ciudad</th>\n",
       "    </tr>\n",
       "  </thead>\n",
       "  <tbody>\n",
       "    <tr>\n",
       "      <th>0</th>\n",
       "      <td>1/1/2021</td>\n",
       "      <td>2021.0</td>\n",
       "      <td>Enero</td>\n",
       "      <td>1.0</td>\n",
       "      <td>1.404,7</td>\n",
       "      <td>760,3</td>\n",
       "      <td>0,0</td>\n",
       "      <td>TOSTADOR 1</td>\n",
       "      <td>Medellín</td>\n",
       "    </tr>\n",
       "    <tr>\n",
       "      <th>1</th>\n",
       "      <td>2/1/2021</td>\n",
       "      <td>2021.0</td>\n",
       "      <td>Enero</td>\n",
       "      <td>2.0</td>\n",
       "      <td>554,2</td>\n",
       "      <td>336,9</td>\n",
       "      <td>19,2</td>\n",
       "      <td>TOSTADOR 1</td>\n",
       "      <td>Medellín</td>\n",
       "    </tr>\n",
       "    <tr>\n",
       "      <th>2</th>\n",
       "      <td>3/1/2021</td>\n",
       "      <td>2021.0</td>\n",
       "      <td>Enero</td>\n",
       "      <td>3.0</td>\n",
       "      <td>1.171,1</td>\n",
       "      <td>624,3</td>\n",
       "      <td>18,0</td>\n",
       "      <td>TOSTADOR 1</td>\n",
       "      <td>Medellín</td>\n",
       "    </tr>\n",
       "    <tr>\n",
       "      <th>3</th>\n",
       "      <td>4/1/2021</td>\n",
       "      <td>2021.0</td>\n",
       "      <td>Enero</td>\n",
       "      <td>4.0</td>\n",
       "      <td>1.873,4</td>\n",
       "      <td>997,6</td>\n",
       "      <td>53,9</td>\n",
       "      <td>TOSTADOR 1</td>\n",
       "      <td>Medellín</td>\n",
       "    </tr>\n",
       "    <tr>\n",
       "      <th>4</th>\n",
       "      <td>5/1/2021</td>\n",
       "      <td>2021.0</td>\n",
       "      <td>Enero</td>\n",
       "      <td>5.0</td>\n",
       "      <td>2.159,0</td>\n",
       "      <td>973,7</td>\n",
       "      <td>33,9</td>\n",
       "      <td>TOSTADOR 1</td>\n",
       "      <td>Medellín</td>\n",
       "    </tr>\n",
       "  </tbody>\n",
       "</table>\n",
       "</div>"
      ],
      "text/plain": [
       "      Fecha     Año    Mes  Dia Consumo gas tostador Consumo gas postquemador  \\\n",
       "0  1/1/2021  2021.0  Enero  1.0              1.404,7                    760,3   \n",
       "1  2/1/2021  2021.0  Enero  2.0                554,2                    336,9   \n",
       "2  3/1/2021  2021.0  Enero  3.0              1.171,1                    624,3   \n",
       "3  4/1/2021  2021.0  Enero  4.0              1.873,4                    997,6   \n",
       "4  5/1/2021  2021.0  Enero  5.0              2.159,0                    973,7   \n",
       "\n",
       "  Café verde    Tostador    Ciudad  \n",
       "0        0,0  TOSTADOR 1  Medellín  \n",
       "1       19,2  TOSTADOR 1  Medellín  \n",
       "2       18,0  TOSTADOR 1  Medellín  \n",
       "3       53,9  TOSTADOR 1  Medellín  \n",
       "4       33,9  TOSTADOR 1  Medellín  "
      ]
     },
     "execution_count": 62,
     "metadata": {},
     "output_type": "execute_result"
    }
   ],
   "source": [
    "df_Total_amb.head()"
   ]
  },
  {
   "cell_type": "code",
   "execution_count": 63,
   "metadata": {
    "executionInfo": {
     "elapsed": 6,
     "status": "ok",
     "timestamp": 1754323701517,
     "user": {
      "displayName": "Melanny Herrera Arenas",
      "userId": "10791965058209715546"
     },
     "user_tz": 300
    },
    "id": "OC2YMftq6GqM"
   },
   "outputs": [],
   "source": [
    "columnas_convertir = ['Consumo gas tostador', 'Consumo gas postquemador', 'Café verde']\n",
    "df_no_convertibles, df_convertidos, df_Total_amb = fc.convertir_datos(df_Total_amb, columnas_convertir)"
   ]
  },
  {
   "cell_type": "code",
   "execution_count": 64,
   "metadata": {},
   "outputs": [],
   "source": [
    "df_Tostadores_Totalizados_amb = df_Total_amb.groupby(['Fecha','Tostador']).agg({\"Café verde\": 'sum', \"Consumo gas postquemador\": 'sum',\"Consumo gas tostador\":'sum'}).reset_index()"
   ]
  },
  {
   "cell_type": "code",
   "execution_count": 65,
   "metadata": {},
   "outputs": [],
   "source": [
    "df_Total_amb = fc.calcular_indicador(df_Total_amb, 'tostador', 'Consumo gas tostador', 'Consumo gas postquemador')"
   ]
  },
  {
   "cell_type": "code",
   "execution_count": 66,
   "metadata": {},
   "outputs": [
    {
     "data": {
      "text/html": [
       "<div>\n",
       "<style scoped>\n",
       "    .dataframe tbody tr th:only-of-type {\n",
       "        vertical-align: middle;\n",
       "    }\n",
       "\n",
       "    .dataframe tbody tr th {\n",
       "        vertical-align: top;\n",
       "    }\n",
       "\n",
       "    .dataframe thead th {\n",
       "        text-align: right;\n",
       "    }\n",
       "</style>\n",
       "<table border=\"1\" class=\"dataframe\">\n",
       "  <thead>\n",
       "    <tr style=\"text-align: right;\">\n",
       "      <th></th>\n",
       "      <th>Fecha</th>\n",
       "      <th>Tostador</th>\n",
       "      <th>Café verde</th>\n",
       "      <th>Consumo gas postquemador</th>\n",
       "      <th>Consumo gas tostador</th>\n",
       "    </tr>\n",
       "  </thead>\n",
       "  <tbody>\n",
       "    <tr>\n",
       "      <th>0</th>\n",
       "      <td>1/1/2021</td>\n",
       "      <td>TOSTADOR 1</td>\n",
       "      <td>0.0</td>\n",
       "      <td>760.3</td>\n",
       "      <td>1404.7</td>\n",
       "    </tr>\n",
       "    <tr>\n",
       "      <th>1</th>\n",
       "      <td>1/1/2021</td>\n",
       "      <td>TOSTADOR 2</td>\n",
       "      <td>0.0</td>\n",
       "      <td>199.9</td>\n",
       "      <td>237.3</td>\n",
       "    </tr>\n",
       "    <tr>\n",
       "      <th>2</th>\n",
       "      <td>1/1/2021</td>\n",
       "      <td>TOSTADOR 3</td>\n",
       "      <td>0.0</td>\n",
       "      <td>255.7</td>\n",
       "      <td>899.6</td>\n",
       "    </tr>\n",
       "    <tr>\n",
       "      <th>3</th>\n",
       "      <td>1/1/2021</td>\n",
       "      <td>TOSTADOR 4</td>\n",
       "      <td>0.0</td>\n",
       "      <td>0.0</td>\n",
       "      <td>0.0</td>\n",
       "    </tr>\n",
       "    <tr>\n",
       "      <th>4</th>\n",
       "      <td>1/1/2021</td>\n",
       "      <td>TOSTADOR 5</td>\n",
       "      <td>0.0</td>\n",
       "      <td>664.5</td>\n",
       "      <td>1435.5</td>\n",
       "    </tr>\n",
       "  </tbody>\n",
       "</table>\n",
       "</div>"
      ],
      "text/plain": [
       "      Fecha    Tostador  Café verde  Consumo gas postquemador  \\\n",
       "0  1/1/2021  TOSTADOR 1         0.0                     760.3   \n",
       "1  1/1/2021  TOSTADOR 2         0.0                     199.9   \n",
       "2  1/1/2021  TOSTADOR 3         0.0                     255.7   \n",
       "3  1/1/2021  TOSTADOR 4         0.0                       0.0   \n",
       "4  1/1/2021  TOSTADOR 5         0.0                     664.5   \n",
       "\n",
       "   Consumo gas tostador  \n",
       "0                1404.7  \n",
       "1                 237.3  \n",
       "2                 899.6  \n",
       "3                   0.0  \n",
       "4                1435.5  "
      ]
     },
     "execution_count": 66,
     "metadata": {},
     "output_type": "execute_result"
    }
   ],
   "source": [
    "df_Tostadores_Totalizados_amb.head()"
   ]
  },
  {
   "cell_type": "code",
   "execution_count": 67,
   "metadata": {},
   "outputs": [
    {
     "data": {
      "text/plain": [
       "(11482, 5)"
      ]
     },
     "execution_count": 67,
     "metadata": {},
     "output_type": "execute_result"
    }
   ],
   "source": [
    "df_Tostadores_Totalizados_amb.shape"
   ]
  },
  {
   "cell_type": "code",
   "execution_count": 68,
   "metadata": {
    "colab": {
     "base_uri": "https://localhost:8080/"
    },
    "executionInfo": {
     "elapsed": 9,
     "status": "ok",
     "timestamp": 1754323701527,
     "user": {
      "displayName": "Melanny Herrera Arenas",
      "userId": "10791965058209715546"
     },
     "user_tz": 300
    },
    "id": "7dbRLuItEXvf",
    "outputId": "2ad1cc32-0272-4015-ae59-83e0584e55fb"
   },
   "outputs": [
    {
     "data": {
      "text/plain": [
       "(8417, 11)"
      ]
     },
     "execution_count": 68,
     "metadata": {},
     "output_type": "execute_result"
    }
   ],
   "source": [
    "df_Total_amb.shape"
   ]
  },
  {
   "cell_type": "code",
   "execution_count": 69,
   "metadata": {
    "colab": {
     "base_uri": "https://localhost:8080/"
    },
    "executionInfo": {
     "elapsed": 11,
     "status": "ok",
     "timestamp": 1754323701540,
     "user": {
      "displayName": "Melanny Herrera Arenas",
      "userId": "10791965058209715546"
     },
     "user_tz": 300
    },
    "id": "VamHRIOUK2Yq",
    "outputId": "9e479a0f-ed3a-47d2-b503-3952dc7cabfc"
   },
   "outputs": [
    {
     "data": {
      "text/plain": [
       "(0, 9)"
      ]
     },
     "execution_count": 69,
     "metadata": {},
     "output_type": "execute_result"
    }
   ],
   "source": [
    "df_no_convertibles.shape"
   ]
  },
  {
   "cell_type": "code",
   "execution_count": 70,
   "metadata": {
    "colab": {
     "base_uri": "https://localhost:8080/"
    },
    "executionInfo": {
     "elapsed": 75,
     "status": "ok",
     "timestamp": 1754323701617,
     "user": {
      "displayName": "Melanny Herrera Arenas",
      "userId": "10791965058209715546"
     },
     "user_tz": 300
    },
    "id": "6DDJ_O8eK3lZ",
    "outputId": "f086d735-b190-408e-b2ff-7184af6e7e72"
   },
   "outputs": [
    {
     "data": {
      "text/plain": [
       "(11482, 9)"
      ]
     },
     "execution_count": 70,
     "metadata": {},
     "output_type": "execute_result"
    }
   ],
   "source": [
    "df_convertidos.shape"
   ]
  },
  {
   "cell_type": "code",
   "execution_count": 71,
   "metadata": {
    "colab": {
     "base_uri": "https://localhost:8080/",
     "height": 71
    },
    "executionInfo": {
     "elapsed": 17,
     "status": "ok",
     "timestamp": 1754323701619,
     "user": {
      "displayName": "Melanny Herrera Arenas",
      "userId": "10791965058209715546"
     },
     "user_tz": 300
    },
    "id": "3XNmMrLE7d81",
    "outputId": "fcd79c40-e77f-47c7-f197-69895debc173"
   },
   "outputs": [
    {
     "name": "stdout",
     "output_type": "stream",
     "text": [
      "Valores no convertibles:\n"
     ]
    },
    {
     "data": {
      "text/html": [
       "<div>\n",
       "<style scoped>\n",
       "    .dataframe tbody tr th:only-of-type {\n",
       "        vertical-align: middle;\n",
       "    }\n",
       "\n",
       "    .dataframe tbody tr th {\n",
       "        vertical-align: top;\n",
       "    }\n",
       "\n",
       "    .dataframe thead th {\n",
       "        text-align: right;\n",
       "    }\n",
       "</style>\n",
       "<table border=\"1\" class=\"dataframe\">\n",
       "  <thead>\n",
       "    <tr style=\"text-align: right;\">\n",
       "      <th></th>\n",
       "      <th>Fecha</th>\n",
       "      <th>Año</th>\n",
       "      <th>Mes</th>\n",
       "      <th>Dia</th>\n",
       "      <th>Consumo gas tostador</th>\n",
       "      <th>Consumo gas postquemador</th>\n",
       "      <th>Café verde</th>\n",
       "      <th>Tostador</th>\n",
       "      <th>Ciudad</th>\n",
       "    </tr>\n",
       "  </thead>\n",
       "  <tbody>\n",
       "  </tbody>\n",
       "</table>\n",
       "</div>"
      ],
      "text/plain": [
       "Empty DataFrame\n",
       "Columns: [Fecha, Año, Mes, Dia, Consumo gas tostador, Consumo gas postquemador, Café verde, Tostador, Ciudad]\n",
       "Index: []"
      ]
     },
     "execution_count": 71,
     "metadata": {},
     "output_type": "execute_result"
    }
   ],
   "source": [
    "# Paso 6: Visualizar los resultados\n",
    "print(\"Valores no convertibles:\")\n",
    "df_no_convertibles.head(5)"
   ]
  },
  {
   "cell_type": "code",
   "execution_count": 72,
   "metadata": {
    "colab": {
     "base_uri": "https://localhost:8080/",
     "height": 429
    },
    "executionInfo": {
     "elapsed": 7,
     "status": "ok",
     "timestamp": 1754323701623,
     "user": {
      "displayName": "Melanny Herrera Arenas",
      "userId": "10791965058209715546"
     },
     "user_tz": 300
    },
    "id": "b4iKy2pyP2MB",
    "outputId": "1cf77dc6-304d-4afd-f16a-95ee24e45c54"
   },
   "outputs": [
    {
     "data": {
      "text/plain": [
       "Fecha                        object\n",
       "Año                         float64\n",
       "Mes                          object\n",
       "Dia                         float64\n",
       "Consumo gas tostador        float64\n",
       "Consumo gas postquemador    float64\n",
       "Café verde                  float64\n",
       "Tostador                     object\n",
       "Ciudad                       object\n",
       "Indicador_m3/Ton_Tost       float64\n",
       "Indicador_m3/Ton_Post       float64\n",
       "dtype: object"
      ]
     },
     "execution_count": 72,
     "metadata": {},
     "output_type": "execute_result"
    }
   ],
   "source": [
    "df_Total_amb.dtypes"
   ]
  },
  {
   "cell_type": "code",
   "execution_count": 73,
   "metadata": {
    "colab": {
     "base_uri": "https://localhost:8080/",
     "height": 206
    },
    "executionInfo": {
     "elapsed": 73,
     "status": "ok",
     "timestamp": 1754323701699,
     "user": {
      "displayName": "Melanny Herrera Arenas",
      "userId": "10791965058209715546"
     },
     "user_tz": 300
    },
    "id": "veWgov_mP2Jh",
    "outputId": "55593ac8-0aab-46ab-bfde-49f08b0d77ed"
   },
   "outputs": [
    {
     "data": {
      "text/html": [
       "<div>\n",
       "<style scoped>\n",
       "    .dataframe tbody tr th:only-of-type {\n",
       "        vertical-align: middle;\n",
       "    }\n",
       "\n",
       "    .dataframe tbody tr th {\n",
       "        vertical-align: top;\n",
       "    }\n",
       "\n",
       "    .dataframe thead th {\n",
       "        text-align: right;\n",
       "    }\n",
       "</style>\n",
       "<table border=\"1\" class=\"dataframe\">\n",
       "  <thead>\n",
       "    <tr style=\"text-align: right;\">\n",
       "      <th></th>\n",
       "      <th>Fecha</th>\n",
       "      <th>Año</th>\n",
       "      <th>Mes</th>\n",
       "      <th>Dia</th>\n",
       "      <th>Consumo gas tostador</th>\n",
       "      <th>Consumo gas postquemador</th>\n",
       "      <th>Café verde</th>\n",
       "      <th>Tostador</th>\n",
       "      <th>Ciudad</th>\n",
       "      <th>Indicador_m3/Ton_Tost</th>\n",
       "      <th>Indicador_m3/Ton_Post</th>\n",
       "    </tr>\n",
       "  </thead>\n",
       "  <tbody>\n",
       "    <tr>\n",
       "      <th>1</th>\n",
       "      <td>2/1/2021</td>\n",
       "      <td>2021.0</td>\n",
       "      <td>Enero</td>\n",
       "      <td>2.0</td>\n",
       "      <td>554.2</td>\n",
       "      <td>336.9</td>\n",
       "      <td>19.2</td>\n",
       "      <td>TOSTADOR 1</td>\n",
       "      <td>Medellín</td>\n",
       "      <td>28.864583</td>\n",
       "      <td>17.546875</td>\n",
       "    </tr>\n",
       "    <tr>\n",
       "      <th>2</th>\n",
       "      <td>3/1/2021</td>\n",
       "      <td>2021.0</td>\n",
       "      <td>Enero</td>\n",
       "      <td>3.0</td>\n",
       "      <td>1171.1</td>\n",
       "      <td>624.3</td>\n",
       "      <td>18.0</td>\n",
       "      <td>TOSTADOR 1</td>\n",
       "      <td>Medellín</td>\n",
       "      <td>65.061111</td>\n",
       "      <td>34.683333</td>\n",
       "    </tr>\n",
       "    <tr>\n",
       "      <th>3</th>\n",
       "      <td>4/1/2021</td>\n",
       "      <td>2021.0</td>\n",
       "      <td>Enero</td>\n",
       "      <td>4.0</td>\n",
       "      <td>1873.4</td>\n",
       "      <td>997.6</td>\n",
       "      <td>53.9</td>\n",
       "      <td>TOSTADOR 1</td>\n",
       "      <td>Medellín</td>\n",
       "      <td>34.756957</td>\n",
       "      <td>18.508349</td>\n",
       "    </tr>\n",
       "    <tr>\n",
       "      <th>4</th>\n",
       "      <td>5/1/2021</td>\n",
       "      <td>2021.0</td>\n",
       "      <td>Enero</td>\n",
       "      <td>5.0</td>\n",
       "      <td>2159.0</td>\n",
       "      <td>973.7</td>\n",
       "      <td>33.9</td>\n",
       "      <td>TOSTADOR 1</td>\n",
       "      <td>Medellín</td>\n",
       "      <td>63.687316</td>\n",
       "      <td>28.722714</td>\n",
       "    </tr>\n",
       "    <tr>\n",
       "      <th>5</th>\n",
       "      <td>6/1/2021</td>\n",
       "      <td>2021.0</td>\n",
       "      <td>Enero</td>\n",
       "      <td>6.0</td>\n",
       "      <td>2155.6</td>\n",
       "      <td>996.5</td>\n",
       "      <td>46.5</td>\n",
       "      <td>TOSTADOR 1</td>\n",
       "      <td>Medellín</td>\n",
       "      <td>46.356989</td>\n",
       "      <td>21.430108</td>\n",
       "    </tr>\n",
       "  </tbody>\n",
       "</table>\n",
       "</div>"
      ],
      "text/plain": [
       "      Fecha     Año    Mes  Dia  Consumo gas tostador  \\\n",
       "1  2/1/2021  2021.0  Enero  2.0                 554.2   \n",
       "2  3/1/2021  2021.0  Enero  3.0                1171.1   \n",
       "3  4/1/2021  2021.0  Enero  4.0                1873.4   \n",
       "4  5/1/2021  2021.0  Enero  5.0                2159.0   \n",
       "5  6/1/2021  2021.0  Enero  6.0                2155.6   \n",
       "\n",
       "   Consumo gas postquemador  Café verde    Tostador    Ciudad  \\\n",
       "1                     336.9        19.2  TOSTADOR 1  Medellín   \n",
       "2                     624.3        18.0  TOSTADOR 1  Medellín   \n",
       "3                     997.6        53.9  TOSTADOR 1  Medellín   \n",
       "4                     973.7        33.9  TOSTADOR 1  Medellín   \n",
       "5                     996.5        46.5  TOSTADOR 1  Medellín   \n",
       "\n",
       "   Indicador_m3/Ton_Tost  Indicador_m3/Ton_Post  \n",
       "1              28.864583              17.546875  \n",
       "2              65.061111              34.683333  \n",
       "3              34.756957              18.508349  \n",
       "4              63.687316              28.722714  \n",
       "5              46.356989              21.430108  "
      ]
     },
     "execution_count": 73,
     "metadata": {},
     "output_type": "execute_result"
    }
   ],
   "source": [
    "df_Total_amb.head()"
   ]
  },
  {
   "cell_type": "markdown",
   "metadata": {
    "id": "8UudQpP3F1yW"
   },
   "source": [
    "**Proceso de extraccion de los datos para Secado**"
   ]
  },
  {
   "cell_type": "code",
   "execution_count": 74,
   "metadata": {
    "executionInfo": {
     "elapsed": 2,
     "status": "ok",
     "timestamp": 1754323701703,
     "user": {
      "displayName": "Melanny Herrera Arenas",
      "userId": "10791965058209715546"
     },
     "user_tz": 300
    },
    "id": "PJHBQdR_IeFn"
   },
   "outputs": [],
   "source": [
    "df_Total_amb_Secado, conteos = fc.consumo_gas_secador(df_Ambiental)"
   ]
  },
  {
   "cell_type": "code",
   "execution_count": 75,
   "metadata": {
    "colab": {
     "base_uri": "https://localhost:8080/",
     "height": 206
    },
    "executionInfo": {
     "elapsed": 27,
     "status": "ok",
     "timestamp": 1754323701733,
     "user": {
      "displayName": "Melanny Herrera Arenas",
      "userId": "10791965058209715546"
     },
     "user_tz": 300
    },
    "id": "R07Kco948_Pv",
    "outputId": "972f735f-4c29-401b-a55c-96f7256c7517"
   },
   "outputs": [],
   "source": [
    "columnas_convertir = ['Consumo gas secador','Café verde']\n",
    "df_no_convertibles, df_convertidos, df_Total_amb_Secado = fc.convertir_datos(df_Total_amb_Secado, columnas_convertir)"
   ]
  },
  {
   "cell_type": "code",
   "execution_count": 76,
   "metadata": {},
   "outputs": [],
   "source": [
    "df_Total_amb_Secado = fc.calcular_indicador(df_Total_amb_Secado, 'secado', 'Consumo gas secador')"
   ]
  },
  {
   "cell_type": "code",
   "execution_count": 77,
   "metadata": {},
   "outputs": [
    {
     "data": {
      "text/html": [
       "<div>\n",
       "<style scoped>\n",
       "    .dataframe tbody tr th:only-of-type {\n",
       "        vertical-align: middle;\n",
       "    }\n",
       "\n",
       "    .dataframe tbody tr th {\n",
       "        vertical-align: top;\n",
       "    }\n",
       "\n",
       "    .dataframe thead th {\n",
       "        text-align: right;\n",
       "    }\n",
       "</style>\n",
       "<table border=\"1\" class=\"dataframe\">\n",
       "  <thead>\n",
       "    <tr style=\"text-align: right;\">\n",
       "      <th></th>\n",
       "      <th>Fecha</th>\n",
       "      <th>Año</th>\n",
       "      <th>Mes</th>\n",
       "      <th>Dia</th>\n",
       "      <th>Consumo gas secador</th>\n",
       "      <th>Café verde</th>\n",
       "      <th>Secador</th>\n",
       "      <th>Ciudad</th>\n",
       "      <th>Indicador_m3/Ton_Secado</th>\n",
       "    </tr>\n",
       "  </thead>\n",
       "  <tbody>\n",
       "    <tr>\n",
       "      <th>4</th>\n",
       "      <td>5/1/2021</td>\n",
       "      <td>2021.0</td>\n",
       "      <td>Enero</td>\n",
       "      <td>5.0</td>\n",
       "      <td>982.0</td>\n",
       "      <td>3.8</td>\n",
       "      <td>SECADOR 2</td>\n",
       "      <td>Medellín</td>\n",
       "      <td>258.421053</td>\n",
       "    </tr>\n",
       "    <tr>\n",
       "      <th>5</th>\n",
       "      <td>6/1/2021</td>\n",
       "      <td>2021.0</td>\n",
       "      <td>Enero</td>\n",
       "      <td>6.0</td>\n",
       "      <td>965.5</td>\n",
       "      <td>4.6</td>\n",
       "      <td>SECADOR 2</td>\n",
       "      <td>Medellín</td>\n",
       "      <td>209.891304</td>\n",
       "    </tr>\n",
       "    <tr>\n",
       "      <th>6</th>\n",
       "      <td>7/1/2021</td>\n",
       "      <td>2021.0</td>\n",
       "      <td>Enero</td>\n",
       "      <td>7.0</td>\n",
       "      <td>1024.1</td>\n",
       "      <td>4.2</td>\n",
       "      <td>SECADOR 2</td>\n",
       "      <td>Medellín</td>\n",
       "      <td>243.833333</td>\n",
       "    </tr>\n",
       "    <tr>\n",
       "      <th>7</th>\n",
       "      <td>8/1/2021</td>\n",
       "      <td>2021.0</td>\n",
       "      <td>Enero</td>\n",
       "      <td>8.0</td>\n",
       "      <td>1076.1</td>\n",
       "      <td>5.0</td>\n",
       "      <td>SECADOR 2</td>\n",
       "      <td>Medellín</td>\n",
       "      <td>215.220000</td>\n",
       "    </tr>\n",
       "    <tr>\n",
       "      <th>8</th>\n",
       "      <td>9/1/2021</td>\n",
       "      <td>2021.0</td>\n",
       "      <td>Enero</td>\n",
       "      <td>9.0</td>\n",
       "      <td>2175.7</td>\n",
       "      <td>5.3</td>\n",
       "      <td>SECADOR 2</td>\n",
       "      <td>Medellín</td>\n",
       "      <td>410.509434</td>\n",
       "    </tr>\n",
       "  </tbody>\n",
       "</table>\n",
       "</div>"
      ],
      "text/plain": [
       "      Fecha     Año    Mes  Dia  Consumo gas secador  Café verde    Secador  \\\n",
       "4  5/1/2021  2021.0  Enero  5.0                982.0         3.8  SECADOR 2   \n",
       "5  6/1/2021  2021.0  Enero  6.0                965.5         4.6  SECADOR 2   \n",
       "6  7/1/2021  2021.0  Enero  7.0               1024.1         4.2  SECADOR 2   \n",
       "7  8/1/2021  2021.0  Enero  8.0               1076.1         5.0  SECADOR 2   \n",
       "8  9/1/2021  2021.0  Enero  9.0               2175.7         5.3  SECADOR 2   \n",
       "\n",
       "     Ciudad  Indicador_m3/Ton_Secado  \n",
       "4  Medellín               258.421053  \n",
       "5  Medellín               209.891304  \n",
       "6  Medellín               243.833333  \n",
       "7  Medellín               215.220000  \n",
       "8  Medellín               410.509434  "
      ]
     },
     "execution_count": 77,
     "metadata": {},
     "output_type": "execute_result"
    }
   ],
   "source": [
    "df_Total_amb_Secado.head()"
   ]
  },
  {
   "cell_type": "markdown",
   "metadata": {
    "id": "MqEq8u61F9Ou"
   },
   "source": [
    "**Proceso de extraccion de los datos para Aglomerado**"
   ]
  },
  {
   "cell_type": "code",
   "execution_count": 78,
   "metadata": {
    "executionInfo": {
     "elapsed": 158,
     "status": "ok",
     "timestamp": 1754323701908,
     "user": {
      "displayName": "Melanny Herrera Arenas",
      "userId": "10791965058209715546"
     },
     "user_tz": 300
    },
    "id": "wRpaw_5HKmbA"
   },
   "outputs": [],
   "source": [
    "df_Total_amb_Aglomerado, conteos = fc.consumo_gas_aglomerado(df_Ambiental)"
   ]
  },
  {
   "cell_type": "code",
   "execution_count": 79,
   "metadata": {
    "colab": {
     "base_uri": "https://localhost:8080/",
     "height": 206
    },
    "executionInfo": {
     "elapsed": 8,
     "status": "ok",
     "timestamp": 1754323701913,
     "user": {
      "displayName": "Melanny Herrera Arenas",
      "userId": "10791965058209715546"
     },
     "user_tz": 300
    },
    "id": "ria7jJDrGM5x",
    "outputId": "8dfd77f5-9217-415a-9d25-82b016687335"
   },
   "outputs": [],
   "source": [
    "columnas_convertir = ['Consumo gas Aglomerador','Café verde']\n",
    "df_no_convertibles, df_convertidos, df_Total_amb_Aglomerado = fc.convertir_datos(df_Total_amb_Aglomerado, columnas_convertir)"
   ]
  },
  {
   "cell_type": "code",
   "execution_count": 80,
   "metadata": {},
   "outputs": [],
   "source": [
    "df_Total_amb_Aglomerado = fc.calcular_indicador(df_Total_amb_Aglomerado, 'aglomerado', 'Consumo gas Aglomerador')"
   ]
  },
  {
   "cell_type": "code",
   "execution_count": 81,
   "metadata": {},
   "outputs": [
    {
     "data": {
      "text/html": [
       "<div>\n",
       "<style scoped>\n",
       "    .dataframe tbody tr th:only-of-type {\n",
       "        vertical-align: middle;\n",
       "    }\n",
       "\n",
       "    .dataframe tbody tr th {\n",
       "        vertical-align: top;\n",
       "    }\n",
       "\n",
       "    .dataframe thead th {\n",
       "        text-align: right;\n",
       "    }\n",
       "</style>\n",
       "<table border=\"1\" class=\"dataframe\">\n",
       "  <thead>\n",
       "    <tr style=\"text-align: right;\">\n",
       "      <th></th>\n",
       "      <th>Fecha</th>\n",
       "      <th>Año</th>\n",
       "      <th>Mes</th>\n",
       "      <th>Dia</th>\n",
       "      <th>Consumo gas Aglomerador</th>\n",
       "      <th>Café verde</th>\n",
       "      <th>Aglomerador</th>\n",
       "      <th>Ciudad</th>\n",
       "      <th>Indicador_m3/Ton_Aglo</th>\n",
       "    </tr>\n",
       "  </thead>\n",
       "  <tbody>\n",
       "    <tr>\n",
       "      <th>1</th>\n",
       "      <td>2/1/2021</td>\n",
       "      <td>2021.0</td>\n",
       "      <td>Enero</td>\n",
       "      <td>2.0</td>\n",
       "      <td>0.0</td>\n",
       "      <td>1.0</td>\n",
       "      <td>AGLOMERADOR 1</td>\n",
       "      <td>Medellín</td>\n",
       "      <td>0.0</td>\n",
       "    </tr>\n",
       "    <tr>\n",
       "      <th>2</th>\n",
       "      <td>3/1/2021</td>\n",
       "      <td>2021.0</td>\n",
       "      <td>Enero</td>\n",
       "      <td>3.0</td>\n",
       "      <td>0.0</td>\n",
       "      <td>3.4</td>\n",
       "      <td>AGLOMERADOR 1</td>\n",
       "      <td>Medellín</td>\n",
       "      <td>0.0</td>\n",
       "    </tr>\n",
       "    <tr>\n",
       "      <th>3</th>\n",
       "      <td>4/1/2021</td>\n",
       "      <td>2021.0</td>\n",
       "      <td>Enero</td>\n",
       "      <td>4.0</td>\n",
       "      <td>0.0</td>\n",
       "      <td>4.3</td>\n",
       "      <td>AGLOMERADOR 1</td>\n",
       "      <td>Medellín</td>\n",
       "      <td>0.0</td>\n",
       "    </tr>\n",
       "    <tr>\n",
       "      <th>4</th>\n",
       "      <td>5/1/2021</td>\n",
       "      <td>2021.0</td>\n",
       "      <td>Enero</td>\n",
       "      <td>5.0</td>\n",
       "      <td>0.0</td>\n",
       "      <td>3.7</td>\n",
       "      <td>AGLOMERADOR 1</td>\n",
       "      <td>Medellín</td>\n",
       "      <td>0.0</td>\n",
       "    </tr>\n",
       "    <tr>\n",
       "      <th>5</th>\n",
       "      <td>6/1/2021</td>\n",
       "      <td>2021.0</td>\n",
       "      <td>Enero</td>\n",
       "      <td>6.0</td>\n",
       "      <td>0.0</td>\n",
       "      <td>4.8</td>\n",
       "      <td>AGLOMERADOR 1</td>\n",
       "      <td>Medellín</td>\n",
       "      <td>0.0</td>\n",
       "    </tr>\n",
       "  </tbody>\n",
       "</table>\n",
       "</div>"
      ],
      "text/plain": [
       "      Fecha     Año    Mes  Dia  Consumo gas Aglomerador  Café verde  \\\n",
       "1  2/1/2021  2021.0  Enero  2.0                      0.0         1.0   \n",
       "2  3/1/2021  2021.0  Enero  3.0                      0.0         3.4   \n",
       "3  4/1/2021  2021.0  Enero  4.0                      0.0         4.3   \n",
       "4  5/1/2021  2021.0  Enero  5.0                      0.0         3.7   \n",
       "5  6/1/2021  2021.0  Enero  6.0                      0.0         4.8   \n",
       "\n",
       "     Aglomerador    Ciudad  Indicador_m3/Ton_Aglo  \n",
       "1  AGLOMERADOR 1  Medellín                    0.0  \n",
       "2  AGLOMERADOR 1  Medellín                    0.0  \n",
       "3  AGLOMERADOR 1  Medellín                    0.0  \n",
       "4  AGLOMERADOR 1  Medellín                    0.0  \n",
       "5  AGLOMERADOR 1  Medellín                    0.0  "
      ]
     },
     "execution_count": 81,
     "metadata": {},
     "output_type": "execute_result"
    }
   ],
   "source": [
    "df_Total_amb_Aglomerado.head()"
   ]
  },
  {
   "cell_type": "markdown",
   "metadata": {
    "id": "oVAslbiIpNY_"
   },
   "source": [
    "**Calculo de los totalizados por dia**"
   ]
  },
  {
   "cell_type": "code",
   "execution_count": 82,
   "metadata": {
    "colab": {
     "base_uri": "https://localhost:8080/",
     "height": 206
    },
    "executionInfo": {
     "elapsed": 5,
     "status": "ok",
     "timestamp": 1754323701939,
     "user": {
      "displayName": "Melanny Herrera Arenas",
      "userId": "10791965058209715546"
     },
     "user_tz": 300
    },
    "id": "29xAvRA_P2HB",
    "outputId": "03948550-87d2-480b-e52e-0af763a20b12"
   },
   "outputs": [],
   "source": [
    "# Columnas_Totalizados=[\"Fecha\",\"Año\",\"Mes\",\"Dia\",\"Tostador \",\"Consumo gas tostador\",\"Consumo gas postquemador\",\"Café verde\"]\n",
    "# df_Tostadores_Totalizados_amb = df_Total_amb.groupby(['Fecha','Tostador']).agg({\"Café verde\": 'sum', \"Consumo gas postquemador\": 'sum',\"Consumo gas tostador\":'sum'}).reset_index()  #.reset_index() para crear los indices y que fecha y tostador dejen de serlo gracias al groupby\n",
    "# df_Tostadores_Totalizados_amb.head()"
   ]
  },
  {
   "cell_type": "markdown",
   "metadata": {
    "id": "3IqHEMCRP21q"
   },
   "source": [
    "**Archivos de Consolidados de Gas-Tomados desde MES**"
   ]
  },
  {
   "cell_type": "code",
   "execution_count": 83,
   "metadata": {
    "executionInfo": {
     "elapsed": 122,
     "status": "ok",
     "timestamp": 1754323702079,
     "user": {
      "displayName": "Melanny Herrera Arenas",
      "userId": "10791965058209715546"
     },
     "user_tz": 300
    },
    "id": "ze7iboNe8_L8"
   },
   "outputs": [],
   "source": [
    "df_Tostion_MES_totales.dtypes\n",
    "\n",
    "fecha_min = df_Tostion_MES_totales['Fecha'].min()\n",
    "df_Tostion_MES_totales = df_Tostion_MES_totales[df_Tostion_MES_totales['Fecha'] != fecha_min]  #generalmente se hace cuando la primera fila tiene datos incompletos, valores nulos o de prueba, etc, se puede agregar algo para ver cuantas se eliminaron"
   ]
  },
  {
   "cell_type": "markdown",
   "metadata": {
    "id": "ZJ6MQU8NP6wS"
   },
   "source": [
    "**Generación del archivo de Fechas en formato CSV**"
   ]
  },
  {
   "cell_type": "code",
   "execution_count": 84,
   "metadata": {
    "colab": {
     "base_uri": "https://localhost:8080/",
     "height": 206
    },
    "executionInfo": {
     "elapsed": 113,
     "status": "ok",
     "timestamp": 1754323702083,
     "user": {
      "displayName": "Melanny Herrera Arenas",
      "userId": "10791965058209715546"
     },
     "user_tz": 300
    },
    "id": "xvA3QIgH8_Gk",
    "outputId": "4cec6863-62d3-4ec1-9b23-cec71457853f"
   },
   "outputs": [
    {
     "data": {
      "text/html": [
       "<div>\n",
       "<style scoped>\n",
       "    .dataframe tbody tr th:only-of-type {\n",
       "        vertical-align: middle;\n",
       "    }\n",
       "\n",
       "    .dataframe tbody tr th {\n",
       "        vertical-align: top;\n",
       "    }\n",
       "\n",
       "    .dataframe thead th {\n",
       "        text-align: right;\n",
       "    }\n",
       "</style>\n",
       "<table border=\"1\" class=\"dataframe\">\n",
       "  <thead>\n",
       "    <tr style=\"text-align: right;\">\n",
       "      <th></th>\n",
       "      <th>Fecha</th>\n",
       "    </tr>\n",
       "  </thead>\n",
       "  <tbody>\n",
       "    <tr>\n",
       "      <th>0</th>\n",
       "      <td>01/01/2024</td>\n",
       "    </tr>\n",
       "    <tr>\n",
       "      <th>1</th>\n",
       "      <td>02/01/2024</td>\n",
       "    </tr>\n",
       "    <tr>\n",
       "      <th>2</th>\n",
       "      <td>03/01/2024</td>\n",
       "    </tr>\n",
       "    <tr>\n",
       "      <th>3</th>\n",
       "      <td>04/01/2024</td>\n",
       "    </tr>\n",
       "    <tr>\n",
       "      <th>4</th>\n",
       "      <td>05/01/2024</td>\n",
       "    </tr>\n",
       "  </tbody>\n",
       "</table>\n",
       "</div>"
      ],
      "text/plain": [
       "        Fecha\n",
       "0  01/01/2024\n",
       "1  02/01/2024\n",
       "2  03/01/2024\n",
       "3  04/01/2024\n",
       "4  05/01/2024"
      ]
     },
     "execution_count": 84,
     "metadata": {},
     "output_type": "execute_result"
    }
   ],
   "source": [
    "df_Fechas = fc.generar_fechas(\"2024-01-01\")\n",
    "\n",
    "#mostrar las primeras y últimas filas\n",
    "df_Fechas.head()"
   ]
  },
  {
   "cell_type": "code",
   "execution_count": 85,
   "metadata": {
    "colab": {
     "base_uri": "https://localhost:8080/",
     "height": 206
    },
    "executionInfo": {
     "elapsed": 6,
     "status": "ok",
     "timestamp": 1754323702092,
     "user": {
      "displayName": "Melanny Herrera Arenas",
      "userId": "10791965058209715546"
     },
     "user_tz": 300
    },
    "id": "LKT99eJh8_DV",
    "outputId": "41d4550a-5c3f-43da-a6b9-187500b3fc17"
   },
   "outputs": [],
   "source": [
    "# df_Fechas.tail()"
   ]
  },
  {
   "cell_type": "markdown",
   "metadata": {
    "id": "jZ2X4iQCOrZR"
   },
   "source": [
    "###**Consolidados**"
   ]
  },
  {
   "cell_type": "code",
   "execution_count": 86,
   "metadata": {
    "executionInfo": {
     "elapsed": 31928,
     "status": "ok",
     "timestamp": 1754323734022,
     "user": {
      "displayName": "Melanny Herrera Arenas",
      "userId": "10791965058209715546"
     },
     "user_tz": 300
    },
    "id": "cDdGFKrG8_BG"
   },
   "outputs": [],
   "source": [
    "#Estos datos corresponden a los datos importados desde MES , agregando columnas de Año ,Mes, , etc , pero sin realizar ningun tipo de filtros.\n",
    "#Contiene los datos crudos provenientes del sistema MES, se aplico una limpieza y tranformacion basica para estandarizar y preparar la info modificando los valores atipicos con el promedio de los valores validos\n",
    "df_sn_Filtros.to_csv(RUTA_BASE + 'Detalle_TostionMDE_TOTAL_csv.csv', index=False, decimal=',')\n",
    "\n",
    "#Contiene lo mismo que df_sn_Filtros pero con los indicadores de consumo energetico e hidricos para analisis, eliminando valores atipicos (IQR) y dejando datos confiables\n",
    "df.to_csv(RUTA_BASE + 'Detalle_TostionMDE_TOTAL_Tostadores_In_csv.csv', index=False, decimal=',')\n",
    "\n",
    "#Contiene los datos crudos lo mismo de df_sn_Filtros agrupando por Fecha y Tostador\n",
    "df_Tostadores_Totalizados.to_csv(RUTA_BASE + 'Datos_Totalizados_MES_csv.csv', index=False, decimal=',')\n",
    "\n",
    "#Contiene datos crudos directamente exportados del sistema MES tomando todos los datos menos la fecha minima\n",
    "df_Tostion_MES_totales.to_csv(RUTA_BASE + 'Consumos_MES_csv.csv', index=False, decimal=',')\n",
    "\n",
    "#Consolidado del consumo energetico de Tostador y postquemadores haciendo limpieza basica e integrandolos en un solo dataframe agregando algunas columnas para generar los indicadores de consumo energetico\n",
    "df_Total_amb.to_csv(RUTA_BASE + 'Consumos_Gas_Tostion_csv.csv', index=False, decimal=',')\n",
    "\n",
    "#Consolidado de consumo energetico de Secador haciendo limpieza basica e integrandolos en un solo dataframe agregando algunas columnas para generar los indicadores de consumo energetico\n",
    "df_Total_amb_Secado.to_csv(RUTA_BASE + 'Consumos_Gas_Secado_csv.csv', index=False, decimal=',')\n",
    "\n",
    "#Consolidado de consumo energetico de Aglomerado haciendo limpieza basica e integrandolos en un solo dataframe agregando algunas columnas para generar los indicadores de consumo energetico\n",
    "df_Total_amb_Aglomerado.to_csv(RUTA_BASE + 'Consumos_Gas_Aglomerado_csv.csv', index=False, decimal=',')\n",
    "\n",
    "#Consolidado df Total_amb pero agrupado por Fecha y Tostador sumando el consumo de gas postquemador, tostados y cantidad de cafe verde(resumen diario de lo que hizo cada tostador con respecto a energia y cafe procesado)\n",
    "df_Tostadores_Totalizados_amb.to_csv(RUTA_BASE + 'Tostadores_Totalizados_Amb.csv', index=False, decimal=',')\n",
    "\n",
    "#Se utiliza para identificar las combinaciones unicas existentes entre cada tostador y el materil(producto) que ha procesado\n",
    "combinaciones_unicas.to_csv(RUTA_BASE + 'Tostador_Material.csv', index=False, decimal=',')\n",
    "\n",
    "#Archivo de fechas desde 01-01-2024 hasta la fecha actual\n",
    "df_Fechas.to_csv(RUTA_BASE + 'Fechas_csv.csv', index=False)\n",
    "\n",
    "#Consolidado que contabiliza los bache o interrupciones que tuvo cada tostador (cada vez que el proceso no registro consumo o tuvo perdida continua de datos)\n",
    "df_conteo_baches_perdidos.to_csv(RUTA_BASE + 'Conteo_Baches_Perdidos.csv', index=False)"
   ]
  },
  {
   "cell_type": "code",
   "execution_count": 87,
   "metadata": {
    "colab": {
     "base_uri": "https://localhost:8080/"
    },
    "executionInfo": {
     "elapsed": 12,
     "status": "ok",
     "timestamp": 1754323734023,
     "user": {
      "displayName": "Melanny Herrera Arenas",
      "userId": "10791965058209715546"
     },
     "user_tz": 300
    },
    "id": "Gf0N3qEO89Mf",
    "outputId": "dcda2573-9ae0-4d41-d682-a39e7d77c70e"
   },
   "outputs": [
    {
     "name": "stdout",
     "output_type": "stream",
     "text": [
      "(188164, 44)\n",
      "(188097, 49)\n",
      "(2872, 12)\n",
      "(53136, 13)\n",
      "(8417, 11)\n",
      "(4348, 9)\n",
      "(1738, 9)\n",
      "(11482, 5)\n",
      "(449, 2)\n",
      "(597, 1)\n",
      "(2872, 3)\n"
     ]
    }
   ],
   "source": [
    "print(df_sn_Filtros.shape)\n",
    "print(df.shape)\n",
    "print(df_Tostadores_Totalizados.shape)\n",
    "print(df_Tostion_MES_totales.shape)\n",
    "print(df_Total_amb.shape)\n",
    "print(df_Total_amb_Secado.shape)\n",
    "print(df_Total_amb_Aglomerado.shape)\n",
    "print(df_Tostadores_Totalizados_amb.shape)\n",
    "print(combinaciones_unicas.shape)\n",
    "print(df_Fechas.shape)\n",
    "print(df_conteo_baches_perdidos.shape)"
   ]
  },
  {
   "cell_type": "code",
   "execution_count": 88,
   "metadata": {
    "colab": {
     "base_uri": "https://localhost:8080/",
     "height": 498
    },
    "executionInfo": {
     "elapsed": 42,
     "status": "ok",
     "timestamp": 1754323734062,
     "user": {
      "displayName": "Melanny Herrera Arenas",
      "userId": "10791965058209715546"
     },
     "user_tz": 300
    },
    "id": "HGBViL7GUTE-",
    "outputId": "27b7723e-b61c-4b94-9398-0209988f18d5"
   },
   "outputs": [
    {
     "data": {
      "text/html": [
       "<div>\n",
       "<style scoped>\n",
       "    .dataframe tbody tr th:only-of-type {\n",
       "        vertical-align: middle;\n",
       "    }\n",
       "\n",
       "    .dataframe tbody tr th {\n",
       "        vertical-align: top;\n",
       "    }\n",
       "\n",
       "    .dataframe thead th {\n",
       "        text-align: right;\n",
       "    }\n",
       "</style>\n",
       "<table border=\"1\" class=\"dataframe\">\n",
       "  <thead>\n",
       "    <tr style=\"text-align: right;\">\n",
       "      <th></th>\n",
       "      <th>Tostador</th>\n",
       "      <th>Material</th>\n",
       "      <th>Orden</th>\n",
       "      <th>Bache de Control</th>\n",
       "      <th>Descripción de Material</th>\n",
       "      <th>Lote</th>\n",
       "      <th>Entry</th>\n",
       "      <th>Destino Real</th>\n",
       "      <th>Fecha Hora</th>\n",
       "      <th>Tiempo Total  Tostion    (SEG )</th>\n",
       "      <th>...</th>\n",
       "      <th>Gas Tostador Calentamiento (m3)</th>\n",
       "      <th>Gas Postquemador Calentamiento (m3)</th>\n",
       "      <th>Energía Electrica Calentamiento (kWh)</th>\n",
       "      <th>Año</th>\n",
       "      <th>Dia</th>\n",
       "      <th>Mes_Numero</th>\n",
       "      <th>Mes</th>\n",
       "      <th>Hora</th>\n",
       "      <th>Turnos</th>\n",
       "      <th>Fecha</th>\n",
       "    </tr>\n",
       "  </thead>\n",
       "  <tbody>\n",
       "    <tr>\n",
       "      <th>0</th>\n",
       "      <td>TOSTADOR 1</td>\n",
       "      <td>3002547.0</td>\n",
       "      <td>26277032</td>\n",
       "      <td>50805</td>\n",
       "      <td>Tostado Soluble COL</td>\n",
       "      <td>CM240102</td>\n",
       "      <td>Entry_{(3187356)}</td>\n",
       "      <td>CM</td>\n",
       "      <td>2024-01-02 12:19:17</td>\n",
       "      <td>863</td>\n",
       "      <td>...</td>\n",
       "      <td>NaN</td>\n",
       "      <td>NaN</td>\n",
       "      <td>NaN</td>\n",
       "      <td>2024</td>\n",
       "      <td>2</td>\n",
       "      <td>1</td>\n",
       "      <td>Enero</td>\n",
       "      <td>12</td>\n",
       "      <td>Turno 1 (6am -2pm)</td>\n",
       "      <td>2024-01-02</td>\n",
       "    </tr>\n",
       "    <tr>\n",
       "      <th>1</th>\n",
       "      <td>TOSTADOR 1</td>\n",
       "      <td>3002547.0</td>\n",
       "      <td>26277032</td>\n",
       "      <td>50806</td>\n",
       "      <td>Tostado Soluble COL</td>\n",
       "      <td>CM240102</td>\n",
       "      <td>Entry_{(3187357)}</td>\n",
       "      <td>CM</td>\n",
       "      <td>2024-01-02 12:39:57</td>\n",
       "      <td>858</td>\n",
       "      <td>...</td>\n",
       "      <td>NaN</td>\n",
       "      <td>NaN</td>\n",
       "      <td>NaN</td>\n",
       "      <td>2024</td>\n",
       "      <td>2</td>\n",
       "      <td>1</td>\n",
       "      <td>Enero</td>\n",
       "      <td>12</td>\n",
       "      <td>Turno 1 (6am -2pm)</td>\n",
       "      <td>2024-01-02</td>\n",
       "    </tr>\n",
       "    <tr>\n",
       "      <th>2</th>\n",
       "      <td>TOSTADOR 1</td>\n",
       "      <td>3002547.0</td>\n",
       "      <td>26277032</td>\n",
       "      <td>50810</td>\n",
       "      <td>Tostado Soluble COL</td>\n",
       "      <td>CM240102</td>\n",
       "      <td>Entry_{(3187361)}</td>\n",
       "      <td>CM</td>\n",
       "      <td>2024-01-02 13:39:09</td>\n",
       "      <td>1071</td>\n",
       "      <td>...</td>\n",
       "      <td>NaN</td>\n",
       "      <td>NaN</td>\n",
       "      <td>NaN</td>\n",
       "      <td>2024</td>\n",
       "      <td>2</td>\n",
       "      <td>1</td>\n",
       "      <td>Enero</td>\n",
       "      <td>13</td>\n",
       "      <td>Turno 1 (6am -2pm)</td>\n",
       "      <td>2024-01-02</td>\n",
       "    </tr>\n",
       "    <tr>\n",
       "      <th>3</th>\n",
       "      <td>TOSTADOR 1</td>\n",
       "      <td>3002547.0</td>\n",
       "      <td>26277032</td>\n",
       "      <td>50811</td>\n",
       "      <td>Tostado Soluble COL</td>\n",
       "      <td>CM240102</td>\n",
       "      <td>Entry_{(3187362)}</td>\n",
       "      <td>CM</td>\n",
       "      <td>2024-01-02 13:53:57</td>\n",
       "      <td>904</td>\n",
       "      <td>...</td>\n",
       "      <td>NaN</td>\n",
       "      <td>NaN</td>\n",
       "      <td>NaN</td>\n",
       "      <td>2024</td>\n",
       "      <td>2</td>\n",
       "      <td>1</td>\n",
       "      <td>Enero</td>\n",
       "      <td>13</td>\n",
       "      <td>Turno 1 (6am -2pm)</td>\n",
       "      <td>2024-01-02</td>\n",
       "    </tr>\n",
       "    <tr>\n",
       "      <th>4</th>\n",
       "      <td>TOSTADOR 1</td>\n",
       "      <td>3002547.0</td>\n",
       "      <td>26277032</td>\n",
       "      <td>50849</td>\n",
       "      <td>Tostado Soluble COL</td>\n",
       "      <td>CM240103</td>\n",
       "      <td>Entry_{(3187370)}</td>\n",
       "      <td>CM</td>\n",
       "      <td>2024-01-03 03:27:23</td>\n",
       "      <td>901</td>\n",
       "      <td>...</td>\n",
       "      <td>NaN</td>\n",
       "      <td>NaN</td>\n",
       "      <td>NaN</td>\n",
       "      <td>2024</td>\n",
       "      <td>3</td>\n",
       "      <td>1</td>\n",
       "      <td>Enero</td>\n",
       "      <td>3</td>\n",
       "      <td>Turno III (10pm -6am)</td>\n",
       "      <td>2024-01-03</td>\n",
       "    </tr>\n",
       "  </tbody>\n",
       "</table>\n",
       "<p>5 rows × 44 columns</p>\n",
       "</div>"
      ],
      "text/plain": [
       "    Tostador    Material     Orden  Bache de Control Descripción de Material  \\\n",
       "0  TOSTADOR 1  3002547.0  26277032             50805     Tostado Soluble COL   \n",
       "1  TOSTADOR 1  3002547.0  26277032             50806     Tostado Soluble COL   \n",
       "2  TOSTADOR 1  3002547.0  26277032             50810     Tostado Soluble COL   \n",
       "3  TOSTADOR 1  3002547.0  26277032             50811     Tostado Soluble COL   \n",
       "4  TOSTADOR 1  3002547.0  26277032             50849     Tostado Soluble COL   \n",
       "\n",
       "     Lote                Entry Destino Real          Fecha Hora  \\\n",
       "0  CM240102  Entry_{(3187356)}           CM 2024-01-02 12:19:17   \n",
       "1  CM240102  Entry_{(3187357)}           CM 2024-01-02 12:39:57   \n",
       "2  CM240102  Entry_{(3187361)}           CM 2024-01-02 13:39:09   \n",
       "3  CM240102  Entry_{(3187362)}           CM 2024-01-02 13:53:57   \n",
       "4  CM240103  Entry_{(3187370)}           CM 2024-01-03 03:27:23   \n",
       "\n",
       "   Tiempo Total  Tostion    (SEG )  ...  Gas Tostador Calentamiento (m3)  \\\n",
       "0                              863  ...                              NaN   \n",
       "1                              858  ...                              NaN   \n",
       "2                             1071  ...                              NaN   \n",
       "3                              904  ...                              NaN   \n",
       "4                              901  ...                              NaN   \n",
       "\n",
       "   Gas Postquemador Calentamiento (m3)  Energía Electrica Calentamiento (kWh)  \\\n",
       "0                                  NaN                                    NaN   \n",
       "1                                  NaN                                    NaN   \n",
       "2                                  NaN                                    NaN   \n",
       "3                                  NaN                                    NaN   \n",
       "4                                  NaN                                    NaN   \n",
       "\n",
       "    Año  Dia  Mes_Numero    Mes  Hora                 Turnos       Fecha  \n",
       "0  2024    2           1  Enero    12     Turno 1 (6am -2pm)  2024-01-02  \n",
       "1  2024    2           1  Enero    12     Turno 1 (6am -2pm)  2024-01-02  \n",
       "2  2024    2           1  Enero    13     Turno 1 (6am -2pm)  2024-01-02  \n",
       "3  2024    2           1  Enero    13     Turno 1 (6am -2pm)  2024-01-02  \n",
       "4  2024    3           1  Enero     3  Turno III (10pm -6am)  2024-01-03  \n",
       "\n",
       "[5 rows x 44 columns]"
      ]
     },
     "execution_count": 88,
     "metadata": {},
     "output_type": "execute_result"
    }
   ],
   "source": [
    "df_sn_Filtros.head()"
   ]
  },
  {
   "cell_type": "code",
   "execution_count": 89,
   "metadata": {
    "colab": {
     "base_uri": "https://localhost:8080/",
     "height": 498
    },
    "executionInfo": {
     "elapsed": 5,
     "status": "ok",
     "timestamp": 1754323734067,
     "user": {
      "displayName": "Melanny Herrera Arenas",
      "userId": "10791965058209715546"
     },
     "user_tz": 300
    },
    "id": "n7zQnfTnUUaj",
    "outputId": "1c365b71-13e3-4258-9cc4-ced5bf59db0e"
   },
   "outputs": [
    {
     "data": {
      "text/html": [
       "<div>\n",
       "<style scoped>\n",
       "    .dataframe tbody tr th:only-of-type {\n",
       "        vertical-align: middle;\n",
       "    }\n",
       "\n",
       "    .dataframe tbody tr th {\n",
       "        vertical-align: top;\n",
       "    }\n",
       "\n",
       "    .dataframe thead th {\n",
       "        text-align: right;\n",
       "    }\n",
       "</style>\n",
       "<table border=\"1\" class=\"dataframe\">\n",
       "  <thead>\n",
       "    <tr style=\"text-align: right;\">\n",
       "      <th></th>\n",
       "      <th>Tostador</th>\n",
       "      <th>Material</th>\n",
       "      <th>Orden</th>\n",
       "      <th>Bache de Control</th>\n",
       "      <th>Descripción de Material</th>\n",
       "      <th>Lote</th>\n",
       "      <th>Entry</th>\n",
       "      <th>Destino Real</th>\n",
       "      <th>Fecha Hora</th>\n",
       "      <th>Tiempo Total  Tostion    (SEG )</th>\n",
       "      <th>...</th>\n",
       "      <th>Mes_Numero</th>\n",
       "      <th>Mes</th>\n",
       "      <th>Hora</th>\n",
       "      <th>Turnos</th>\n",
       "      <th>Fecha</th>\n",
       "      <th>Indicador_kWh/Ton</th>\n",
       "      <th>Indicador_m3/Ton_Tost</th>\n",
       "      <th>Indicador_m3/Ton_Post</th>\n",
       "      <th>Indicador_m3/Ton_Total</th>\n",
       "      <th>Indicador_Lts/Ton</th>\n",
       "    </tr>\n",
       "  </thead>\n",
       "  <tbody>\n",
       "    <tr>\n",
       "      <th>0</th>\n",
       "      <td>TOSTADOR 1</td>\n",
       "      <td>3002547.0</td>\n",
       "      <td>26277032</td>\n",
       "      <td>50805</td>\n",
       "      <td>Tostado Soluble COL</td>\n",
       "      <td>CM240102</td>\n",
       "      <td>Entry_{(3187356)}</td>\n",
       "      <td>CM</td>\n",
       "      <td>2024-01-02 12:19:17</td>\n",
       "      <td>863</td>\n",
       "      <td>...</td>\n",
       "      <td>1</td>\n",
       "      <td>Enero</td>\n",
       "      <td>12</td>\n",
       "      <td>Turno 1 (6am -2pm)</td>\n",
       "      <td>2024-01-02</td>\n",
       "      <td>10.507812</td>\n",
       "      <td>54.925785</td>\n",
       "      <td>25.060546</td>\n",
       "      <td>79.986331</td>\n",
       "      <td>80.000000</td>\n",
       "    </tr>\n",
       "    <tr>\n",
       "      <th>1</th>\n",
       "      <td>TOSTADOR 1</td>\n",
       "      <td>3002547.0</td>\n",
       "      <td>26277032</td>\n",
       "      <td>50806</td>\n",
       "      <td>Tostado Soluble COL</td>\n",
       "      <td>CM240102</td>\n",
       "      <td>Entry_{(3187357)}</td>\n",
       "      <td>CM</td>\n",
       "      <td>2024-01-02 12:39:57</td>\n",
       "      <td>858</td>\n",
       "      <td>...</td>\n",
       "      <td>1</td>\n",
       "      <td>Enero</td>\n",
       "      <td>12</td>\n",
       "      <td>Turno 1 (6am -2pm)</td>\n",
       "      <td>2024-01-02</td>\n",
       "      <td>11.088206</td>\n",
       "      <td>51.876407</td>\n",
       "      <td>24.515084</td>\n",
       "      <td>76.391491</td>\n",
       "      <td>79.960018</td>\n",
       "    </tr>\n",
       "    <tr>\n",
       "      <th>2</th>\n",
       "      <td>TOSTADOR 1</td>\n",
       "      <td>3002547.0</td>\n",
       "      <td>26277032</td>\n",
       "      <td>50810</td>\n",
       "      <td>Tostado Soluble COL</td>\n",
       "      <td>CM240102</td>\n",
       "      <td>Entry_{(3187361)}</td>\n",
       "      <td>CM</td>\n",
       "      <td>2024-01-02 13:39:09</td>\n",
       "      <td>1071</td>\n",
       "      <td>...</td>\n",
       "      <td>1</td>\n",
       "      <td>Enero</td>\n",
       "      <td>13</td>\n",
       "      <td>Turno 1 (6am -2pm)</td>\n",
       "      <td>2024-01-02</td>\n",
       "      <td>12.512512</td>\n",
       "      <td>50.945477</td>\n",
       "      <td>24.551894</td>\n",
       "      <td>75.497371</td>\n",
       "      <td>80.080079</td>\n",
       "    </tr>\n",
       "    <tr>\n",
       "      <th>3</th>\n",
       "      <td>TOSTADOR 1</td>\n",
       "      <td>3002547.0</td>\n",
       "      <td>26277032</td>\n",
       "      <td>50811</td>\n",
       "      <td>Tostado Soluble COL</td>\n",
       "      <td>CM240102</td>\n",
       "      <td>Entry_{(3187362)}</td>\n",
       "      <td>CM</td>\n",
       "      <td>2024-01-02 13:53:57</td>\n",
       "      <td>904</td>\n",
       "      <td>...</td>\n",
       "      <td>1</td>\n",
       "      <td>Enero</td>\n",
       "      <td>13</td>\n",
       "      <td>Turno 1 (6am -2pm)</td>\n",
       "      <td>2024-01-02</td>\n",
       "      <td>15.085668</td>\n",
       "      <td>56.969896</td>\n",
       "      <td>31.474722</td>\n",
       "      <td>88.444618</td>\n",
       "      <td>80.040022</td>\n",
       "    </tr>\n",
       "    <tr>\n",
       "      <th>4</th>\n",
       "      <td>TOSTADOR 1</td>\n",
       "      <td>3002547.0</td>\n",
       "      <td>26277032</td>\n",
       "      <td>50849</td>\n",
       "      <td>Tostado Soluble COL</td>\n",
       "      <td>CM240103</td>\n",
       "      <td>Entry_{(3187370)}</td>\n",
       "      <td>CM</td>\n",
       "      <td>2024-01-03 03:27:23</td>\n",
       "      <td>901</td>\n",
       "      <td>...</td>\n",
       "      <td>1</td>\n",
       "      <td>Enero</td>\n",
       "      <td>3</td>\n",
       "      <td>Turno III (10pm -6am)</td>\n",
       "      <td>2024-01-03</td>\n",
       "      <td>12.776632</td>\n",
       "      <td>50.907260</td>\n",
       "      <td>26.133486</td>\n",
       "      <td>77.040746</td>\n",
       "      <td>80.020006</td>\n",
       "    </tr>\n",
       "  </tbody>\n",
       "</table>\n",
       "<p>5 rows × 49 columns</p>\n",
       "</div>"
      ],
      "text/plain": [
       "    Tostador    Material     Orden  Bache de Control Descripción de Material  \\\n",
       "0  TOSTADOR 1  3002547.0  26277032             50805     Tostado Soluble COL   \n",
       "1  TOSTADOR 1  3002547.0  26277032             50806     Tostado Soluble COL   \n",
       "2  TOSTADOR 1  3002547.0  26277032             50810     Tostado Soluble COL   \n",
       "3  TOSTADOR 1  3002547.0  26277032             50811     Tostado Soluble COL   \n",
       "4  TOSTADOR 1  3002547.0  26277032             50849     Tostado Soluble COL   \n",
       "\n",
       "     Lote                Entry Destino Real          Fecha Hora  \\\n",
       "0  CM240102  Entry_{(3187356)}           CM 2024-01-02 12:19:17   \n",
       "1  CM240102  Entry_{(3187357)}           CM 2024-01-02 12:39:57   \n",
       "2  CM240102  Entry_{(3187361)}           CM 2024-01-02 13:39:09   \n",
       "3  CM240102  Entry_{(3187362)}           CM 2024-01-02 13:53:57   \n",
       "4  CM240103  Entry_{(3187370)}           CM 2024-01-03 03:27:23   \n",
       "\n",
       "   Tiempo Total  Tostion    (SEG )  ...  Mes_Numero    Mes  Hora  \\\n",
       "0                              863  ...           1  Enero    12   \n",
       "1                              858  ...           1  Enero    12   \n",
       "2                             1071  ...           1  Enero    13   \n",
       "3                              904  ...           1  Enero    13   \n",
       "4                              901  ...           1  Enero     3   \n",
       "\n",
       "                  Turnos       Fecha  Indicador_kWh/Ton  \\\n",
       "0     Turno 1 (6am -2pm)  2024-01-02          10.507812   \n",
       "1     Turno 1 (6am -2pm)  2024-01-02          11.088206   \n",
       "2     Turno 1 (6am -2pm)  2024-01-02          12.512512   \n",
       "3     Turno 1 (6am -2pm)  2024-01-02          15.085668   \n",
       "4  Turno III (10pm -6am)  2024-01-03          12.776632   \n",
       "\n",
       "   Indicador_m3/Ton_Tost  Indicador_m3/Ton_Post  Indicador_m3/Ton_Total  \\\n",
       "0              54.925785              25.060546               79.986331   \n",
       "1              51.876407              24.515084               76.391491   \n",
       "2              50.945477              24.551894               75.497371   \n",
       "3              56.969896              31.474722               88.444618   \n",
       "4              50.907260              26.133486               77.040746   \n",
       "\n",
       "   Indicador_Lts/Ton  \n",
       "0          80.000000  \n",
       "1          79.960018  \n",
       "2          80.080079  \n",
       "3          80.040022  \n",
       "4          80.020006  \n",
       "\n",
       "[5 rows x 49 columns]"
      ]
     },
     "execution_count": 89,
     "metadata": {},
     "output_type": "execute_result"
    }
   ],
   "source": [
    "df.head()"
   ]
  },
  {
   "cell_type": "code",
   "execution_count": 90,
   "metadata": {
    "colab": {
     "base_uri": "https://localhost:8080/",
     "height": 345
    },
    "executionInfo": {
     "elapsed": 56,
     "status": "ok",
     "timestamp": 1754323734124,
     "user": {
      "displayName": "Melanny Herrera Arenas",
      "userId": "10791965058209715546"
     },
     "user_tz": 300
    },
    "id": "JQCMlD1UUUXm",
    "outputId": "99a3081a-804a-4469-cd81-a054c87f7f46"
   },
   "outputs": [
    {
     "data": {
      "text/html": [
       "<div>\n",
       "<style scoped>\n",
       "    .dataframe tbody tr th:only-of-type {\n",
       "        vertical-align: middle;\n",
       "    }\n",
       "\n",
       "    .dataframe tbody tr th {\n",
       "        vertical-align: top;\n",
       "    }\n",
       "\n",
       "    .dataframe thead th {\n",
       "        text-align: right;\n",
       "    }\n",
       "</style>\n",
       "<table border=\"1\" class=\"dataframe\">\n",
       "  <thead>\n",
       "    <tr style=\"text-align: right;\">\n",
       "      <th></th>\n",
       "      <th>Fecha</th>\n",
       "      <th>Tostador</th>\n",
       "      <th>Cafe Verde (KG)</th>\n",
       "      <th>Gas Postquemador M3</th>\n",
       "      <th>Gas Tostador M3</th>\n",
       "      <th>Tiempo Arranque (Seg)</th>\n",
       "      <th>Gas Tostador Arranque (m3)</th>\n",
       "      <th>Gas Postquemador Arranque (m3)</th>\n",
       "      <th>Energía Electrica Arranque (kWh)</th>\n",
       "      <th>Tiempo calentamiento (Seg)</th>\n",
       "      <th>Gas Tostador Calentamiento (m3)</th>\n",
       "      <th>Energía Electrica Calentamiento (kWh)</th>\n",
       "    </tr>\n",
       "  </thead>\n",
       "  <tbody>\n",
       "    <tr>\n",
       "      <th>0</th>\n",
       "      <td>2024-01-02</td>\n",
       "      <td>TOSTADOR 1</td>\n",
       "      <td>17457.500031</td>\n",
       "      <td>450.663260</td>\n",
       "      <td>891.510977</td>\n",
       "      <td>0.0</td>\n",
       "      <td>0.0</td>\n",
       "      <td>0.0</td>\n",
       "      <td>0.0</td>\n",
       "      <td>0.0</td>\n",
       "      <td>0.0</td>\n",
       "      <td>0.0</td>\n",
       "    </tr>\n",
       "    <tr>\n",
       "      <th>1</th>\n",
       "      <td>2024-01-02</td>\n",
       "      <td>TOSTADOR 2</td>\n",
       "      <td>6087.499985</td>\n",
       "      <td>142.340617</td>\n",
       "      <td>385.349977</td>\n",
       "      <td>0.0</td>\n",
       "      <td>0.0</td>\n",
       "      <td>0.0</td>\n",
       "      <td>0.0</td>\n",
       "      <td>0.0</td>\n",
       "      <td>0.0</td>\n",
       "      <td>0.0</td>\n",
       "    </tr>\n",
       "    <tr>\n",
       "      <th>2</th>\n",
       "      <td>2024-01-02</td>\n",
       "      <td>TOSTADOR 3</td>\n",
       "      <td>5116.000000</td>\n",
       "      <td>151.593743</td>\n",
       "      <td>333.637484</td>\n",
       "      <td>0.0</td>\n",
       "      <td>0.0</td>\n",
       "      <td>0.0</td>\n",
       "      <td>0.0</td>\n",
       "      <td>0.0</td>\n",
       "      <td>0.0</td>\n",
       "      <td>0.0</td>\n",
       "    </tr>\n",
       "    <tr>\n",
       "      <th>3</th>\n",
       "      <td>2024-01-02</td>\n",
       "      <td>TOSTADOR 5</td>\n",
       "      <td>1350.000000</td>\n",
       "      <td>28.366405</td>\n",
       "      <td>68.329691</td>\n",
       "      <td>0.0</td>\n",
       "      <td>0.0</td>\n",
       "      <td>0.0</td>\n",
       "      <td>0.0</td>\n",
       "      <td>0.0</td>\n",
       "      <td>0.0</td>\n",
       "      <td>0.0</td>\n",
       "    </tr>\n",
       "    <tr>\n",
       "      <th>4</th>\n",
       "      <td>2024-01-02</td>\n",
       "      <td>TOSTADOR 6</td>\n",
       "      <td>11420.100067</td>\n",
       "      <td>472.079719</td>\n",
       "      <td>293.369879</td>\n",
       "      <td>0.0</td>\n",
       "      <td>0.0</td>\n",
       "      <td>0.0</td>\n",
       "      <td>0.0</td>\n",
       "      <td>0.0</td>\n",
       "      <td>0.0</td>\n",
       "      <td>0.0</td>\n",
       "    </tr>\n",
       "  </tbody>\n",
       "</table>\n",
       "</div>"
      ],
      "text/plain": [
       "        Fecha   Tostador   Cafe Verde (KG)  Gas Postquemador M3   \\\n",
       "0  2024-01-02  TOSTADOR 1     17457.500031            450.663260   \n",
       "1  2024-01-02  TOSTADOR 2      6087.499985            142.340617   \n",
       "2  2024-01-02  TOSTADOR 3      5116.000000            151.593743   \n",
       "3  2024-01-02  TOSTADOR 5      1350.000000             28.366405   \n",
       "4  2024-01-02  TOSTADOR 6     11420.100067            472.079719   \n",
       "\n",
       "   Gas Tostador M3  Tiempo Arranque (Seg)  Gas Tostador Arranque (m3)  \\\n",
       "0       891.510977                    0.0                         0.0   \n",
       "1       385.349977                    0.0                         0.0   \n",
       "2       333.637484                    0.0                         0.0   \n",
       "3        68.329691                    0.0                         0.0   \n",
       "4       293.369879                    0.0                         0.0   \n",
       "\n",
       "   Gas Postquemador Arranque (m3)  Energía Electrica Arranque (kWh)  \\\n",
       "0                             0.0                               0.0   \n",
       "1                             0.0                               0.0   \n",
       "2                             0.0                               0.0   \n",
       "3                             0.0                               0.0   \n",
       "4                             0.0                               0.0   \n",
       "\n",
       "   Tiempo calentamiento (Seg)  Gas Tostador Calentamiento (m3)  \\\n",
       "0                         0.0                              0.0   \n",
       "1                         0.0                              0.0   \n",
       "2                         0.0                              0.0   \n",
       "3                         0.0                              0.0   \n",
       "4                         0.0                              0.0   \n",
       "\n",
       "   Energía Electrica Calentamiento (kWh)  \n",
       "0                                    0.0  \n",
       "1                                    0.0  \n",
       "2                                    0.0  \n",
       "3                                    0.0  \n",
       "4                                    0.0  "
      ]
     },
     "execution_count": 90,
     "metadata": {},
     "output_type": "execute_result"
    }
   ],
   "source": [
    "df_Tostadores_Totalizados.head()"
   ]
  },
  {
   "cell_type": "code",
   "execution_count": 91,
   "metadata": {
    "colab": {
     "base_uri": "https://localhost:8080/",
     "height": 206
    },
    "executionInfo": {
     "elapsed": 113,
     "status": "ok",
     "timestamp": 1754323734238,
     "user": {
      "displayName": "Melanny Herrera Arenas",
      "userId": "10791965058209715546"
     },
     "user_tz": 300
    },
    "id": "RZUsH_oKUUUF",
    "outputId": "8a9cd2c4-eed6-4289-929f-70d0ac1549eb"
   },
   "outputs": [
    {
     "data": {
      "text/html": [
       "<div>\n",
       "<style scoped>\n",
       "    .dataframe tbody tr th:only-of-type {\n",
       "        vertical-align: middle;\n",
       "    }\n",
       "\n",
       "    .dataframe tbody tr th {\n",
       "        vertical-align: top;\n",
       "    }\n",
       "\n",
       "    .dataframe thead th {\n",
       "        text-align: right;\n",
       "    }\n",
       "</style>\n",
       "<table border=\"1\" class=\"dataframe\">\n",
       "  <thead>\n",
       "    <tr style=\"text-align: right;\">\n",
       "      <th></th>\n",
       "      <th>Centro</th>\n",
       "      <th>Fecha</th>\n",
       "      <th>Año</th>\n",
       "      <th>Mes</th>\n",
       "      <th>Dia</th>\n",
       "      <th>Hora</th>\n",
       "      <th>Tostador</th>\n",
       "      <th>Tostador gas</th>\n",
       "      <th>Postquemador gas</th>\n",
       "      <th>Agua</th>\n",
       "      <th>Energia</th>\n",
       "      <th>Mes_T</th>\n",
       "      <th>Turnos</th>\n",
       "    </tr>\n",
       "  </thead>\n",
       "  <tbody>\n",
       "    <tr>\n",
       "      <th>144</th>\n",
       "      <td>CM10</td>\n",
       "      <td>2024-08-14</td>\n",
       "      <td>2024</td>\n",
       "      <td>8</td>\n",
       "      <td>14</td>\n",
       "      <td>00:00:00</td>\n",
       "      <td>Tostador 1</td>\n",
       "      <td>0.000</td>\n",
       "      <td>0.000</td>\n",
       "      <td>0</td>\n",
       "      <td>0</td>\n",
       "      <td>Agosto</td>\n",
       "      <td>Turno III (10pm -6am)</td>\n",
       "    </tr>\n",
       "    <tr>\n",
       "      <th>145</th>\n",
       "      <td>CM10</td>\n",
       "      <td>2024-08-14</td>\n",
       "      <td>2024</td>\n",
       "      <td>8</td>\n",
       "      <td>14</td>\n",
       "      <td>00:00:00</td>\n",
       "      <td>Tostador 2</td>\n",
       "      <td>0.000</td>\n",
       "      <td>0.000</td>\n",
       "      <td>0</td>\n",
       "      <td>0</td>\n",
       "      <td>Agosto</td>\n",
       "      <td>Turno III (10pm -6am)</td>\n",
       "    </tr>\n",
       "    <tr>\n",
       "      <th>146</th>\n",
       "      <td>CM10</td>\n",
       "      <td>2024-08-14</td>\n",
       "      <td>2024</td>\n",
       "      <td>8</td>\n",
       "      <td>14</td>\n",
       "      <td>00:00:00</td>\n",
       "      <td>Tostador 3</td>\n",
       "      <td>26.064</td>\n",
       "      <td>15.766</td>\n",
       "      <td>0</td>\n",
       "      <td>0</td>\n",
       "      <td>Agosto</td>\n",
       "      <td>Turno III (10pm -6am)</td>\n",
       "    </tr>\n",
       "    <tr>\n",
       "      <th>147</th>\n",
       "      <td>CM10</td>\n",
       "      <td>2024-08-14</td>\n",
       "      <td>2024</td>\n",
       "      <td>8</td>\n",
       "      <td>14</td>\n",
       "      <td>00:00:00</td>\n",
       "      <td>Tostador 4</td>\n",
       "      <td>13.321</td>\n",
       "      <td>0.000</td>\n",
       "      <td>0</td>\n",
       "      <td>0</td>\n",
       "      <td>Agosto</td>\n",
       "      <td>Turno III (10pm -6am)</td>\n",
       "    </tr>\n",
       "    <tr>\n",
       "      <th>148</th>\n",
       "      <td>CM10</td>\n",
       "      <td>2024-08-14</td>\n",
       "      <td>2024</td>\n",
       "      <td>8</td>\n",
       "      <td>14</td>\n",
       "      <td>00:00:00</td>\n",
       "      <td>Tostador 5</td>\n",
       "      <td>79.266</td>\n",
       "      <td>38.488</td>\n",
       "      <td>0</td>\n",
       "      <td>0</td>\n",
       "      <td>Agosto</td>\n",
       "      <td>Turno III (10pm -6am)</td>\n",
       "    </tr>\n",
       "  </tbody>\n",
       "</table>\n",
       "</div>"
      ],
      "text/plain": [
       "    Centro      Fecha   Año  Mes  Dia      Hora    Tostador  Tostador gas  \\\n",
       "144   CM10 2024-08-14  2024    8   14  00:00:00  Tostador 1         0.000   \n",
       "145   CM10 2024-08-14  2024    8   14  00:00:00  Tostador 2         0.000   \n",
       "146   CM10 2024-08-14  2024    8   14  00:00:00  Tostador 3        26.064   \n",
       "147   CM10 2024-08-14  2024    8   14  00:00:00  Tostador 4        13.321   \n",
       "148   CM10 2024-08-14  2024    8   14  00:00:00  Tostador 5        79.266   \n",
       "\n",
       "     Postquemador gas  Agua  Energia   Mes_T                 Turnos  \n",
       "144             0.000     0        0  Agosto  Turno III (10pm -6am)  \n",
       "145             0.000     0        0  Agosto  Turno III (10pm -6am)  \n",
       "146            15.766     0        0  Agosto  Turno III (10pm -6am)  \n",
       "147             0.000     0        0  Agosto  Turno III (10pm -6am)  \n",
       "148            38.488     0        0  Agosto  Turno III (10pm -6am)  "
      ]
     },
     "execution_count": 91,
     "metadata": {},
     "output_type": "execute_result"
    }
   ],
   "source": [
    "df_Tostion_MES_totales.head()"
   ]
  },
  {
   "cell_type": "code",
   "execution_count": 92,
   "metadata": {
    "colab": {
     "base_uri": "https://localhost:8080/",
     "height": 206
    },
    "executionInfo": {
     "elapsed": 72,
     "status": "ok",
     "timestamp": 1754323734308,
     "user": {
      "displayName": "Melanny Herrera Arenas",
      "userId": "10791965058209715546"
     },
     "user_tz": 300
    },
    "id": "6ySjifykUUQo",
    "outputId": "685e89ba-21fd-4ad3-d867-dea98f3b78dd"
   },
   "outputs": [
    {
     "data": {
      "text/html": [
       "<div>\n",
       "<style scoped>\n",
       "    .dataframe tbody tr th:only-of-type {\n",
       "        vertical-align: middle;\n",
       "    }\n",
       "\n",
       "    .dataframe tbody tr th {\n",
       "        vertical-align: top;\n",
       "    }\n",
       "\n",
       "    .dataframe thead th {\n",
       "        text-align: right;\n",
       "    }\n",
       "</style>\n",
       "<table border=\"1\" class=\"dataframe\">\n",
       "  <thead>\n",
       "    <tr style=\"text-align: right;\">\n",
       "      <th></th>\n",
       "      <th>Fecha</th>\n",
       "      <th>Año</th>\n",
       "      <th>Mes</th>\n",
       "      <th>Dia</th>\n",
       "      <th>Consumo gas tostador</th>\n",
       "      <th>Consumo gas postquemador</th>\n",
       "      <th>Café verde</th>\n",
       "      <th>Tostador</th>\n",
       "      <th>Ciudad</th>\n",
       "      <th>Indicador_m3/Ton_Tost</th>\n",
       "      <th>Indicador_m3/Ton_Post</th>\n",
       "    </tr>\n",
       "  </thead>\n",
       "  <tbody>\n",
       "    <tr>\n",
       "      <th>1</th>\n",
       "      <td>2/1/2021</td>\n",
       "      <td>2021.0</td>\n",
       "      <td>Enero</td>\n",
       "      <td>2.0</td>\n",
       "      <td>554.2</td>\n",
       "      <td>336.9</td>\n",
       "      <td>19.2</td>\n",
       "      <td>TOSTADOR 1</td>\n",
       "      <td>Medellín</td>\n",
       "      <td>28.864583</td>\n",
       "      <td>17.546875</td>\n",
       "    </tr>\n",
       "    <tr>\n",
       "      <th>2</th>\n",
       "      <td>3/1/2021</td>\n",
       "      <td>2021.0</td>\n",
       "      <td>Enero</td>\n",
       "      <td>3.0</td>\n",
       "      <td>1171.1</td>\n",
       "      <td>624.3</td>\n",
       "      <td>18.0</td>\n",
       "      <td>TOSTADOR 1</td>\n",
       "      <td>Medellín</td>\n",
       "      <td>65.061111</td>\n",
       "      <td>34.683333</td>\n",
       "    </tr>\n",
       "    <tr>\n",
       "      <th>3</th>\n",
       "      <td>4/1/2021</td>\n",
       "      <td>2021.0</td>\n",
       "      <td>Enero</td>\n",
       "      <td>4.0</td>\n",
       "      <td>1873.4</td>\n",
       "      <td>997.6</td>\n",
       "      <td>53.9</td>\n",
       "      <td>TOSTADOR 1</td>\n",
       "      <td>Medellín</td>\n",
       "      <td>34.756957</td>\n",
       "      <td>18.508349</td>\n",
       "    </tr>\n",
       "    <tr>\n",
       "      <th>4</th>\n",
       "      <td>5/1/2021</td>\n",
       "      <td>2021.0</td>\n",
       "      <td>Enero</td>\n",
       "      <td>5.0</td>\n",
       "      <td>2159.0</td>\n",
       "      <td>973.7</td>\n",
       "      <td>33.9</td>\n",
       "      <td>TOSTADOR 1</td>\n",
       "      <td>Medellín</td>\n",
       "      <td>63.687316</td>\n",
       "      <td>28.722714</td>\n",
       "    </tr>\n",
       "    <tr>\n",
       "      <th>5</th>\n",
       "      <td>6/1/2021</td>\n",
       "      <td>2021.0</td>\n",
       "      <td>Enero</td>\n",
       "      <td>6.0</td>\n",
       "      <td>2155.6</td>\n",
       "      <td>996.5</td>\n",
       "      <td>46.5</td>\n",
       "      <td>TOSTADOR 1</td>\n",
       "      <td>Medellín</td>\n",
       "      <td>46.356989</td>\n",
       "      <td>21.430108</td>\n",
       "    </tr>\n",
       "  </tbody>\n",
       "</table>\n",
       "</div>"
      ],
      "text/plain": [
       "      Fecha     Año    Mes  Dia  Consumo gas tostador  \\\n",
       "1  2/1/2021  2021.0  Enero  2.0                 554.2   \n",
       "2  3/1/2021  2021.0  Enero  3.0                1171.1   \n",
       "3  4/1/2021  2021.0  Enero  4.0                1873.4   \n",
       "4  5/1/2021  2021.0  Enero  5.0                2159.0   \n",
       "5  6/1/2021  2021.0  Enero  6.0                2155.6   \n",
       "\n",
       "   Consumo gas postquemador  Café verde    Tostador    Ciudad  \\\n",
       "1                     336.9        19.2  TOSTADOR 1  Medellín   \n",
       "2                     624.3        18.0  TOSTADOR 1  Medellín   \n",
       "3                     997.6        53.9  TOSTADOR 1  Medellín   \n",
       "4                     973.7        33.9  TOSTADOR 1  Medellín   \n",
       "5                     996.5        46.5  TOSTADOR 1  Medellín   \n",
       "\n",
       "   Indicador_m3/Ton_Tost  Indicador_m3/Ton_Post  \n",
       "1              28.864583              17.546875  \n",
       "2              65.061111              34.683333  \n",
       "3              34.756957              18.508349  \n",
       "4              63.687316              28.722714  \n",
       "5              46.356989              21.430108  "
      ]
     },
     "execution_count": 92,
     "metadata": {},
     "output_type": "execute_result"
    }
   ],
   "source": [
    "df_Total_amb.head()"
   ]
  },
  {
   "cell_type": "code",
   "execution_count": 93,
   "metadata": {
    "colab": {
     "base_uri": "https://localhost:8080/",
     "height": 206
    },
    "executionInfo": {
     "elapsed": 110,
     "status": "ok",
     "timestamp": 1754323734417,
     "user": {
      "displayName": "Melanny Herrera Arenas",
      "userId": "10791965058209715546"
     },
     "user_tz": 300
    },
    "id": "rk7L_VFDUUMv",
    "outputId": "c5a98497-3a07-4ffd-ed9c-241ae8cf9744"
   },
   "outputs": [
    {
     "data": {
      "text/html": [
       "<div>\n",
       "<style scoped>\n",
       "    .dataframe tbody tr th:only-of-type {\n",
       "        vertical-align: middle;\n",
       "    }\n",
       "\n",
       "    .dataframe tbody tr th {\n",
       "        vertical-align: top;\n",
       "    }\n",
       "\n",
       "    .dataframe thead th {\n",
       "        text-align: right;\n",
       "    }\n",
       "</style>\n",
       "<table border=\"1\" class=\"dataframe\">\n",
       "  <thead>\n",
       "    <tr style=\"text-align: right;\">\n",
       "      <th></th>\n",
       "      <th>Fecha</th>\n",
       "      <th>Año</th>\n",
       "      <th>Mes</th>\n",
       "      <th>Dia</th>\n",
       "      <th>Consumo gas secador</th>\n",
       "      <th>Café verde</th>\n",
       "      <th>Secador</th>\n",
       "      <th>Ciudad</th>\n",
       "      <th>Indicador_m3/Ton_Secado</th>\n",
       "    </tr>\n",
       "  </thead>\n",
       "  <tbody>\n",
       "    <tr>\n",
       "      <th>4</th>\n",
       "      <td>5/1/2021</td>\n",
       "      <td>2021.0</td>\n",
       "      <td>Enero</td>\n",
       "      <td>5.0</td>\n",
       "      <td>982.0</td>\n",
       "      <td>3.8</td>\n",
       "      <td>SECADOR 2</td>\n",
       "      <td>Medellín</td>\n",
       "      <td>258.421053</td>\n",
       "    </tr>\n",
       "    <tr>\n",
       "      <th>5</th>\n",
       "      <td>6/1/2021</td>\n",
       "      <td>2021.0</td>\n",
       "      <td>Enero</td>\n",
       "      <td>6.0</td>\n",
       "      <td>965.5</td>\n",
       "      <td>4.6</td>\n",
       "      <td>SECADOR 2</td>\n",
       "      <td>Medellín</td>\n",
       "      <td>209.891304</td>\n",
       "    </tr>\n",
       "    <tr>\n",
       "      <th>6</th>\n",
       "      <td>7/1/2021</td>\n",
       "      <td>2021.0</td>\n",
       "      <td>Enero</td>\n",
       "      <td>7.0</td>\n",
       "      <td>1024.1</td>\n",
       "      <td>4.2</td>\n",
       "      <td>SECADOR 2</td>\n",
       "      <td>Medellín</td>\n",
       "      <td>243.833333</td>\n",
       "    </tr>\n",
       "    <tr>\n",
       "      <th>7</th>\n",
       "      <td>8/1/2021</td>\n",
       "      <td>2021.0</td>\n",
       "      <td>Enero</td>\n",
       "      <td>8.0</td>\n",
       "      <td>1076.1</td>\n",
       "      <td>5.0</td>\n",
       "      <td>SECADOR 2</td>\n",
       "      <td>Medellín</td>\n",
       "      <td>215.220000</td>\n",
       "    </tr>\n",
       "    <tr>\n",
       "      <th>8</th>\n",
       "      <td>9/1/2021</td>\n",
       "      <td>2021.0</td>\n",
       "      <td>Enero</td>\n",
       "      <td>9.0</td>\n",
       "      <td>2175.7</td>\n",
       "      <td>5.3</td>\n",
       "      <td>SECADOR 2</td>\n",
       "      <td>Medellín</td>\n",
       "      <td>410.509434</td>\n",
       "    </tr>\n",
       "  </tbody>\n",
       "</table>\n",
       "</div>"
      ],
      "text/plain": [
       "      Fecha     Año    Mes  Dia  Consumo gas secador  Café verde    Secador  \\\n",
       "4  5/1/2021  2021.0  Enero  5.0                982.0         3.8  SECADOR 2   \n",
       "5  6/1/2021  2021.0  Enero  6.0                965.5         4.6  SECADOR 2   \n",
       "6  7/1/2021  2021.0  Enero  7.0               1024.1         4.2  SECADOR 2   \n",
       "7  8/1/2021  2021.0  Enero  8.0               1076.1         5.0  SECADOR 2   \n",
       "8  9/1/2021  2021.0  Enero  9.0               2175.7         5.3  SECADOR 2   \n",
       "\n",
       "     Ciudad  Indicador_m3/Ton_Secado  \n",
       "4  Medellín               258.421053  \n",
       "5  Medellín               209.891304  \n",
       "6  Medellín               243.833333  \n",
       "7  Medellín               215.220000  \n",
       "8  Medellín               410.509434  "
      ]
     },
     "execution_count": 93,
     "metadata": {},
     "output_type": "execute_result"
    }
   ],
   "source": [
    "df_Total_amb_Secado.head()"
   ]
  },
  {
   "cell_type": "code",
   "execution_count": 94,
   "metadata": {
    "colab": {
     "base_uri": "https://localhost:8080/",
     "height": 206
    },
    "executionInfo": {
     "elapsed": 45,
     "status": "ok",
     "timestamp": 1754323734471,
     "user": {
      "displayName": "Melanny Herrera Arenas",
      "userId": "10791965058209715546"
     },
     "user_tz": 300
    },
    "id": "C8HTjYHlUUJW",
    "outputId": "b695f4c5-ed2b-48f6-99ca-f758f7663554"
   },
   "outputs": [
    {
     "data": {
      "text/html": [
       "<div>\n",
       "<style scoped>\n",
       "    .dataframe tbody tr th:only-of-type {\n",
       "        vertical-align: middle;\n",
       "    }\n",
       "\n",
       "    .dataframe tbody tr th {\n",
       "        vertical-align: top;\n",
       "    }\n",
       "\n",
       "    .dataframe thead th {\n",
       "        text-align: right;\n",
       "    }\n",
       "</style>\n",
       "<table border=\"1\" class=\"dataframe\">\n",
       "  <thead>\n",
       "    <tr style=\"text-align: right;\">\n",
       "      <th></th>\n",
       "      <th>Fecha</th>\n",
       "      <th>Año</th>\n",
       "      <th>Mes</th>\n",
       "      <th>Dia</th>\n",
       "      <th>Consumo gas Aglomerador</th>\n",
       "      <th>Café verde</th>\n",
       "      <th>Aglomerador</th>\n",
       "      <th>Ciudad</th>\n",
       "      <th>Indicador_m3/Ton_Aglo</th>\n",
       "    </tr>\n",
       "  </thead>\n",
       "  <tbody>\n",
       "    <tr>\n",
       "      <th>1</th>\n",
       "      <td>2/1/2021</td>\n",
       "      <td>2021.0</td>\n",
       "      <td>Enero</td>\n",
       "      <td>2.0</td>\n",
       "      <td>0.0</td>\n",
       "      <td>1.0</td>\n",
       "      <td>AGLOMERADOR 1</td>\n",
       "      <td>Medellín</td>\n",
       "      <td>0.0</td>\n",
       "    </tr>\n",
       "    <tr>\n",
       "      <th>2</th>\n",
       "      <td>3/1/2021</td>\n",
       "      <td>2021.0</td>\n",
       "      <td>Enero</td>\n",
       "      <td>3.0</td>\n",
       "      <td>0.0</td>\n",
       "      <td>3.4</td>\n",
       "      <td>AGLOMERADOR 1</td>\n",
       "      <td>Medellín</td>\n",
       "      <td>0.0</td>\n",
       "    </tr>\n",
       "    <tr>\n",
       "      <th>3</th>\n",
       "      <td>4/1/2021</td>\n",
       "      <td>2021.0</td>\n",
       "      <td>Enero</td>\n",
       "      <td>4.0</td>\n",
       "      <td>0.0</td>\n",
       "      <td>4.3</td>\n",
       "      <td>AGLOMERADOR 1</td>\n",
       "      <td>Medellín</td>\n",
       "      <td>0.0</td>\n",
       "    </tr>\n",
       "    <tr>\n",
       "      <th>4</th>\n",
       "      <td>5/1/2021</td>\n",
       "      <td>2021.0</td>\n",
       "      <td>Enero</td>\n",
       "      <td>5.0</td>\n",
       "      <td>0.0</td>\n",
       "      <td>3.7</td>\n",
       "      <td>AGLOMERADOR 1</td>\n",
       "      <td>Medellín</td>\n",
       "      <td>0.0</td>\n",
       "    </tr>\n",
       "    <tr>\n",
       "      <th>5</th>\n",
       "      <td>6/1/2021</td>\n",
       "      <td>2021.0</td>\n",
       "      <td>Enero</td>\n",
       "      <td>6.0</td>\n",
       "      <td>0.0</td>\n",
       "      <td>4.8</td>\n",
       "      <td>AGLOMERADOR 1</td>\n",
       "      <td>Medellín</td>\n",
       "      <td>0.0</td>\n",
       "    </tr>\n",
       "  </tbody>\n",
       "</table>\n",
       "</div>"
      ],
      "text/plain": [
       "      Fecha     Año    Mes  Dia  Consumo gas Aglomerador  Café verde  \\\n",
       "1  2/1/2021  2021.0  Enero  2.0                      0.0         1.0   \n",
       "2  3/1/2021  2021.0  Enero  3.0                      0.0         3.4   \n",
       "3  4/1/2021  2021.0  Enero  4.0                      0.0         4.3   \n",
       "4  5/1/2021  2021.0  Enero  5.0                      0.0         3.7   \n",
       "5  6/1/2021  2021.0  Enero  6.0                      0.0         4.8   \n",
       "\n",
       "     Aglomerador    Ciudad  Indicador_m3/Ton_Aglo  \n",
       "1  AGLOMERADOR 1  Medellín                    0.0  \n",
       "2  AGLOMERADOR 1  Medellín                    0.0  \n",
       "3  AGLOMERADOR 1  Medellín                    0.0  \n",
       "4  AGLOMERADOR 1  Medellín                    0.0  \n",
       "5  AGLOMERADOR 1  Medellín                    0.0  "
      ]
     },
     "execution_count": 94,
     "metadata": {},
     "output_type": "execute_result"
    }
   ],
   "source": [
    "df_Total_amb_Aglomerado.head()"
   ]
  },
  {
   "cell_type": "code",
   "execution_count": 95,
   "metadata": {
    "colab": {
     "base_uri": "https://localhost:8080/",
     "height": 206
    },
    "executionInfo": {
     "elapsed": 33,
     "status": "ok",
     "timestamp": 1754323734506,
     "user": {
      "displayName": "Melanny Herrera Arenas",
      "userId": "10791965058209715546"
     },
     "user_tz": 300
    },
    "id": "g_0GhXiLUUFe",
    "outputId": "2cc706b3-97e3-4e38-b87c-e5eff3627ff3"
   },
   "outputs": [
    {
     "data": {
      "text/html": [
       "<div>\n",
       "<style scoped>\n",
       "    .dataframe tbody tr th:only-of-type {\n",
       "        vertical-align: middle;\n",
       "    }\n",
       "\n",
       "    .dataframe tbody tr th {\n",
       "        vertical-align: top;\n",
       "    }\n",
       "\n",
       "    .dataframe thead th {\n",
       "        text-align: right;\n",
       "    }\n",
       "</style>\n",
       "<table border=\"1\" class=\"dataframe\">\n",
       "  <thead>\n",
       "    <tr style=\"text-align: right;\">\n",
       "      <th></th>\n",
       "      <th>Fecha</th>\n",
       "      <th>Tostador</th>\n",
       "      <th>Café verde</th>\n",
       "      <th>Consumo gas postquemador</th>\n",
       "      <th>Consumo gas tostador</th>\n",
       "    </tr>\n",
       "  </thead>\n",
       "  <tbody>\n",
       "    <tr>\n",
       "      <th>0</th>\n",
       "      <td>1/1/2021</td>\n",
       "      <td>TOSTADOR 1</td>\n",
       "      <td>0.0</td>\n",
       "      <td>760.3</td>\n",
       "      <td>1404.7</td>\n",
       "    </tr>\n",
       "    <tr>\n",
       "      <th>1</th>\n",
       "      <td>1/1/2021</td>\n",
       "      <td>TOSTADOR 2</td>\n",
       "      <td>0.0</td>\n",
       "      <td>199.9</td>\n",
       "      <td>237.3</td>\n",
       "    </tr>\n",
       "    <tr>\n",
       "      <th>2</th>\n",
       "      <td>1/1/2021</td>\n",
       "      <td>TOSTADOR 3</td>\n",
       "      <td>0.0</td>\n",
       "      <td>255.7</td>\n",
       "      <td>899.6</td>\n",
       "    </tr>\n",
       "    <tr>\n",
       "      <th>3</th>\n",
       "      <td>1/1/2021</td>\n",
       "      <td>TOSTADOR 4</td>\n",
       "      <td>0.0</td>\n",
       "      <td>0.0</td>\n",
       "      <td>0.0</td>\n",
       "    </tr>\n",
       "    <tr>\n",
       "      <th>4</th>\n",
       "      <td>1/1/2021</td>\n",
       "      <td>TOSTADOR 5</td>\n",
       "      <td>0.0</td>\n",
       "      <td>664.5</td>\n",
       "      <td>1435.5</td>\n",
       "    </tr>\n",
       "  </tbody>\n",
       "</table>\n",
       "</div>"
      ],
      "text/plain": [
       "      Fecha    Tostador  Café verde  Consumo gas postquemador  \\\n",
       "0  1/1/2021  TOSTADOR 1         0.0                     760.3   \n",
       "1  1/1/2021  TOSTADOR 2         0.0                     199.9   \n",
       "2  1/1/2021  TOSTADOR 3         0.0                     255.7   \n",
       "3  1/1/2021  TOSTADOR 4         0.0                       0.0   \n",
       "4  1/1/2021  TOSTADOR 5         0.0                     664.5   \n",
       "\n",
       "   Consumo gas tostador  \n",
       "0                1404.7  \n",
       "1                 237.3  \n",
       "2                 899.6  \n",
       "3                   0.0  \n",
       "4                1435.5  "
      ]
     },
     "execution_count": 95,
     "metadata": {},
     "output_type": "execute_result"
    }
   ],
   "source": [
    "df_Tostadores_Totalizados_amb.head()"
   ]
  },
  {
   "cell_type": "code",
   "execution_count": 96,
   "metadata": {
    "colab": {
     "base_uri": "https://localhost:8080/",
     "height": 206
    },
    "executionInfo": {
     "elapsed": 3,
     "status": "ok",
     "timestamp": 1754323734511,
     "user": {
      "displayName": "Melanny Herrera Arenas",
      "userId": "10791965058209715546"
     },
     "user_tz": 300
    },
    "id": "H6wcmrs7UUBe",
    "outputId": "d663cd84-54d9-4c0b-8b47-efcab9135e15"
   },
   "outputs": [
    {
     "data": {
      "text/html": [
       "<div>\n",
       "<style scoped>\n",
       "    .dataframe tbody tr th:only-of-type {\n",
       "        vertical-align: middle;\n",
       "    }\n",
       "\n",
       "    .dataframe tbody tr th {\n",
       "        vertical-align: top;\n",
       "    }\n",
       "\n",
       "    .dataframe thead th {\n",
       "        text-align: right;\n",
       "    }\n",
       "</style>\n",
       "<table border=\"1\" class=\"dataframe\">\n",
       "  <thead>\n",
       "    <tr style=\"text-align: right;\">\n",
       "      <th></th>\n",
       "      <th>Tostador</th>\n",
       "      <th>Descripción de Material</th>\n",
       "    </tr>\n",
       "  </thead>\n",
       "  <tbody>\n",
       "    <tr>\n",
       "      <th>0</th>\n",
       "      <td>TOSTADOR 1</td>\n",
       "      <td>Tostado Soluble COL</td>\n",
       "    </tr>\n",
       "    <tr>\n",
       "      <th>1</th>\n",
       "      <td>TOSTADOR 1</td>\n",
       "      <td>Tostado Soluble FCS</td>\n",
       "    </tr>\n",
       "    <tr>\n",
       "      <th>2</th>\n",
       "      <td>TOSTADOR 1</td>\n",
       "      <td>Tostado Soluble FCSO</td>\n",
       "    </tr>\n",
       "    <tr>\n",
       "      <th>3</th>\n",
       "      <td>TOSTADOR 1</td>\n",
       "      <td>Tostado Soluble FF</td>\n",
       "    </tr>\n",
       "    <tr>\n",
       "      <th>4</th>\n",
       "      <td>TOSTADOR 1</td>\n",
       "      <td>Tostado Soluble FFO</td>\n",
       "    </tr>\n",
       "  </tbody>\n",
       "</table>\n",
       "</div>"
      ],
      "text/plain": [
       "    Tostador  Descripción de Material\n",
       "0  TOSTADOR 1     Tostado Soluble COL\n",
       "1  TOSTADOR 1     Tostado Soluble FCS\n",
       "2  TOSTADOR 1    Tostado Soluble FCSO\n",
       "3  TOSTADOR 1      Tostado Soluble FF\n",
       "4  TOSTADOR 1     Tostado Soluble FFO"
      ]
     },
     "execution_count": 96,
     "metadata": {},
     "output_type": "execute_result"
    }
   ],
   "source": [
    "combinaciones_unicas.head()"
   ]
  },
  {
   "cell_type": "code",
   "execution_count": 97,
   "metadata": {
    "colab": {
     "base_uri": "https://localhost:8080/",
     "height": 206
    },
    "executionInfo": {
     "elapsed": 5,
     "status": "ok",
     "timestamp": 1754323734518,
     "user": {
      "displayName": "Melanny Herrera Arenas",
      "userId": "10791965058209715546"
     },
     "user_tz": 300
    },
    "id": "sWXomGKRUT9l",
    "outputId": "4a809bd6-95bf-4577-fe8c-c8b54a852fd7"
   },
   "outputs": [
    {
     "data": {
      "text/html": [
       "<div>\n",
       "<style scoped>\n",
       "    .dataframe tbody tr th:only-of-type {\n",
       "        vertical-align: middle;\n",
       "    }\n",
       "\n",
       "    .dataframe tbody tr th {\n",
       "        vertical-align: top;\n",
       "    }\n",
       "\n",
       "    .dataframe thead th {\n",
       "        text-align: right;\n",
       "    }\n",
       "</style>\n",
       "<table border=\"1\" class=\"dataframe\">\n",
       "  <thead>\n",
       "    <tr style=\"text-align: right;\">\n",
       "      <th></th>\n",
       "      <th>Fecha</th>\n",
       "    </tr>\n",
       "  </thead>\n",
       "  <tbody>\n",
       "    <tr>\n",
       "      <th>0</th>\n",
       "      <td>01/01/2024</td>\n",
       "    </tr>\n",
       "    <tr>\n",
       "      <th>1</th>\n",
       "      <td>02/01/2024</td>\n",
       "    </tr>\n",
       "    <tr>\n",
       "      <th>2</th>\n",
       "      <td>03/01/2024</td>\n",
       "    </tr>\n",
       "    <tr>\n",
       "      <th>3</th>\n",
       "      <td>04/01/2024</td>\n",
       "    </tr>\n",
       "    <tr>\n",
       "      <th>4</th>\n",
       "      <td>05/01/2024</td>\n",
       "    </tr>\n",
       "  </tbody>\n",
       "</table>\n",
       "</div>"
      ],
      "text/plain": [
       "        Fecha\n",
       "0  01/01/2024\n",
       "1  02/01/2024\n",
       "2  03/01/2024\n",
       "3  04/01/2024\n",
       "4  05/01/2024"
      ]
     },
     "execution_count": 97,
     "metadata": {},
     "output_type": "execute_result"
    }
   ],
   "source": [
    "df_Fechas.head()"
   ]
  },
  {
   "cell_type": "code",
   "execution_count": 98,
   "metadata": {},
   "outputs": [
    {
     "data": {
      "text/html": [
       "<div>\n",
       "<style scoped>\n",
       "    .dataframe tbody tr th:only-of-type {\n",
       "        vertical-align: middle;\n",
       "    }\n",
       "\n",
       "    .dataframe tbody tr th {\n",
       "        vertical-align: top;\n",
       "    }\n",
       "\n",
       "    .dataframe thead th {\n",
       "        text-align: right;\n",
       "    }\n",
       "</style>\n",
       "<table border=\"1\" class=\"dataframe\">\n",
       "  <thead>\n",
       "    <tr style=\"text-align: right;\">\n",
       "      <th></th>\n",
       "      <th>Fecha</th>\n",
       "    </tr>\n",
       "  </thead>\n",
       "  <tbody>\n",
       "    <tr>\n",
       "      <th>592</th>\n",
       "      <td>15/08/2025</td>\n",
       "    </tr>\n",
       "    <tr>\n",
       "      <th>593</th>\n",
       "      <td>16/08/2025</td>\n",
       "    </tr>\n",
       "    <tr>\n",
       "      <th>594</th>\n",
       "      <td>17/08/2025</td>\n",
       "    </tr>\n",
       "    <tr>\n",
       "      <th>595</th>\n",
       "      <td>18/08/2025</td>\n",
       "    </tr>\n",
       "    <tr>\n",
       "      <th>596</th>\n",
       "      <td>19/08/2025</td>\n",
       "    </tr>\n",
       "  </tbody>\n",
       "</table>\n",
       "</div>"
      ],
      "text/plain": [
       "          Fecha\n",
       "592  15/08/2025\n",
       "593  16/08/2025\n",
       "594  17/08/2025\n",
       "595  18/08/2025\n",
       "596  19/08/2025"
      ]
     },
     "execution_count": 98,
     "metadata": {},
     "output_type": "execute_result"
    }
   ],
   "source": [
    "df_Fechas.tail()"
   ]
  },
  {
   "cell_type": "code",
   "execution_count": 99,
   "metadata": {
    "colab": {
     "base_uri": "https://localhost:8080/",
     "height": 206
    },
    "executionInfo": {
     "elapsed": 31,
     "status": "ok",
     "timestamp": 1754323734553,
     "user": {
      "displayName": "Melanny Herrera Arenas",
      "userId": "10791965058209715546"
     },
     "user_tz": 300
    },
    "id": "E9lFPWrkUcud",
    "outputId": "8de55229-8d2d-4106-9220-073f81e0fb24"
   },
   "outputs": [
    {
     "data": {
      "text/html": [
       "<div>\n",
       "<style scoped>\n",
       "    .dataframe tbody tr th:only-of-type {\n",
       "        vertical-align: middle;\n",
       "    }\n",
       "\n",
       "    .dataframe tbody tr th {\n",
       "        vertical-align: top;\n",
       "    }\n",
       "\n",
       "    .dataframe thead th {\n",
       "        text-align: right;\n",
       "    }\n",
       "</style>\n",
       "<table border=\"1\" class=\"dataframe\">\n",
       "  <thead>\n",
       "    <tr style=\"text-align: right;\">\n",
       "      <th></th>\n",
       "      <th>Fecha</th>\n",
       "      <th>Tostador</th>\n",
       "      <th># Baches perdidos</th>\n",
       "    </tr>\n",
       "  </thead>\n",
       "  <tbody>\n",
       "    <tr>\n",
       "      <th>0</th>\n",
       "      <td>2024-01-02</td>\n",
       "      <td>TOSTADOR 1</td>\n",
       "      <td>0</td>\n",
       "    </tr>\n",
       "    <tr>\n",
       "      <th>1</th>\n",
       "      <td>2024-01-02</td>\n",
       "      <td>TOSTADOR 2</td>\n",
       "      <td>0</td>\n",
       "    </tr>\n",
       "    <tr>\n",
       "      <th>2</th>\n",
       "      <td>2024-01-02</td>\n",
       "      <td>TOSTADOR 3</td>\n",
       "      <td>0</td>\n",
       "    </tr>\n",
       "    <tr>\n",
       "      <th>3</th>\n",
       "      <td>2024-01-02</td>\n",
       "      <td>TOSTADOR 5</td>\n",
       "      <td>0</td>\n",
       "    </tr>\n",
       "    <tr>\n",
       "      <th>4</th>\n",
       "      <td>2024-01-02</td>\n",
       "      <td>TOSTADOR 6</td>\n",
       "      <td>3</td>\n",
       "    </tr>\n",
       "  </tbody>\n",
       "</table>\n",
       "</div>"
      ],
      "text/plain": [
       "        Fecha   Tostador   # Baches perdidos\n",
       "0  2024-01-02  TOSTADOR 1                  0\n",
       "1  2024-01-02  TOSTADOR 2                  0\n",
       "2  2024-01-02  TOSTADOR 3                  0\n",
       "3  2024-01-02  TOSTADOR 5                  0\n",
       "4  2024-01-02  TOSTADOR 6                  3"
      ]
     },
     "execution_count": 99,
     "metadata": {},
     "output_type": "execute_result"
    }
   ],
   "source": [
    "df_conteo_baches_perdidos.head()"
   ]
  }
 ],
 "metadata": {
  "colab": {
   "authorship_tag": "ABX9TyNlW2FkDa0PSLtrYDEcfOAa",
   "provenance": []
  },
  "kernelspec": {
   "display_name": "Python 3",
   "name": "python3"
  },
  "language_info": {
   "codemirror_mode": {
    "name": "ipython",
    "version": 3
   },
   "file_extension": ".py",
   "mimetype": "text/x-python",
   "name": "python",
   "nbconvert_exporter": "python",
   "pygments_lexer": "ipython3",
   "version": "3.13.2"
  }
 },
 "nbformat": 4,
 "nbformat_minor": 0
}
